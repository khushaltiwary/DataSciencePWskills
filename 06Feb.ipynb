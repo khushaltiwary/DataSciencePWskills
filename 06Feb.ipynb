{
 "cells": [
  {
   "cell_type": "code",
   "execution_count": 2,
   "id": "a947932b-2212-439a-af0b-37e9f6836da4",
   "metadata": {},
   "outputs": [
    {
     "name": "stdout",
     "output_type": "stream",
     "text": [
      "0\n"
     ]
    }
   ],
   "source": [
    "# Q1.\n",
    "\n",
    "def product_of_numbers(lst):\n",
    "    flattened_list = []\n",
    "    for i in lst:\n",
    "        if isinstance(i, (int, float)):\n",
    "            flattened_list.append(i)\n",
    "        elif isinstance(i, (list, tuple, set)):\n",
    "            for j in i:\n",
    "                if isinstance(j, (int, float)):\n",
    "                    flattened_list.append(j)\n",
    "        elif isinstance(i, dict):\n",
    "            for k, v in i.items():\n",
    "                if isinstance(k, (int, float)):\n",
    "                    flattened_list.append(k)\n",
    "                if isinstance(v, (int, float)):\n",
    "                    flattened_list.append(v)\n",
    "    product = 1\n",
    "    for num in flattened_list:\n",
    "        product *= num\n",
    "    return product\n",
    "\n",
    "\n",
    "list1 = [1,2,3,4, [44,55,66, True], False, (34,56,78,89,34), {1,2,3,3,2,1}, {1:34, \"key2\": [55, 67, 78, 89], 4: (45, 22, 61, 34)}, [56, 'data science'], 'Machine Learning']\n",
    "print(product_of_numbers(list1))\n"
   ]
  },
  {
   "cell_type": "code",
   "execution_count": 8,
   "id": "d8754d6d-770f-48b1-a36d-0eff42c1e7d0",
   "metadata": {},
   "outputs": [
    {
     "name": "stdout",
     "output_type": "stream",
     "text": [
      "Original message: I want to become a Data Scientist.\n",
      "Encrypted message: R$dzmg$gl$yvxlnv$z$Wzgz$Hxrvmgrhg;.;\n"
     ]
    }
   ],
   "source": [
    "# Q2.\n",
    "\n",
    "def encrypt_message(message):\n",
    "    result = \"\"\n",
    "    for char in message:\n",
    "        if char.isalpha():\n",
    "            if char.islower():\n",
    "                result += chr(219 - ord(char)) # for lower case letters\n",
    "            else:\n",
    "                result += chr(155 - ord(char)) # for upper case letters\n",
    "        elif char == ' ':\n",
    "            result += '$' # replacing space with dollar sign\n",
    "        else:\n",
    "            result += ';.;' # for punctuation marks\n",
    "    return result\n",
    "\n",
    "# example usage\n",
    "message = \"I want to become a Data Scientist.\"\n",
    "encrypted_message = encrypt_message(message)\n",
    "print(\"Original message:\", message)\n",
    "print(\"Encrypted message:\", encrypted_message)\n"
   ]
  },
  {
   "cell_type": "code",
   "execution_count": null,
   "id": "ff15714d-da28-4d02-b022-457df0728188",
   "metadata": {},
   "outputs": [],
   "source": []
  }
 ],
 "metadata": {
  "kernelspec": {
   "display_name": "Python 3 (ipykernel)",
   "language": "python",
   "name": "python3"
  },
  "language_info": {
   "codemirror_mode": {
    "name": "ipython",
    "version": 3
   },
   "file_extension": ".py",
   "mimetype": "text/x-python",
   "name": "python",
   "nbconvert_exporter": "python",
   "pygments_lexer": "ipython3",
   "version": "3.10.8"
  }
 },
 "nbformat": 4,
 "nbformat_minor": 5
}
