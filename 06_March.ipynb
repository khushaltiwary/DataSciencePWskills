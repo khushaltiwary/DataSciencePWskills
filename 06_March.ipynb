{
 "cells": [
  {
   "cell_type": "code",
   "execution_count": null,
   "id": "bd27728a-0375-4f88-828c-654504beae7b",
   "metadata": {},
   "outputs": [],
   "source": [
    "Q1. What is Statistics?"
   ]
  },
  {
   "cell_type": "code",
   "execution_count": null,
   "id": "33bf482b-6f6b-4a46-a8de-edc22562dfac",
   "metadata": {},
   "outputs": [],
   "source": [
    "Statistics is a branch of mathematics that deals with collecting, analyzing, interpreting, and presenting data."
   ]
  },
  {
   "cell_type": "code",
   "execution_count": null,
   "id": "03d134a7-8db6-43fe-aec0-0ac65c5c4663",
   "metadata": {},
   "outputs": [],
   "source": [
    "Q2. Define the different types of statistics and give an example of when each type might be used."
   ]
  },
  {
   "cell_type": "code",
   "execution_count": null,
   "id": "22b821c5-4ff0-4e8a-a1dc-4ecc60fafdfc",
   "metadata": {},
   "outputs": [],
   "source": [
    "1.Descriptive statistics: Descriptive statistics involves summarizing and describing the features of a dataset. \n",
    "It helps to understand the characteristics of the data and provides a way to communicate the important aspects of the data to others.\n",
    "2.Inferential statistics: Inferential statistics involves making inferences about a population based on a sample of data.\n",
    "It helps to draw conclusions about the population based on a representative sample of data."
   ]
  },
  {
   "cell_type": "code",
   "execution_count": null,
   "id": "48bd047e-7f90-4042-a5c5-b6c73ac390ef",
   "metadata": {},
   "outputs": [],
   "source": [
    "Q3. What are the different types of data and how do they differ from each other? Provide an example of\n",
    "each type of data."
   ]
  },
  {
   "cell_type": "code",
   "execution_count": null,
   "id": "a2585ff2-c1cc-47d1-87ac-a1f2d7e09e9a",
   "metadata": {},
   "outputs": [],
   "source": [
    "Quantitative data:\n",
    "    Quantitative data is numerical data that can be measured or counted. \n",
    "    It can be further divided into two subcategories:\n",
    "Discrete data: Discrete data consists of individual, separate values that cannot be subdivided into smaller units. It usually represents counts of things or events.\n",
    "Example: The number of students in a classroom is discrete data.\n",
    "\n",
    "Continuous data: Continuous data consists of values that can take on any numerical value within a certain range. It is usually measured on a scale.\n",
    "Example: The height of students in a classroom is continuous data.\n",
    "\n",
    "\n",
    "Qualitative data: Qualitative data is non-numerical data that cannot be measured or counted. It is usually based on characteristics, attributes, or qualities.\n",
    "Nominal data: Nominal data consists of categories or labels that cannot be ranked or ordered. It usually represents qualitative characteristics.\n",
    "Example: The colors of flowers in a garden are nominal data.\n",
    "\n",
    "Ordinal data: Ordinal data consists of categories that can be ranked or ordered. It usually represents qualitative characteristics.\n",
    "Example: The rankings of students in a competition are ordinal data."
   ]
  },
  {
   "cell_type": "code",
   "execution_count": null,
   "id": "9ebe81fa-b82d-4380-8652-b55b5cf48c3b",
   "metadata": {},
   "outputs": [],
   "source": [
    "Q4. Categorise the following datasets with respect to quantitative and qualitative data types:\n",
    "(i) Grading in exam: A+, A, B+, B, C+, C, D, E\n",
    "(ii) Colour of mangoes: yellow, green, orange, red\n",
    "(iii) Height data of a class: [178.9, 179, 179.5, 176, 177.2, 178.3, 175.8,...]\n",
    "(iv) Number of mangoes exported by a farm: [500, 600, 478, 672, ...]"
   ]
  },
  {
   "cell_type": "code",
   "execution_count": null,
   "id": "14f9aa36-d829-44c0-bb61-61c49ec7cf34",
   "metadata": {},
   "outputs": [],
   "source": [
    "Ans : Qualitative,Qualitative,Quantitative,Quantitative"
   ]
  },
  {
   "cell_type": "code",
   "execution_count": null,
   "id": "3d3456d5-2565-4050-9e90-b2e8fa237550",
   "metadata": {},
   "outputs": [],
   "source": [
    "Q5. Explain the concept of levels of measurement and give an example of a variable for each level."
   ]
  },
  {
   "cell_type": "code",
   "execution_count": null,
   "id": "53325dc2-1bc4-4afb-a93b-eddb2777b39f",
   "metadata": {},
   "outputs": [],
   "source": [
    "Nominal level: Variables at the nominal level of measurement are categorical and cannot be ranked or ordered. They are typically represented by labels or names.\n",
    "Example: Gender is a nominal variable, as it consists of two categories - male and female.\n",
    "\n",
    "Ordinal level: Variables at the ordinal level of measurement are categorical and can be ranked or ordered. However, the differences between categories are not necessarily equal.\n",
    "Example: Letter grades such as A, B, C, etc. can be ordered, but the difference between A and B may not be the same as the difference between B and C.\n",
    "\n",
    "Interval level: Variables at the interval level of measurement are numeric and can be ordered, and the differences between values are equal. However, there is no true zero point.\n",
    "Example: Temperature in degrees Celsius is an interval variable, as there is no true zero point (absolute zero is -273.15 degrees Celsius) and the differences between values are equal.\n",
    "\n",
    "Ratio level: Variables at the ratio level of measurement are numeric and have a true zero point, meaning that zero represents the complete absence of the variable. They can be ordered and the differences between values are equal.\n",
    "Example: Weight in kilograms is a ratio variable, as zero kilograms represents the complete absence of weight and the differences between values are equal."
   ]
  },
  {
   "cell_type": "code",
   "execution_count": null,
   "id": "a7f42e88-e9db-4c62-9335-2d3127ca59fe",
   "metadata": {},
   "outputs": [],
   "source": [
    "Q6. Why is it important to understand the level of measurement when analyzing data? Provide an\n",
    "example to illustrate your answer."
   ]
  },
  {
   "cell_type": "code",
   "execution_count": null,
   "id": "03f63d99-1979-4bd5-b779-b68e6f98a1e7",
   "metadata": {},
   "outputs": [],
   "source": [
    "Understanding the level of measurement of a variable is important when analyzing data because it determines the type of statistical analysis that can be applied to the data..\n",
    "Different statistical tests are appropriate for different levels of measurement, and using the wrong test can lead to inaccurate conclusions"
   ]
  },
  {
   "cell_type": "code",
   "execution_count": null,
   "id": "c0872c3f-3f9b-43e9-8751-be06d996544d",
   "metadata": {},
   "outputs": [],
   "source": [
    "Q7. How nominal data type is different from ordinal data type."
   ]
  },
  {
   "cell_type": "code",
   "execution_count": null,
   "id": "8d6d2317-fb12-4307-9b52-12098527df8d",
   "metadata": {},
   "outputs": [],
   "source": [
    "Nominal data and ordinal data are two different types of categorical data.\n",
    "The main difference between nominal data and ordinal data is that nominal data are categories without any inherent order,\n",
    "while ordinal data are categories with a natural order or ranking."
   ]
  },
  {
   "cell_type": "code",
   "execution_count": null,
   "id": "e5d8fe63-7cfb-4934-990b-99ecbe696c00",
   "metadata": {},
   "outputs": [],
   "source": [
    "Q8. Which type of plot can be used to display data in terms of range?"
   ]
  },
  {
   "cell_type": "code",
   "execution_count": null,
   "id": "ab301096-8cee-4386-97e8-c88b1160bb1c",
   "metadata": {},
   "outputs": [],
   "source": [
    " box plot"
   ]
  },
  {
   "cell_type": "code",
   "execution_count": null,
   "id": "9df3533b-39d4-4309-a38f-27fe102b5b35",
   "metadata": {},
   "outputs": [],
   "source": [
    "Q9. Describe the difference between descriptive and inferential statistics. Give an example of each\n",
    "type of statistics and explain how they are used."
   ]
  },
  {
   "cell_type": "code",
   "execution_count": null,
   "id": "36eaf761-8bdf-4b75-9553-b2fb654d4f42",
   "metadata": {},
   "outputs": [],
   "source": [
    "1.Descriptive statistics: Descriptive statistics involves summarizing and describing the features of a dataset. \n",
    "It helps to understand the characteristics of the data and provides a way to communicate the important aspects of the data to others.\n",
    "2.Inferential statistics: Inferential statistics involves making inferences about a population based on a sample of data.\n",
    "It helps to draw conclusions about the population based on a representative sample of data."
   ]
  },
  {
   "cell_type": "code",
   "execution_count": null,
   "id": "4ef651e8-7d73-4d54-b66c-06e0811432ac",
   "metadata": {},
   "outputs": [],
   "source": [
    "Q10. What are some common measures of central tendency and variability used in statistics? Explain\n",
    "how each measure can be used to describe a dataset."
   ]
  },
  {
   "cell_type": "code",
   "execution_count": null,
   "id": "e2463905-ffdb-4bdf-b5d7-d4475effa615",
   "metadata": {},
   "outputs": [],
   "source": [
    "Mean: the arithmetic average of a dataset, calculated by summing all the values and dividing by the number of observations.\n",
    "The mean is sensitive to outliers and can be skewed by extreme values.\n",
    "\n",
    "Median: the middle value of a dataset when the values are arranged in order. \n",
    "The median is less sensitive to outliers than the mean and provides a more robust measure of central tendency.\n",
    "\n",
    "Mode: the most frequently occurring value in a dataset. \n",
    "The mode is useful for describing categorical data and is also used for describing multimodal distributions.\n",
    "\n",
    "Range: the difference between the maximum and minimum values in a dataset. The range provides a quick and easy measure of variability but can be sensitive to outliers.\n",
    "Standard deviation: a measure of the spread of a dataset around the mean. The standard deviation is the square root of the variance and provides a more precise measure of variability than the range.\n",
    "Interquartile range: a measure of the spread of a dataset around the median, calculated as the difference between the third quartile and the first quartile. The interquartile range is less sensitive to outliers than the range and provides a more robust measure of variability."
   ]
  },
  {
   "cell_type": "code",
   "execution_count": null,
   "id": "72ac7518-0e56-465a-a5f3-a61d77eb912d",
   "metadata": {},
   "outputs": [],
   "source": []
  },
  {
   "cell_type": "code",
   "execution_count": null,
   "id": "11240d1c-1a9e-444c-aa58-41d1de11e11f",
   "metadata": {},
   "outputs": [],
   "source": []
  }
 ],
 "metadata": {
  "kernelspec": {
   "display_name": "Python 3 (ipykernel)",
   "language": "python",
   "name": "python3"
  },
  "language_info": {
   "codemirror_mode": {
    "name": "ipython",
    "version": 3
   },
   "file_extension": ".py",
   "mimetype": "text/x-python",
   "name": "python",
   "nbconvert_exporter": "python",
   "pygments_lexer": "ipython3",
   "version": "3.10.8"
  }
 },
 "nbformat": 4,
 "nbformat_minor": 5
}
