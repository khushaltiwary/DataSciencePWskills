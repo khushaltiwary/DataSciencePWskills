{
 "cells": [
  {
   "cell_type": "code",
   "execution_count": 5,
   "id": "d328a910-a2bb-41f8-a109-1bff50bde4fa",
   "metadata": {},
   "outputs": [
    {
     "name": "stdout",
     "output_type": "stream",
     "text": [
      "Invalid Password\n"
     ]
    }
   ],
   "source": [
    "# Q1\n",
    "\n",
    "import re\n",
    "\n",
    "def check_password(password):\n",
    "    # Check length\n",
    "    if len(password) != 10:\n",
    "        return \"Invalid Password\"\n",
    "    \n",
    "    # Check for lowercase letters\n",
    "    if len(re.findall(r'[a-z]', password)) < 2:\n",
    "        return \"Invalid Password\"\n",
    "    \n",
    "    # Check for uppercase letters\n",
    "    if len(re.findall(r'[A-Z]', password)) < 2:\n",
    "        return \"Invalid Password\"\n",
    "    \n",
    "    # Check for digits\n",
    "    if len(re.findall(r'\\d', password)) < 1:\n",
    "        return \"Invalid Password\"\n",
    "    \n",
    "    # Check for special characters\n",
    "    if len(re.findall(r'[!@#$%^&*(),.?\":{}|<>]', password)) < 3:\n",
    "        return \"Invalid Password\"\n",
    "    \n",
    "    # Password meets all requirements\n",
    "    return \"Valid Password\"\n",
    "\n",
    "\n",
    "password = \"Abcd123!@#\"\n",
    "result = check_password(password)\n",
    "print(result) # Valid Password\n",
    "\n"
   ]
  },
  {
   "cell_type": "code",
   "execution_count": null,
   "id": "fb49e410-45cc-40c6-90d9-6e16de4f364a",
   "metadata": {},
   "outputs": [],
   "source": [
    "# Q2\n",
    "\n",
    "# # Check if the string starts with a particular letter\n",
    "# Using list comprehension:\n",
    "    \n",
    "strings = [\"apple\", \"banana\", \"cherry\", \"date\"]\n",
    "char = 'b'\n",
    "result = [s for s in strings if s.startswith(char)]\n",
    "print(result)\n",
    "\n",
    "\n",
    "# Using filter function:\n",
    "\n",
    "strings = [\"apple\", \"banana\", \"cherry\", \"date\"]\n",
    "char = 'b'\n",
    "result = list(filter(lambda s: s.startswith(char), strings))\n",
    "print(result)\n",
    "\n",
    "\n",
    "\n",
    "# # Check if the string is numeric\n",
    "# Using lambda function:\n",
    "\n",
    "s = '1234'\n",
    "result = lambda s: s.isnumeric()\n",
    "print(result(s))\n",
    "\n",
    "\n",
    "# Using try-except block:\n",
    "s = '1234'\n",
    "try:\n",
    "    int(s)\n",
    "    result = True\n",
    "except:\n",
    "    result = False\n",
    "print(result)\n",
    "\n",
    "\n",
    "# Sort a list of tuples having fruit names and their quantity\n",
    "# Using lambda function:\n",
    "\n",
    "fruits = [(\"mango\",99),(\"orange\",80), (\"grapes\", 1000)]\n",
    "fruits.sort(key=lambda x: x[1])\n",
    "print(fruits)\n",
    "\n",
    "\n"
   ]
  }
 ],
 "metadata": {
  "kernelspec": {
   "display_name": "Python 3 (ipykernel)",
   "language": "python",
   "name": "python3"
  },
  "language_info": {
   "codemirror_mode": {
    "name": "ipython",
    "version": 3
   },
   "file_extension": ".py",
   "mimetype": "text/x-python",
   "name": "python",
   "nbconvert_exporter": "python",
   "pygments_lexer": "ipython3",
   "version": "3.10.8"
  }
 },
 "nbformat": 4,
 "nbformat_minor": 5
}
