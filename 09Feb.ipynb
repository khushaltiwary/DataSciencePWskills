{
 "cells": [
  {
   "cell_type": "code",
   "execution_count": 1,
   "id": "7b11a190-9116-45a8-8dc6-8acd3abd5351",
   "metadata": {},
   "outputs": [
    {
     "name": "stdout",
     "output_type": "stream",
     "text": [
      "Tesla Model S\n",
      "200\n",
      "120\n"
     ]
    }
   ],
   "source": [
    "# Q1\n",
    "\n",
    "class Vehicle:\n",
    "    def __init__(self, name, max_speed, avg_speed):\n",
    "        self.name_of_vehicle = name\n",
    "        self.max_speed = max_speed\n",
    "        self.average_of_vehicle = avg_speed\n",
    "\n",
    "car = Vehicle(\"Tesla Model S\", 200, 120)\n",
    "print(car.name_of_vehicle)    # Output: \"Tesla Model S\"\n",
    "print(car.max_speed)          # Output: 200\n",
    "print(car.average_of_vehicle) # Output: 120\n"
   ]
  },
  {
   "cell_type": "code",
   "execution_count": 2,
   "id": "1cb54cb9-5b43-4286-815e-bd8f9a460882",
   "metadata": {},
   "outputs": [
    {
     "name": "stdout",
     "output_type": "stream",
     "text": [
      "Tesla Model S has a seating capacity of 5 people.\n"
     ]
    }
   ],
   "source": [
    "class Car(Vehicle):\n",
    "    def __init__(self, name, max_speed, avg_speed):\n",
    "        super().__init__(name, max_speed, avg_speed)\n",
    "\n",
    "    def seating_capacity(self, capacity):\n",
    "        return f\"{self.name_of_vehicle} has a seating capacity of {capacity} people.\"\n",
    "\n",
    "car = Car(\"Tesla Model S\", 200, 120)\n",
    "print(car.seating_capacity(5)) # Output: \"Tesla Model S has a seating capacity of 5 people.\"\n"
   ]
  },
  {
   "cell_type": "markdown",
   "id": "050d8e17-b1ae-4ea4-9858-cb697b943c57",
   "metadata": {},
   "source": [
    "Q3\n",
    "\n",
    "Multiple inheritance is a feature in object-oriented programming where a class can inherit from multiple base classes. This allows the derived class to have the features of all the base classes.\n",
    "\n",
    "Here's an example of a Python code that demonstrates multiple inheritance:"
   ]
  },
  {
   "cell_type": "code",
   "execution_count": 3,
   "id": "3cdec037-6141-4130-a7db-a3c5c53863d9",
   "metadata": {},
   "outputs": [
    {
     "name": "stdout",
     "output_type": "stream",
     "text": [
      "Animal is speaking...\n",
      "Mammal is walking...\n",
      "Buddy is barking...\n"
     ]
    }
   ],
   "source": [
    "class Animal:\n",
    "    def speak(self):\n",
    "        print(\"Animal is speaking...\")\n",
    "\n",
    "class Mammal:\n",
    "    def walk(self):\n",
    "        print(\"Mammal is walking...\")\n",
    "\n",
    "class Dog(Animal, Mammal):\n",
    "    def __init__(self, name):\n",
    "        self.name = name\n",
    "\n",
    "    def bark(self):\n",
    "        print(f\"{self.name} is barking...\")\n",
    "\n",
    "dog = Dog(\"Buddy\")\n",
    "dog.speak() # Output: \"Animal is speaking...\"\n",
    "dog.walk()  # Output: \"Mammal is walking...\"\n",
    "dog.bark()  # Output: \"Buddy is barking...\"\n"
   ]
  },
  {
   "cell_type": "markdown",
   "id": "a05f4fdc-b4bd-4ece-b0b3-bfdd2f501cd0",
   "metadata": {},
   "source": [
    "Q4\n",
    "\n",
    "In Python, getter and setter methods are used to access and modify the private attributes of a class. The getter method is used to access the value of a private attribute, while the setter method is used to set the value of a private attribute.\n",
    "\n",
    "Here's an example of a Python class with a getter and a setter method:"
   ]
  },
  {
   "cell_type": "code",
   "execution_count": 5,
   "id": "a7f30bd5-4b36-4b00-8cf8-c15ca51231fd",
   "metadata": {},
   "outputs": [
    {
     "name": "stdout",
     "output_type": "stream",
     "text": [
      "John\n",
      "Jane\n",
      "30\n",
      "35\n"
     ]
    }
   ],
   "source": [
    "class Person:\n",
    "    def __init__(self, name, age):\n",
    "        self._name = name\n",
    "        self._age = age\n",
    "\n",
    "    # Getter method\n",
    "    def get_name(self):\n",
    "        return self._name\n",
    "\n",
    "    # Setter method\n",
    "    def set_name(self, name):\n",
    "        self._name = name\n",
    "\n",
    "    # Getter method\n",
    "    def get_age(self):\n",
    "        return self._age\n",
    "\n",
    "    # Setter method\n",
    "    def set_age(self, age):\n",
    "        self._age = age\n",
    "        \n",
    "        \n",
    "person = Person(\"John\", 30)\n",
    "print(person.get_name())  # Output: \"John\"\n",
    "person.set_name(\"Jane\")\n",
    "print(person.get_name())  # Output: \"Jane\"\n",
    "print(person.get_age())   # Output: 30\n",
    "person.set_age(35)\n",
    "print(person.get_age())   # Output: 35\n",
    "\n"
   ]
  },
  {
   "cell_type": "markdown",
   "id": "4efe7470-d528-45c8-9437-cb43b6036903",
   "metadata": {},
   "source": [
    "Q4\n",
    "\n",
    "Method overriding is a feature in object-oriented programming where a subclass can provide its own implementation for a method that is already defined in its parent class. This allows the subclass to modify the behavior of the method inherited from the parent class.\n"
   ]
  },
  {
   "cell_type": "code",
   "execution_count": 6,
   "id": "0eff09af-8cfe-47bb-994c-06e8c19bf6aa",
   "metadata": {},
   "outputs": [
    {
     "name": "stdout",
     "output_type": "stream",
     "text": [
      "Animal is speaking...\n",
      "Dog is barking...\n"
     ]
    }
   ],
   "source": [
    "class Animal:\n",
    "    def speak(self):\n",
    "        print(\"Animal is speaking...\")\n",
    "\n",
    "class Dog(Animal):\n",
    "    def speak(self):\n",
    "        print(\"Dog is barking...\")\n",
    "\n",
    "animal = Animal()\n",
    "dog = Dog()\n",
    "\n",
    "animal.speak() # Output: \"Animal is speaking...\"\n",
    "dog.speak()    # Output: \"Dog is barking...\"\n"
   ]
  },
  {
   "cell_type": "code",
   "execution_count": null,
   "id": "bca58e22-f009-4b7e-8a98-b358a37d5a03",
   "metadata": {},
   "outputs": [],
   "source": []
  }
 ],
 "metadata": {
  "kernelspec": {
   "display_name": "Python 3 (ipykernel)",
   "language": "python",
   "name": "python3"
  },
  "language_info": {
   "codemirror_mode": {
    "name": "ipython",
    "version": 3
   },
   "file_extension": ".py",
   "mimetype": "text/x-python",
   "name": "python",
   "nbconvert_exporter": "python",
   "pygments_lexer": "ipython3",
   "version": "3.10.8"
  }
 },
 "nbformat": 4,
 "nbformat_minor": 5
}
