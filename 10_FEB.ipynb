{
 "cells": [
  {
   "cell_type": "code",
   "execution_count": 1,
   "id": "7ba74eca-ae1d-43b8-bb9b-64c78e7f403b",
   "metadata": {},
   "outputs": [],
   "source": [
    "Q1. Which function is used to open a file? What are the different modes of opening a file? Explain each mode\n",
    "of file opening."
   ]
  },
  {
   "cell_type": "code",
   "execution_count": null,
   "id": "a58028c3-65e4-4b65-b772-2e781995637b",
   "metadata": {},
   "outputs": [],
   "source": [
    "Answer::\n",
    "    1.Read Only (‘r’) : Open text file for reading. The handle is positioned at the beginning of the file. If the file does not exists, raises the I/O error. This is also the default mode in which a file is opened.\n",
    "2.Read and Write (‘r+’): Open the file for reading and writing. The handle is positioned at the beginning of the file. Raises I/O error if the file does not exist.\n",
    "3.Write Only (‘w’) : Open the file for writing. For the existing files, the data is truncated and over-written. The handle is positioned at the beginning of the file. Creates the file if the file does not exist.\n",
    "4.Write and Read (‘w+’) : Open the file for reading and writing. For an existing file, data is truncated and over-written. The handle is positioned at the beginning of the file.\n",
    "5.Append Only (‘a’): Open the file for writing. The file is created if it does not exist. The handle is positioned at the end of the file. The data being written will be inserted at the end, after the existing data.\n",
    "6.Append and Read (‘a+’) : Open the file for reading and writing. The file is created if it does not exist. The handle is positioned at the end of the file. The data being written will be inserted at the end, after the existing data."
   ]
  },
  {
   "cell_type": "code",
   "execution_count": null,
   "id": "65dedca3-8d41-46de-aebf-877f9413c20d",
   "metadata": {},
   "outputs": [],
   "source": [
    "Q2. Why close() function is used? Why is it important to close a file?"
   ]
  },
  {
   "cell_type": "code",
   "execution_count": null,
   "id": "b2b65d2a-4c6c-47c6-bfc5-bca4399d6dd6",
   "metadata": {},
   "outputs": [],
   "source": [
    "Answer::\n",
    "    changes made to a file may not show until you close the file."
   ]
  },
  {
   "cell_type": "code",
   "execution_count": null,
   "id": "94bc0d26-1c26-4f0a-b4d6-f8bfd049897b",
   "metadata": {},
   "outputs": [],
   "source": [
    "Q3. Write a python program to create a text file. Write ‘I want to become a Data Scientist’ in that file. Then\n",
    "close the file. Open this file and read the content of the file."
   ]
  },
  {
   "cell_type": "code",
   "execution_count": 4,
   "id": "a00b2717-eb5a-4f98-a7bb-9c97fd0185c5",
   "metadata": {},
   "outputs": [],
   "source": [
    "file = open(\"class.txt\",'w')"
   ]
  },
  {
   "cell_type": "code",
   "execution_count": 7,
   "id": "2de7daec-8522-45fc-83f0-ebf319880144",
   "metadata": {},
   "outputs": [
    {
     "data": {
      "text/plain": [
       "33"
      ]
     },
     "execution_count": 7,
     "metadata": {},
     "output_type": "execute_result"
    }
   ],
   "source": [
    "file.write(\"I want to become a Data Scientist\")"
   ]
  },
  {
   "cell_type": "code",
   "execution_count": 8,
   "id": "1ba9ffdf-8ad0-4606-8e87-922d5d5dc206",
   "metadata": {},
   "outputs": [],
   "source": [
    "file = open(\"class.txt\",'r')"
   ]
  },
  {
   "cell_type": "code",
   "execution_count": 9,
   "id": "5bff3fba-f9c3-40a8-9068-cabbd7ddab07",
   "metadata": {},
   "outputs": [
    {
     "data": {
      "text/plain": [
       "'I want to become a Data Scientist'"
      ]
     },
     "execution_count": 9,
     "metadata": {},
     "output_type": "execute_result"
    }
   ],
   "source": [
    "file.read()"
   ]
  },
  {
   "cell_type": "code",
   "execution_count": 10,
   "id": "891b01fa-07ba-44d8-b759-7cad43309c41",
   "metadata": {},
   "outputs": [],
   "source": [
    "file.close()"
   ]
  },
  {
   "cell_type": "code",
   "execution_count": null,
   "id": "f2405580-2b02-456d-9843-74ef00d6fbea",
   "metadata": {},
   "outputs": [],
   "source": [
    "Q4. Explain the following with python code: read(), readline() and readlines()."
   ]
  },
  {
   "cell_type": "code",
   "execution_count": 11,
   "id": "39a2695b-d266-4565-b151-a199c70c34a4",
   "metadata": {},
   "outputs": [],
   "source": [
    "file = open(\"class1.txt\",'w')"
   ]
  },
  {
   "cell_type": "code",
   "execution_count": 13,
   "id": "975aba25-f5e8-4313-a9cb-1f713141ca81",
   "metadata": {},
   "outputs": [
    {
     "data": {
      "text/plain": [
       "147"
      ]
     },
     "execution_count": 13,
     "metadata": {},
     "output_type": "execute_result"
    }
   ],
   "source": [
    "file.write(\" The readlines() function reads till the End of the file making use of readline() function internally and returns a list that has all the lines ...\")"
   ]
  },
  {
   "cell_type": "code",
   "execution_count": 14,
   "id": "6a7cf50f-5926-433a-953b-0dd505cb16c6",
   "metadata": {},
   "outputs": [],
   "source": [
    "file = open(\"class1.txt\",'r')"
   ]
  },
  {
   "cell_type": "code",
   "execution_count": 15,
   "id": "45914b11-a656-40f2-ae09-f381a260e74a",
   "metadata": {},
   "outputs": [
    {
     "data": {
      "text/plain": [
       "' The readlines() function reads till the End of the file making use of readline() function internally and returns a list that has all the lines ...'"
      ]
     },
     "execution_count": 15,
     "metadata": {},
     "output_type": "execute_result"
    }
   ],
   "source": [
    "file.read()"
   ]
  },
  {
   "cell_type": "code",
   "execution_count": 17,
   "id": "d8078417-6d10-4aaf-825f-9b5b38f786af",
   "metadata": {},
   "outputs": [
    {
     "data": {
      "text/plain": [
       "0"
      ]
     },
     "execution_count": 17,
     "metadata": {},
     "output_type": "execute_result"
    }
   ],
   "source": [
    "file.seek(0)"
   ]
  },
  {
   "cell_type": "code",
   "execution_count": 18,
   "id": "fcfa6796-ec56-431e-b12a-28897f8bdd71",
   "metadata": {},
   "outputs": [
    {
     "data": {
      "text/plain": [
       "' The readlines() function reads till the End of the file making use of readline() function internally and returns a list that has all the lines ...'"
      ]
     },
     "execution_count": 18,
     "metadata": {},
     "output_type": "execute_result"
    }
   ],
   "source": [
    "file.readline()"
   ]
  },
  {
   "cell_type": "code",
   "execution_count": 23,
   "id": "641d8124-c97f-473f-9b03-95c0a026bce2",
   "metadata": {},
   "outputs": [
    {
     "data": {
      "text/plain": [
       "2"
      ]
     },
     "execution_count": 23,
     "metadata": {},
     "output_type": "execute_result"
    }
   ],
   "source": [
    "file.seek(2)"
   ]
  },
  {
   "cell_type": "code",
   "execution_count": 24,
   "id": "7e5b579e-c70f-4551-9fe5-c6bdb5d8447a",
   "metadata": {},
   "outputs": [
    {
     "data": {
      "text/plain": [
       "['he readlines() function reads till the End of the file making use of readline() function internally and returns a list that has all the lines ...']"
      ]
     },
     "execution_count": 24,
     "metadata": {},
     "output_type": "execute_result"
    }
   ],
   "source": [
    "file.readlines(33)"
   ]
  },
  {
   "cell_type": "code",
   "execution_count": null,
   "id": "6130196b-4efa-441f-8158-94070b0d55b1",
   "metadata": {},
   "outputs": [],
   "source": [
    "Q5. Explain why with statement is used with open(). What is the advantage of using with statement and\n",
    "open() together?"
   ]
  },
  {
   "cell_type": "code",
   "execution_count": null,
   "id": "d4a0a2e1-772b-4a5b-b252-e49b90edad7c",
   "metadata": {},
   "outputs": [],
   "source": [
    "Answer::\n",
    "    it opens a file for you so you can work with the file. \n",
    "Using with means that the file will be closed as soon as you leave the block. "
   ]
  },
  {
   "cell_type": "code",
   "execution_count": null,
   "id": "1b0e7360-b458-471e-a46e-e09024ee44c7",
   "metadata": {},
   "outputs": [],
   "source": [
    "Q6. Explain the write() and writelines() functions. Give a suitable example."
   ]
  },
  {
   "cell_type": "code",
   "execution_count": 25,
   "id": "9b16267a-16c4-4e3e-9723-9a94f3e75a53",
   "metadata": {},
   "outputs": [],
   "source": [
    "f = open(\"demofile3.txt\", \"a\")\n",
    "f.writelines([\"See you soon!\", \"Over and out.\"])\n",
    "f.close()"
   ]
  },
  {
   "cell_type": "code",
   "execution_count": null,
   "id": "d7124b6e-fcaa-4b2f-b94d-d3a61827fb92",
   "metadata": {},
   "outputs": [],
   "source": []
  }
 ],
 "metadata": {
  "kernelspec": {
   "display_name": "Python 3 (ipykernel)",
   "language": "python",
   "name": "python3"
  },
  "language_info": {
   "codemirror_mode": {
    "name": "ipython",
    "version": 3
   },
   "file_extension": ".py",
   "mimetype": "text/x-python",
   "name": "python",
   "nbconvert_exporter": "python",
   "pygments_lexer": "ipython3",
   "version": "3.10.8"
  }
 },
 "nbformat": 4,
 "nbformat_minor": 5
}
