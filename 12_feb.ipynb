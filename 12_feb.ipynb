{
 "cells": [
  {
   "cell_type": "code",
   "execution_count": 10,
   "id": "ba0424cd-9478-4a07-9b9d-0f12ef930f6b",
   "metadata": {},
   "outputs": [],
   "source": []
  },
  {
   "cell_type": "code",
   "execution_count": null,
   "id": "f9fb7bd7-bf1a-47e0-a6aa-d5fc76b28e0c",
   "metadata": {},
   "outputs": [],
   "source": [
    "Q1. What is an Exception in python? Write the difference between Exceptionsnd and syntax errors?"
   ]
  },
  {
   "cell_type": "code",
   "execution_count": null,
   "id": "e003ad0f-1e70-405a-b035-676690b886e6",
   "metadata": {},
   "outputs": [],
   "source": [
    "ANS::\n",
    "    Errors are the problems in a program due to which the program will stop the execution.\n",
    "On the other hand, exceptions are raised when some internal events occur which changes the normal flow of the program."
   ]
  },
  {
   "cell_type": "code",
   "execution_count": null,
   "id": "6740eae9-0d3c-461c-8681-66b6d3bbe42f",
   "metadata": {},
   "outputs": [],
   "source": [
    "Q2. What happens whenn exception is not handled? Explain within example"
   ]
  },
  {
   "cell_type": "code",
   "execution_count": null,
   "id": "41c2cdc2-98ce-465b-b4f6-7a117052863d",
   "metadata": {},
   "outputs": [],
   "source": [
    "When an exception occurred, \n",
    "if you dont handle it, the program terminates abruptly and the code past the line that caused the exception will not get executed"
   ]
  },
  {
   "cell_type": "code",
   "execution_count": 11,
   "id": "5df398d4-6965-455a-83df-cf11b33bb6bb",
   "metadata": {},
   "outputs": [
    {
     "ename": "SyntaxError",
     "evalue": "incomplete input (4824627.py, line 4)",
     "output_type": "error",
     "traceback": [
      "\u001b[0;36m  Cell \u001b[0;32mIn[11], line 4\u001b[0;36m\u001b[0m\n\u001b[0;31m    print(data)\u001b[0m\n\u001b[0m               ^\u001b[0m\n\u001b[0;31mSyntaxError\u001b[0m\u001b[0;31m:\u001b[0m incomplete input\n"
     ]
    }
   ],
   "source": [
    "try:\n",
    "    file = open(\"tttest.txt\",'r')\n",
    "    data = f.read()\n",
    "    print(data)\n"
   ]
  },
  {
   "cell_type": "code",
   "execution_count": 12,
   "id": "8dad84a7-beae-4d84-88f4-af89037c513f",
   "metadata": {},
   "outputs": [
    {
     "name": "stdout",
     "output_type": "stream",
     "text": [
      "[Errno 2] No such file or directory: 'tttest.txt'\n"
     ]
    }
   ],
   "source": [
    "try:\n",
    "    file = open(\"tttest.txt\",'r')\n",
    "    data = f.read()\n",
    "    print(data)\n",
    "except Exception as e:\n",
    "    print(e)"
   ]
  },
  {
   "cell_type": "code",
   "execution_count": null,
   "id": "8c8eca58-b863-457b-ab09-cf0786d1af9d",
   "metadata": {},
   "outputs": [],
   "source": [
    "Q3. Which Python statements are used to catch and handle exceptions? Explain within example"
   ]
  },
  {
   "cell_type": "code",
   "execution_count": null,
   "id": "33579059-ead6-4093-a7df-1d87c82ef31d",
   "metadata": {},
   "outputs": [],
   "source": [
    "Answer::\n",
    "    The try and except block in Python is used to catch and handle exceptions. "
   ]
  },
  {
   "cell_type": "code",
   "execution_count": 14,
   "id": "201429aa-f0d8-4e9d-9551-fcd24b6723b1",
   "metadata": {},
   "outputs": [
    {
     "name": "stdout",
     "output_type": "stream",
     "text": [
      "This is exceptiom\n"
     ]
    }
   ],
   "source": [
    "try:\n",
    "    file = open(\"tttest.txt\",'r')\n",
    "    data = f.read()\n",
    "    print(data)\n",
    "except Exception as e:\n",
    "    print(\"This is exceptiom\")"
   ]
  },
  {
   "cell_type": "code",
   "execution_count": null,
   "id": "92fb061d-bcaf-4605-b91f-044c355b0549",
   "metadata": {},
   "outputs": [],
   "source": [
    "Q4. Explin with an example:#\n",
    "\n",
    "1.try and else\n",
    "2.finally\n",
    "3.raise"
   ]
  },
  {
   "cell_type": "code",
   "execution_count": 19,
   "id": "04d37b5d-3f91-46d9-9fd4-4846d8d33f89",
   "metadata": {},
   "outputs": [
    {
     "name": "stdout",
     "output_type": "stream",
     "text": [
      "I executed\n"
     ]
    }
   ],
   "source": [
    "try:\n",
    "    file = open(\"tttest.txt\",'w')\n",
    "    data = file.write(\"I am write\")\n",
    "    \n",
    "except Exception as e:\n",
    "    print(\"This is exceptiom\")\n",
    "else:\n",
    "    file.close()\n",
    "    print(\"I executed\" )\n",
    "    "
   ]
  },
  {
   "cell_type": "code",
   "execution_count": 21,
   "id": "697e9f08-1eac-4d50-9dee-c21d2e6459f7",
   "metadata": {},
   "outputs": [
    {
     "name": "stdout",
     "output_type": "stream",
     "text": [
      "I will definetly execute\n"
     ]
    },
    {
     "ename": "FileNotFoundError",
     "evalue": "[Errno 2] No such file or directory: 'class.txt'",
     "output_type": "error",
     "traceback": [
      "\u001b[0;31m---------------------------------------------------------------------------\u001b[0m",
      "\u001b[0;31mFileNotFoundError\u001b[0m                         Traceback (most recent call last)",
      "Cell \u001b[0;32mIn[21], line 2\u001b[0m\n\u001b[1;32m      1\u001b[0m \u001b[38;5;28;01mtry\u001b[39;00m:\n\u001b[0;32m----> 2\u001b[0m     f \u001b[38;5;241m=\u001b[39m \u001b[38;5;28;43mopen\u001b[39;49m\u001b[43m(\u001b[49m\u001b[38;5;124;43m\"\u001b[39;49m\u001b[38;5;124;43mclass.txt\u001b[39;49m\u001b[38;5;124;43m\"\u001b[39;49m\u001b[43m,\u001b[49m\u001b[38;5;124;43m'\u001b[39;49m\u001b[38;5;124;43mr\u001b[39;49m\u001b[38;5;124;43m'\u001b[39;49m\u001b[43m)\u001b[49m\n\u001b[1;32m      3\u001b[0m     f\u001b[38;5;241m.\u001b[39mwrite()\n\u001b[1;32m      4\u001b[0m \u001b[38;5;28;01mfinally\u001b[39;00m:\n",
      "File \u001b[0;32m/opt/conda/lib/python3.10/site-packages/IPython/core/interactiveshell.py:282\u001b[0m, in \u001b[0;36m_modified_open\u001b[0;34m(file, *args, **kwargs)\u001b[0m\n\u001b[1;32m    275\u001b[0m \u001b[38;5;28;01mif\u001b[39;00m file \u001b[38;5;129;01min\u001b[39;00m {\u001b[38;5;241m0\u001b[39m, \u001b[38;5;241m1\u001b[39m, \u001b[38;5;241m2\u001b[39m}:\n\u001b[1;32m    276\u001b[0m     \u001b[38;5;28;01mraise\u001b[39;00m \u001b[38;5;167;01mValueError\u001b[39;00m(\n\u001b[1;32m    277\u001b[0m         \u001b[38;5;124mf\u001b[39m\u001b[38;5;124m\"\u001b[39m\u001b[38;5;124mIPython won\u001b[39m\u001b[38;5;124m'\u001b[39m\u001b[38;5;124mt let you open fd=\u001b[39m\u001b[38;5;132;01m{\u001b[39;00mfile\u001b[38;5;132;01m}\u001b[39;00m\u001b[38;5;124m by default \u001b[39m\u001b[38;5;124m\"\u001b[39m\n\u001b[1;32m    278\u001b[0m         \u001b[38;5;124m\"\u001b[39m\u001b[38;5;124mas it is likely to crash IPython. If you know what you are doing, \u001b[39m\u001b[38;5;124m\"\u001b[39m\n\u001b[1;32m    279\u001b[0m         \u001b[38;5;124m\"\u001b[39m\u001b[38;5;124myou can use builtins\u001b[39m\u001b[38;5;124m'\u001b[39m\u001b[38;5;124m open.\u001b[39m\u001b[38;5;124m\"\u001b[39m\n\u001b[1;32m    280\u001b[0m     )\n\u001b[0;32m--> 282\u001b[0m \u001b[38;5;28;01mreturn\u001b[39;00m \u001b[43mio_open\u001b[49m\u001b[43m(\u001b[49m\u001b[43mfile\u001b[49m\u001b[43m,\u001b[49m\u001b[43m \u001b[49m\u001b[38;5;241;43m*\u001b[39;49m\u001b[43margs\u001b[49m\u001b[43m,\u001b[49m\u001b[43m \u001b[49m\u001b[38;5;241;43m*\u001b[39;49m\u001b[38;5;241;43m*\u001b[39;49m\u001b[43mkwargs\u001b[49m\u001b[43m)\u001b[49m\n",
      "\u001b[0;31mFileNotFoundError\u001b[0m: [Errno 2] No such file or directory: 'class.txt'"
     ]
    }
   ],
   "source": [
    "try:\n",
    "    f = open(\"class.txt\",'r')\n",
    "    f.write()\n",
    "finally:\n",
    "    print(\"I will definetly execute\")"
   ]
  },
  {
   "cell_type": "code",
   "execution_count": 6,
   "id": "594aee31-eab1-4f12-89c1-28ebdb2cc75e",
   "metadata": {},
   "outputs": [],
   "source": [
    "class student(Exception):\n",
    "    \n",
    "    def __init__(self , msg) : \n",
    "        self.msg = msg"
   ]
  },
  {
   "cell_type": "code",
   "execution_count": 7,
   "id": "e9c516a8-ec51-43bb-85d3-06b10e8530eb",
   "metadata": {},
   "outputs": [],
   "source": [
    "def student(roll):\n",
    "    if roll < 0:\n",
    "        raise student(\"It is not valid\")\n",
    "    elif roll > 100:\n",
    "        raise student(\"Strength is limited\")\n",
    "    else:\n",
    "        print(\"It is valid\")"
   ]
  },
  {
   "cell_type": "code",
   "execution_count": 9,
   "id": "3c125fd9-349e-4bb8-9c8a-fb4e9db4dc82",
   "metadata": {},
   "outputs": [
    {
     "name": "stdin",
     "output_type": "stream",
     "text": [
      "enter your roll 5\n"
     ]
    },
    {
     "name": "stdout",
     "output_type": "stream",
     "text": [
      "It is valid\n"
     ]
    }
   ],
   "source": [
    "try :\n",
    "    roll = int(input(\"enter your roll\" ))\n",
    "    student(roll)\n",
    "except student as e :\n",
    "    print(e)"
   ]
  },
  {
   "cell_type": "code",
   "execution_count": null,
   "id": "514cd5bf-b623-41bc-972f-811fcc0ecaa5",
   "metadata": {},
   "outputs": [],
   "source": [
    "Q5. What are Custom Exceptions in python? Whydo we need Custom Exceptions? Explain withan example"
   ]
  },
  {
   "cell_type": "code",
   "execution_count": null,
   "id": "30d85c6e-801c-45d4-9553-9fbfa291788b",
   "metadata": {},
   "outputs": [],
   "source": [
    "Custom exceptions provide you the flexibility to add attributes and methods that are not part of a standard Python exception.\n",
    "These can store additional information, like an application-specific error code, or provide utility methods that can be used to handle or present the exception to a user."
   ]
  },
  {
   "cell_type": "code",
   "execution_count": 14,
   "id": "5ab2560f-5542-4467-a43a-259d8d2905d6",
   "metadata": {},
   "outputs": [],
   "source": [
    "class  NoLoadException(Exception):\n",
    "    pass"
   ]
  },
  {
   "cell_type": "code",
   "execution_count": 25,
   "id": "1791ace6-7b09-4e8c-9d33-b7bce1e30dcc",
   "metadata": {},
   "outputs": [
    {
     "name": "stdin",
     "output_type": "stream",
     "text": [
      "Enter no. 66666\n"
     ]
    },
    {
     "name": "stdout",
     "output_type": "stream",
     "text": [
      "Error \n"
     ]
    }
   ],
   "source": [
    "load = int(input(\"Enter no.\"))\n",
    "max_load = 500\n",
    "try:\n",
    "    if load > max_load:\n",
    "        raise NoLoadException\n",
    "    else:\n",
    "        print(\"It can carry\")\n",
    "except NoLoadException:\n",
    "    print(\"Error \")"
   ]
  },
  {
   "cell_type": "code",
   "execution_count": null,
   "id": "b360202d-72d5-4f4d-a437-b5836cfaa62a",
   "metadata": {},
   "outputs": [],
   "source": [
    "Q6. Createa custom exception ,class. Use this class to handle an exception."
   ]
  },
  {
   "cell_type": "code",
   "execution_count": 26,
   "id": "99100827-6485-43bf-be28-07e87c5bd87c",
   "metadata": {},
   "outputs": [],
   "source": [
    "class  NoLoadException(Exception):\n",
    "    pass"
   ]
  },
  {
   "cell_type": "code",
   "execution_count": null,
   "id": "8fd56f4a-ce8b-41a1-9211-f342d3a6d446",
   "metadata": {},
   "outputs": [],
   "source": [
    "load = int(input(\"Enter no.\"))\n",
    "max_load = 500\n",
    "try:\n",
    "    if load > max_load:\n",
    "        raise NoLoadException\n",
    "    else:\n",
    "        print(\"It can carry\")\n",
    "except NoLoadException:\n",
    "    print(\"Error \")"
   ]
  }
 ],
 "metadata": {
  "kernelspec": {
   "display_name": "Python 3 (ipykernel)",
   "language": "python",
   "name": "python3"
  },
  "language_info": {
   "codemirror_mode": {
    "name": "ipython",
    "version": 3
   },
   "file_extension": ".py",
   "mimetype": "text/x-python",
   "name": "python",
   "nbconvert_exporter": "python",
   "pygments_lexer": "ipython3",
   "version": "3.10.8"
  }
 },
 "nbformat": 4,
 "nbformat_minor": 5
}
