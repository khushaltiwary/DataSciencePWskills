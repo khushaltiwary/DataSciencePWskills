{
 "cells": [
  {
   "cell_type": "code",
   "execution_count": null,
   "id": "94ab5f26-fafd-43bc-b7f8-a60a4be028d3",
   "metadata": {},
   "outputs": [],
   "source": [
    "Q1. Explain why we have to use the Exception class while creating a Custom Exception."
   ]
  },
  {
   "cell_type": "code",
   "execution_count": null,
   "id": "4c10ba02-e894-4769-b47b-bb742cca9e1d",
   "metadata": {},
   "outputs": [],
   "source": [
    "I often create custom Exceptions if there is more information that I need to convey instead of just an error message"
   ]
  },
  {
   "cell_type": "code",
   "execution_count": null,
   "id": "e78f22d7-2ed3-4f37-8d02-3e6ec1f8b200",
   "metadata": {},
   "outputs": [],
   "source": [
    "Q2. Write a python program to print Python Exception Hierarchy."
   ]
  },
  {
   "cell_type": "code",
   "execution_count": 1,
   "id": "7d75099b-2a17-40e1-9415-344d5ee5dc37",
   "metadata": {},
   "outputs": [
    {
     "name": "stdout",
     "output_type": "stream",
     "text": [
      "Can't divide by zero\n",
      "This is always executed\n"
     ]
    }
   ],
   "source": [
    "# No exception Exception raised in try block\n",
    "try:\n",
    "    k = 5//0  # raises divide by zero exception.\n",
    "    print(k)\n",
    "  \n",
    "# handles zerodivision exception\n",
    "except ZeroDivisionError:\n",
    "    print(\"Can't divide by zero\")\n",
    "  \n",
    "finally:\n",
    "    # this block is always executed\n",
    "    # regardless of exception generation.\n",
    "    print('This is always executed')"
   ]
  },
  {
   "cell_type": "code",
   "execution_count": null,
   "id": "9c22ca51-0fa2-4945-897e-a03dd9f850f5",
   "metadata": {},
   "outputs": [],
   "source": [
    "Q3. What errors are defined in the ArithmeticError class? Explain any two with an example."
   ]
  },
  {
   "cell_type": "code",
   "execution_count": null,
   "id": "31c2493e-025e-4786-9f57-386fe62b0961",
   "metadata": {},
   "outputs": [],
   "source": [
    "Base class for all errors that occur for numeric calculation"
   ]
  },
  {
   "cell_type": "code",
   "execution_count": null,
   "id": "e8197177-89b4-44a1-bced-8d37459e09f5",
   "metadata": {},
   "outputs": [],
   "source": [
    "Q4. Why LookupError class is used? Explain with an example KeyError and IndexError."
   ]
  },
  {
   "cell_type": "code",
   "execution_count": null,
   "id": "397245b3-f1d4-480a-a2a4-0bd896957db0",
   "metadata": {},
   "outputs": [],
   "source": [
    "The LookupError exception in Python forms the base class for all exceptions that are raised when an index or a key is not found for a sequence or dictionary respectively.\n",
    "\n",
    "You can use LookupError exception class to handle both IndexError and KeyError exception classes."
   ]
  },
  {
   "cell_type": "code",
   "execution_count": 2,
   "id": "90430b0e-61e3-4b35-afbb-e88dec345a3f",
   "metadata": {},
   "outputs": [
    {
     "name": "stdout",
     "output_type": "stream",
     "text": [
      "list index out of range, <class 'IndexError'>\n"
     ]
    }
   ],
   "source": [
    "x = [1, 2, 3, 4]\n",
    "try:\n",
    "    print(x[10])\n",
    "except LookupError as e:\n",
    "    print(f\"{e}, {e.__class__}\")"
   ]
  },
  {
   "cell_type": "code",
   "execution_count": 3,
   "id": "6f2ff307-6eb1-45be-8e0e-b9ce71e2b668",
   "metadata": {},
   "outputs": [
    {
     "name": "stdin",
     "output_type": "stream",
     "text": [
      "What do you want to learn about Pylenin==>  name\n"
     ]
    },
    {
     "name": "stdout",
     "output_type": "stream",
     "text": [
      "name is Lenin Mishra\n"
     ]
    }
   ],
   "source": [
    "pylenin_info = {'name': 'Lenin Mishra',\n",
    "                'age': 28,\n",
    "                'language': 'Python'}\n",
    "user_input = input('What do you want to learn about Pylenin==> ')\n",
    "\n",
    "try:\n",
    "    print(f'{user_input} is {pylenin_info[user_input]}')\n",
    "except LookupError as e:\n",
    "    print(f'{e}, {e.__class__}')"
   ]
  },
  {
   "cell_type": "code",
   "execution_count": null,
   "id": "fedc4834-488c-487c-b946-102463a8c5ba",
   "metadata": {},
   "outputs": [],
   "source": [
    "Q5. Explain ImportError. What is ModuleNotFoundError?"
   ]
  },
  {
   "cell_type": "code",
   "execution_count": null,
   "id": "5634004d-f71d-4378-b0f2-d4a3d6e229ce",
   "metadata": {},
   "outputs": [],
   "source": [
    "ImportError occurs when the Python program tries to import module which does not exist in the private table. "
   ]
  },
  {
   "cell_type": "code",
   "execution_count": null,
   "id": "f0897e5d-279f-4009-b22d-f8a397fd25d0",
   "metadata": {},
   "outputs": [],
   "source": [
    "this error occurs when you are trying to access or use a module that cannot be found."
   ]
  },
  {
   "cell_type": "code",
   "execution_count": null,
   "id": "4a6782e8-f401-4aa3-a3dd-065aa8c2be7a",
   "metadata": {},
   "outputs": [],
   "source": [
    "Q6. List down some best practices for exception handling in python."
   ]
  },
  {
   "cell_type": "code",
   "execution_count": null,
   "id": "cc83f5f3-9ff7-45e9-bb0a-a8ce28d6e2b3",
   "metadata": {},
   "outputs": [],
   "source": [
    "raise the most specific exception close to your problem."
   ]
  }
 ],
 "metadata": {
  "kernelspec": {
   "display_name": "Python 3 (ipykernel)",
   "language": "python",
   "name": "python3"
  },
  "language_info": {
   "codemirror_mode": {
    "name": "ipython",
    "version": 3
   },
   "file_extension": ".py",
   "mimetype": "text/x-python",
   "name": "python",
   "nbconvert_exporter": "python",
   "pygments_lexer": "ipython3",
   "version": "3.10.8"
  }
 },
 "nbformat": 4,
 "nbformat_minor": 5
}
