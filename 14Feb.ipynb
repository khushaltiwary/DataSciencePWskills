{
 "cells": [
  {
   "cell_type": "markdown",
   "id": "3468547d-7e8e-4bff-8c3f-bd8fcc8d8041",
   "metadata": {},
   "source": [
    "# Q1\n",
    "\n",
    "Multithreading in Python is a technique to execute multiple threads (smaller units of a program) simultaneously within a single process to achieve concurrent execution of two or more parts of a program.\n",
    "\n",
    "Multithreading is used to improve the performance of an application, as it allows the execution of multiple threads simultaneously, resulting in efficient utilization of CPU resources.\n",
    "\n",
    "In Python, the threading module is used to handle threads. It provides a simple way to create and manage threads, including starting, stopping, and waiting for threads to complete. With the help of the threading module, you can create multiple threads to perform different tasks simultaneously within a program."
   ]
  },
  {
   "cell_type": "markdown",
   "id": "1cee60f3-db20-4ad1-8421-13fe674ce532",
   "metadata": {},
   "source": [
    "# Q2\n",
    "\n",
    "The threading module is used in Python for creating and managing threads. It provides a way to create threads as separate flows of execution that run concurrently with the main thread of the program.\n",
    "\n",
    "Here are the uses of some of the functions provided by the threading module:\n",
    "\n",
    "    threading.Thread: This function is used to create a new thread. It takes a target function as an argument which will be executed in the new thread.\n",
    "\n",
    "    start(): This function is called on a thread object to start the execution of the thread.\n",
    "\n",
    "    join(): This function is called on a thread object to wait for the thread to complete its execution.\n",
    "\n",
    "    current_thread(): This function is used to get the current thread object.\n",
    "\n",
    "    enumerate(): This function is used to get a list of all active thread objects.\n",
    "\n",
    "    Lock(): This function is used to create a lock object which can be used to synchronize access to shared resources."
   ]
  },
  {
   "cell_type": "markdown",
   "id": "99a9aec1-a050-42dd-8e41-7349fe88fd27",
   "metadata": {},
   "source": [
    "# Q3\n",
    "\n",
    "The following functions are related to the threading module in Python:\n",
    "\n",
    "    run: This method is the entry point of a thread. It is called when the start method of a thread is invoked. It contains the code that is executed in a separate thread of control.\n",
    "\n",
    "    start: This method starts a new thread of execution by calling the run method of the thread. Once the start method is called, the new thread begins executing in parallel with the parent thread.\n",
    "\n",
    "    join: This method waits for the thread to complete its execution. It blocks the calling thread until the thread being joined completes its execution. If the thread has already finished its execution, the join method returns immediately.\n",
    "\n",
    "    isAlive: This method returns a Boolean value indicating whether the thread is currently executing or not. If the thread is executing, this method returns True. Otherwise, it returns False.\n",
    "\n",
    "These functions are used to control the execution of threads and coordinate their execution with other threads in a Python program. The start method is used to launch a new thread, while the join method is used to wait for a thread to complete its execution. The run method contains the actual code that is executed in a separate thread, and the isAlive method can be used to check the status of a thread at any time. Together, these functions provide a powerful mechanism for writing multi-threaded Python programs."
   ]
  },
  {
   "cell_type": "code",
   "execution_count": 1,
   "id": "df3d1081-d083-4b42-ba2e-febc29620c1f",
   "metadata": {},
   "outputs": [
    {
     "name": "stdout",
     "output_type": "stream",
     "text": [
      "1\n",
      "4\n",
      "9\n",
      "16\n",
      "25\n",
      "36\n",
      "49\n",
      "64\n",
      "81\n",
      "100\n",
      "1\n",
      "8\n",
      "27\n",
      "64\n",
      "125\n",
      "216\n",
      "343\n",
      "512\n",
      "729\n",
      "1000\n",
      "Done printing squares and cubes\n"
     ]
    }
   ],
   "source": [
    "# Q4\n",
    "\n",
    "import threading\n",
    "\n",
    "def print_squares():\n",
    "    for i in range(1, 11):\n",
    "        print(i**2)\n",
    "\n",
    "def print_cubes():\n",
    "    for i in range(1, 11):\n",
    "        print(i**3)\n",
    "\n",
    "if __name__ == \"__main__\":\n",
    "    t1 = threading.Thread(target=print_squares)\n",
    "    t2 = threading.Thread(target=print_cubes)\n",
    "\n",
    "    t1.start()\n",
    "    t2.start()\n",
    "\n",
    "    t1.join()\n",
    "    t2.join()\n",
    "\n",
    "    print(\"Done printing squares and cubes\")\n"
   ]
  },
  {
   "cell_type": "markdown",
   "id": "bc4c74ea-38b0-464e-af77-aec9080c9064",
   "metadata": {},
   "source": [
    "# Q5\n",
    "\n",
    "Advantages of Multithreading:\n",
    "\n",
    "    Responsiveness: Multithreading allows a program to remain responsive to user input even while performing long-running tasks.\n",
    "    Resource sharing: Threads can share resources like memory, file handles, etc. This helps in reducing memory usage and enhances the performance of the application.\n",
    "    Faster execution: Multiple threads can run simultaneously on multiple processors, which can lead to faster execution.\n",
    "    Scalability: Multithreading provides scalability to the application. It allows an application to use all the available resources efficiently.\n",
    "    Simplified coding: Multithreading can simplify coding by breaking down a complex task into smaller units that can be executed concurrently.\n",
    "\n",
    "Disadvantages of Multithreading:\n",
    "\n",
    "    Increased complexity: Multithreading can add complexity to the code and make it more difficult to debug.\n",
    "    Synchronization issues: Threads can interfere with each other when accessing shared resources, leading to synchronization issues.\n",
    "    Deadlocks: Multithreading can result in deadlocks, where two or more threads are waiting for each other to release resources they need to complete their tasks.\n",
    "    Overhead: Multithreading requires additional overhead for context switching, memory management, and synchronization, which can affect the overall performance of the application.\n",
    "    Debugging: Debugging multithreaded code can be difficult, as the behavior of threads can be unpredictable."
   ]
  },
  {
   "cell_type": "markdown",
   "id": "78e43ae9-d06f-499b-afc4-a60f5f950d06",
   "metadata": {},
   "source": [
    "# Q6\n",
    "\n",
    "Deadlock and race condition are two critical problems that can occur in multithreaded programs.\n",
    "\n",
    "Deadlock occurs when two or more threads are waiting for each other to release the resources they need to proceed further. For example, suppose two threads are holding a resource, and each is waiting for the other to release the resource they need to proceed. This scenario creates a deadlock, and the threads will be waiting indefinitely.\n",
    "\n",
    "Race condition occurs when two or more threads are accessing and manipulating a shared resource simultaneously, and the final output depends on the order in which the threads execute. This scenario can create unpredictable results, leading to program failure or incorrect output."
   ]
  }
 ],
 "metadata": {
  "kernelspec": {
   "display_name": "Python 3 (ipykernel)",
   "language": "python",
   "name": "python3"
  },
  "language_info": {
   "codemirror_mode": {
    "name": "ipython",
    "version": 3
   },
   "file_extension": ".py",
   "mimetype": "text/x-python",
   "name": "python",
   "nbconvert_exporter": "python",
   "pygments_lexer": "ipython3",
   "version": "3.10.8"
  }
 },
 "nbformat": 4,
 "nbformat_minor": 5
}
