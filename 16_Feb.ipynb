{
 "cells": [
  {
   "cell_type": "code",
   "execution_count": null,
   "id": "16e631b5-4e87-43d3-9087-0e6e2135b725",
   "metadata": {},
   "outputs": [],
   "source": [
    "Q1. What is a database? Differentiate between SQL and NoSQL databases."
   ]
  },
  {
   "cell_type": "code",
   "execution_count": null,
   "id": "a83f2a83-5540-47d5-9676-6756b13675f7",
   "metadata": {},
   "outputs": [],
   "source": [
    "\n",
    "1)\tDatabases are categorized as Relational Database Management System (RDBMS).\n",
    "NoSQL databases are categorized as Non-relational or distributed database system.\n",
    "2)\tSQL databases have fixed or static or predefined schema.\t\n",
    "NoSQL databases have dynamic schema.\n",
    "3)\tSQL databases display data in form of tables so it is known as table-based database.\t\n",
    "NoSQL databases display data as collection of key-value pair, documents, graph databases or wide-column stores.\n",
    "4)\tSQL databases are vertically scalable.\t\n",
    "NoSQL databases are horizontally scalable.\n",
    "5)\tSQL databases use a powerful language \"Structured Query Language\" to define and manipulate the data.\tIn NoSQL databases, collection of documents are used to query the data. It is also called unstructured query language. It varies from database to database.\n",
    "6)\tSQL databases are best suited for complex queries.\t\n",
    "NoSQL databases are not so good for complex queries because these are not as powerful as SQL queries.\n",
    "7)\tSQL databases are not best suited for hierarchical data storage.\t\n",
    "NoSQL databases are best suited for hierarchical data storage.\n",
    "8)\tMySQL, Oracle, Sqlite, PostgreSQL and MS-SQL etc. are the example of SQL database.\t\n",
    "MongoDB, BigTable, Redis, RavenDB, Cassandra, Hbase, Neo4j, CouchDB etc. are the example of nosql database"
   ]
  },
  {
   "cell_type": "code",
   "execution_count": null,
   "id": "abb64348-467d-4627-b446-ef0f803755c9",
   "metadata": {},
   "outputs": [],
   "source": [
    "Q2. What is DDL? Explain why CREATE, DROP, ALTER, and TRUNCATE are used with an example."
   ]
  },
  {
   "cell_type": "code",
   "execution_count": null,
   "id": "b9b40b79-4e79-4be8-8b5b-2ba09779d827",
   "metadata": {},
   "outputs": [],
   "source": [
    "Data definition language\n",
    "\n",
    "The CREATE TABLE command creates a new table in the database.\n",
    "CREATE TABLE Persons (\n",
    "    PersonID int,\n",
    "    LastName varchar(255),\n",
    "    FirstName varchar(255),\n",
    "    Address varchar(255),\n",
    "    City varchar(255)\n",
    ");\n",
    "\n",
    "The ALTER TABLE command adds, deletes, or modifies columns in a table.\n",
    "ALTER TABLE Customers\n",
    "ADD Email varchar(255);\n",
    "\n",
    "The DROP TABLE command deletes a table in the database.\n",
    "DROP TABLE Shippers;\n",
    "\n",
    "The TRUNCATE TABLE command deletes the data inside a table, but not the table itself.\n",
    "TRUNCATE TABLE Categories;"
   ]
  },
  {
   "cell_type": "code",
   "execution_count": null,
   "id": "d535d3ba-c78e-43bd-8222-63753f035852",
   "metadata": {},
   "outputs": [],
   "source": [
    "Q3. What is DML? Explain INSERT, UPDATE, and DELETE with an example."
   ]
  },
  {
   "cell_type": "code",
   "execution_count": null,
   "id": "2b0f34f1-c7a7-4887-be3a-64f33bb96b35",
   "metadata": {},
   "outputs": [],
   "source": [
    " Data Manipulation Language \n",
    "    \n",
    "    The INSERT INTO command is used to insert new rows in a table.\n",
    "    INSERT INTO Customers (CustomerName, ContactName, Address, City, PostalCode, Country)\n",
    "VALUES ('Cardinal', 'Tom B. Erichsen', 'Skagen 21', 'Stavanger', '4006', 'Norway');\n",
    "\n",
    "The UPDATE command is used to update existing rows in a table.\n",
    "UPDATE Customers\n",
    "SET ContactName = 'Alfred Schmidt', City= 'Frankfurt'\n",
    "WHERE CustomerID = 1;\n",
    "\n",
    "The DELETE command is used to delete existing records in a table.\n",
    "DELETE FROM Customers WHERE CustomerName='Alfreds Futterkiste';"
   ]
  },
  {
   "cell_type": "code",
   "execution_count": null,
   "id": "68b748f9-dc6a-4df5-b602-ff3cf621daf8",
   "metadata": {},
   "outputs": [],
   "source": [
    " Q4. What is DQL? Explain SELECT with an example.\n",
    "    Data Query Language. \n",
    "    The SELECT statement is used to select data from a database.\n",
    "SELECT column1, column2, ...\n",
    "FROM table_name;"
   ]
  },
  {
   "cell_type": "code",
   "execution_count": null,
   "id": "902c1820-ac56-4d4f-a865-1b66ebafd5ad",
   "metadata": {},
   "outputs": [],
   "source": [
    "Q5. Explain Primary Key and Foreign Key.\n",
    "The PRIMARY KEY constraint uniquely identifies each record in a table.\n",
    "Primary keys must contain UNIQUE values, and cannot contain NULL values.\n",
    "The FOREIGN KEY constraint is used to prevent actions that would destroy links between tables.\n",
    "\n",
    "A FOREIGN KEY is a field (or collection of fields) in one table, that refers to the PRIMARY KEY in another table.\n",
    "The table with the foreign key is called the child table, and the table with the primary key is called the referenced or parent table."
   ]
  },
  {
   "cell_type": "code",
   "execution_count": null,
   "id": "3faafd1c-d7fd-4e88-b44e-1a38a8860fa5",
   "metadata": {},
   "outputs": [],
   "source": [
    "Q6. Write a python code to connect MySQL to python. Explain the cursor() and execute() method."
   ]
  },
  {
   "cell_type": "code",
   "execution_count": null,
   "id": "5cec1f24-6ded-4f93-985a-695905c70a5c",
   "metadata": {},
   "outputs": [],
   "source": [
    "import mysql.connector\n",
    "mydb = mysql.connector.connect(\n",
    "    host = \"url\"\n",
    "    user = \"Shantanu\"\n",
    "    password = \"password\"\n",
    ")\n",
    "mycursor = mydb.cursor()\n",
    "mycursor.execute(SELECT column1, column2, ...FROM table_name;)\n",
    "for i in mycursor.fetchall():\n",
    "    print(i)\n",
    "mydb.close()    "
   ]
  },
  {
   "cell_type": "code",
   "execution_count": null,
   "id": "5f0c952b-8bbe-438e-9dee-93c3490b4f57",
   "metadata": {},
   "outputs": [],
   "source": [
    "Q6. Write a python code to connect MySQL to python. Explain the cursor() and execute() method."
   ]
  },
  {
   "cell_type": "code",
   "execution_count": null,
   "id": "0fd6d83c-4ebd-43b6-a45a-5f8508b9e564",
   "metadata": {},
   "outputs": [],
   "source": [
    "The order in which the clauses in queries are executed is as follows:\n",
    "\n",
    "1. FROM/JOIN: The FROM and/or JOIN clauses are executed first to determine the data of interest.\n",
    "\n",
    "2. WHERE: The WHERE clause is executed to filter out records that do not meet the constraints.\n",
    "\n",
    "3. GROUP BY: The GROUP BY clause is executed to group the data based on the values in one or more columns.\n",
    "\n",
    "4. HAVING: The HAVING clause is executed to remove the created grouped records that don’t meet the constraints.\n",
    "\n",
    "5. SELECT: The SELECT clause is executed to derive all desired columns and expressions.\n",
    "\n",
    "6. ORDER BY: The ORDER BY clause is executed to sort the derived values in ascending or descending order.\n",
    "\n",
    "7. LIMIT/OFFSET: Finally, the LIMIT and/or OFFSET clauses are executed to keep or skip a specified number of rows."
   ]
  }
 ],
 "metadata": {
  "kernelspec": {
   "display_name": "Python 3 (ipykernel)",
   "language": "python",
   "name": "python3"
  },
  "language_info": {
   "codemirror_mode": {
    "name": "ipython",
    "version": 3
   },
   "file_extension": ".py",
   "mimetype": "text/x-python",
   "name": "python",
   "nbconvert_exporter": "python",
   "pygments_lexer": "ipython3",
   "version": "3.10.8"
  }
 },
 "nbformat": 4,
 "nbformat_minor": 5
}
