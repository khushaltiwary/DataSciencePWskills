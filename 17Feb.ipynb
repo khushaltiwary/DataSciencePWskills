{
 "cells": [
  {
   "cell_type": "markdown",
   "id": "03389647-cbc8-4f89-b49b-d11fd9f6c99c",
   "metadata": {},
   "source": [
    "# Q1\n",
    "\n",
    "MongoDB is a popular open-source NoSQL database management system that stores data in a document-oriented format. It uses BSON (Binary JSON) format to store and manipulate data. MongoDB provides a flexible and scalable approach to handling unstructured data, and it is often used in modern web applications and big data systems.\n",
    "\n",
    "Non-relational databases, also known as NoSQL databases, are databases that do not follow the traditional relational database structure. Unlike relational databases, which store data in tables with defined relationships between them, NoSQL databases store data in various formats such as document-based, key-value, column-family, or graph databases. NoSQL databases provide a flexible and scalable approach to handle big data and are often used in modern web applications, IoT systems, and big data analytics.\n",
    "\n",
    "MongoDB is preferred over SQL databases in scenarios where there is a need for handling unstructured data or handling data with complex relationships. Some scenarios where MongoDB is preferred over SQL databases are:\n",
    "\n",
    "    When there is a need for storing large volumes of data that do not have a defined structure.\n",
    "    When there is a need for handling data with complex relationships that cannot be modeled easily in a relational database.\n",
    "    When there is a need for horizontal scaling to handle big data and high traffic web applications.\n",
    "    When there is a need for real-time processing of data.\n",
    "    When there is a need for a flexible and agile approach to database management and development."
   ]
  },
  {
   "cell_type": "markdown",
   "id": "deae8b78-289d-47cc-99fc-5aa5077b4337",
   "metadata": {},
   "source": [
    "Q2\n",
    "MongoDB is a popular NoSQL document-based database that has a number of unique features that set it apart from traditional relational databases. Some of the key features of MongoDB are:\n",
    "\n",
    "    Document-Oriented: MongoDB stores data in a flexible, JSON-like format called BSON, which stands for Binary JSON. This allows for a more natural representation of complex data structures and relationships than the traditional table structure of relational databases.\n",
    "\n",
    "    Scalability: MongoDB is designed to scale out horizontally across multiple servers or nodes, allowing for large amounts of data to be stored and processed. It uses a sharding technique to distribute data across multiple servers, which helps in increasing the write and read throughput.\n",
    "\n",
    "    High Availability: MongoDB provides high availability through replica sets. A replica set is a group of MongoDB servers that maintain the same data set, providing redundancy and automatic failover in case of any server failures.\n",
    "\n",
    "    Flexible Querying: MongoDB provides powerful querying capabilities through its rich query language and flexible indexing system. It supports a variety of queries, including range queries, text searches, and geospatial queries.\n",
    "\n",
    "    Agile Development: MongoDB is designed to support agile development methodologies and has a number of features that make it easier to develop and deploy applications quickly.\n"
   ]
  },
  {
   "cell_type": "markdown",
   "id": "a0cabcf0-fcd0-41b3-ab9c-81260bf072ec",
   "metadata": {},
   "source": [
    "# Q3\n",
    "\n",
    "import pymango\n",
    "\n",
    "# Connect to MongoDB\n",
    "client = pymongo.MongoClient(\"mongodb://localhost:27017/\")\n",
    "\n",
    "# Create a new database\n",
    "mydb = client[\"mydatabase\"]\n",
    "\n",
    "# Create a new collection\n",
    "mycol = mydb[\"customers\"]\n"
   ]
  },
  {
   "cell_type": "markdown",
   "id": "fd581081-befc-4e6a-a332-c3780445b41f",
   "metadata": {},
   "source": [
    "# Q4\n",
    "\n",
    "import pymongo\n",
    "\n",
    "# create a MongoClient object and connect to MongoDB\n",
    "client = pymongo.MongoClient(\"mongodb://localhost:27017/\")\n",
    "\n",
    "# create a database and a collection\n",
    "db = client[\"mydatabase\"]\n",
    "mycol = db[\"customers\"]\n",
    "\n",
    "# insert one record\n",
    "record1 = {\"name\": \"John\", \"address\": \"Highway 37\"}\n",
    "mycol.insert_one(record1)\n",
    "\n",
    "# insert many records\n",
    "records = [\n",
    "    {\"name\": \"Peter\", \"address\": \"Lowstreet 27\"},\n",
    "    {\"name\": \"Amy\", \"address\": \"Apple st 652\"},\n",
    "    {\"name\": \"Hannah\", \"address\": \"Mountain 21\"},\n",
    "    {\"name\": \"Michael\", \"address\": \"Valley 345\"},\n",
    "    {\"name\": \"Sandy\", \"address\": \"Ocean blvd 2\"},\n",
    "    {\"name\": \"Betty\", \"address\": \"Green Grass 1\"},\n",
    "    {\"name\": \"Richard\", \"address\": \"Sky st 331\"},\n",
    "    {\"name\": \"Susan\", \"address\": \"One way 98\"},\n",
    "    {\"name\": \"Vicky\", \"address\": \"Yellow Garden 2\"},\n",
    "    {\"name\": \"Ben\", \"address\": \"Park Lane 38\"},\n",
    "    {\"name\": \"William\", \"address\": \"Central st 954\"},\n",
    "    {\"name\": \"Chuck\", \"address\": \"Main Road 989\"},\n",
    "    {\"name\": \"Viola\", \"address\": \"Sideway 1633\"}\n",
    "]\n",
    "mycol.insert_many(records)\n",
    "\n",
    "# print the inserted record using find_one()\n",
    "print(mycol.find_one())\n",
    "\n",
    "# print all the inserted records using find()\n",
    "for record in mycol.find():\n",
    "    print(record)\n"
   ]
  },
  {
   "cell_type": "code",
   "execution_count": null,
   "id": "a183d0ae-12fb-4c6b-a639-fc2051f87d4a",
   "metadata": {},
   "outputs": [],
   "source": [
    "# Q5\n",
    "\n",
    "In MongoDB, the find() method is used to retrieve data from a collection. This method is similar to the SQL SELECT statement. It allows you to filter data based on certain conditions and also allows you to project specific fields from the documents.\n",
    "\n",
    "The find() method can accept a query parameter that specifies the conditions that the documents must meet to be included in the result set. It can also accept a projection parameter that specifies the fields to include or exclude from the result set.\n",
    "\n",
    "Here is an example code that demonstrates how to use the find() method in Python to query the MongoDB database:"
   ]
  },
  {
   "cell_type": "markdown",
   "id": "0d4745a0-5e33-4cab-9680-16c5e09f891c",
   "metadata": {},
   "source": [
    "# import the pymongo module\n",
    "import pymongo\n",
    "\n",
    "# establish a connection with MongoDB\n",
    "client = pymongo.MongoClient(\"mongodb://localhost:27017/\")\n",
    "\n",
    "# select the database and collection\n",
    "db = client[\"mydatabase\"]\n",
    "col = db[\"customers\"]\n",
    "\n",
    "# define a query\n",
    "query = { \"address\": \"Park Lane 38\" }\n",
    "\n",
    "# execute the query\n",
    "result = col.find(query)\n",
    "\n",
    "# print the results\n",
    "for doc in result:\n",
    "    print(doc)\n"
   ]
  },
  {
   "cell_type": "raw",
   "id": "769d5336-d6f1-405c-aecb-916bef458641",
   "metadata": {},
   "source": [
    "# Q6\n",
    "\n",
    "The sort() method is used to sort the documents in a collection in either ascending or descending order based on one or more fields. It can be used in combination with the find() method to return the sorted documents that match the query criteria.\n",
    "\n",
    "The sort() method takes a dictionary as an argument where the keys represent the fields on which the sorting is to be performed, and the values specify the sort order. The value 1 is used to sort the documents in ascending order, and -1 is used to sort the documents in descending order.\n",
    "\n",
    "Here's an example to demonstrate sorting in MongoDB:\n",
    "\n",
    "Suppose we have a collection named \"students\" with documents that have the following fields: name, age, and roll no.\n",
    "\n",
    "To sort the documents in ascending order based on the \"name\" field, we can use the following code:"
   ]
  },
  {
   "cell_type": "markdown",
   "id": "ee95972a-05c1-411f-88a4-ff24347c9a94",
   "metadata": {},
   "source": [
    "import pymongo\n",
    "\n",
    "# create a client object\n",
    "client = pymongo.MongoClient()\n",
    "\n",
    "# access the database\n",
    "db = client['mydatabase']\n",
    "\n",
    "# access the collection\n",
    "students = db['students']\n",
    "\n",
    "# perform a find operation with sort\n",
    "sorted_students = students.find().sort(\"name\", 1)\n",
    "\n",
    "# print the sorted documents\n",
    "for student in sorted_students:\n",
    "    print(student)\n"
   ]
  },
  {
   "cell_type": "code",
   "execution_count": null,
   "id": "0984a649-fa3c-4c57-975a-b79abd2e430e",
   "metadata": {},
   "outputs": [],
   "source": [
    "# Q7\n",
    "\n"
   ]
  }
 ],
 "metadata": {
  "kernelspec": {
   "display_name": "Python 3 (ipykernel)",
   "language": "python",
   "name": "python3"
  },
  "language_info": {
   "codemirror_mode": {
    "name": "ipython",
    "version": 3
   },
   "file_extension": ".py",
   "mimetype": "text/x-python",
   "name": "python",
   "nbconvert_exporter": "python",
   "pygments_lexer": "ipython3",
   "version": "3.10.8"
  }
 },
 "nbformat": 4,
 "nbformat_minor": 5
}
