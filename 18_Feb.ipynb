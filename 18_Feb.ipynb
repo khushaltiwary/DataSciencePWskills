{
 "cells": [
  {
   "cell_type": "code",
   "execution_count": null,
   "id": "dd29a2fc-7bcb-4e8f-b613-a312d2548ae9",
   "metadata": {},
   "outputs": [],
   "source": [
    "Q1. What is an API? Give an example, where an API is used in real life."
   ]
  },
  {
   "cell_type": "code",
   "execution_count": null,
   "id": "c33697c9-048d-4944-86d6-80c119d0c26f",
   "metadata": {},
   "outputs": [],
   "source": [
    "APIs are used in web applications to connect user-facing front ends with critical back-end functionality and data. APIs are used to deliver material by streaming services such as Spotify and Netflix. "
   ]
  },
  {
   "cell_type": "code",
   "execution_count": null,
   "id": "aa244663-c495-40a4-8b9a-e8bb887a6a30",
   "metadata": {},
   "outputs": [],
   "source": [
    "Q2. Give advantages and disadvantages of using API."
   ]
  },
  {
   "cell_type": "code",
   "execution_count": null,
   "id": "118af1a5-b93f-482e-b7ff-beaf99f1ef36",
   "metadata": {},
   "outputs": [],
   "source": [
    "Pro: No More Drowning in Details.\n",
    "Pro: Simplifying Unnecessary Complexities for Speed.\n",
    "Con: More Generation = Loss of Control.\n",
    "Pro: Lighter Load for DevOps.\n",
    "Pro: Greater Alignment."
   ]
  },
  {
   "cell_type": "code",
   "execution_count": null,
   "id": "1ba7043a-63ac-410d-b8fd-87cfa5cb5160",
   "metadata": {},
   "outputs": [],
   "source": [
    "Q3. What is a Web API? Differentiate between API and Web API."
   ]
  },
  {
   "cell_type": "code",
   "execution_count": null,
   "id": "12ac4531-88d5-486a-ae89-112fe84843ad",
   "metadata": {},
   "outputs": [],
   "source": [
    "Web services are a type of API, which must be accessed through a network connection.\tAPIs are application interfaces, implying that one application can communicate with another application in a standardized manner.\n",
    "Web service is used for REST, SOAP and XML-RPC for communication.\tAPI is used for any style of communication.\n",
    "All Web services are APIs.\tAPIs are not web services.\n",
    "It doesn’t have lightweight design, needs a SOAP convention to send or receive data over the system.\tIt has a light-weight architecture furthermore, useful for gadgets which have constrained transmission capacity like smart phones."
   ]
  },
  {
   "cell_type": "code",
   "execution_count": null,
   "id": "e888c81a-869e-4600-a2c8-fd2648ced92e",
   "metadata": {},
   "outputs": [],
   "source": [
    "Q4. Explain REST and SOAP Architecture. Mention shortcomings of SOAP."
   ]
  },
  {
   "cell_type": "code",
   "execution_count": null,
   "id": "4f5b3ee2-c032-41ce-8c15-e60fe45b6709",
   "metadata": {},
   "outputs": [],
   "source": [
    "Representational state transfer (REST) is a set of architectural principles.\n",
    "Simple object access protocol (SOAP) is an official protocol maintained by the World Wide Web Consortium (W3C).\n",
    "The main difference is that SOAP is a protocol while REST is not."
   ]
  },
  {
   "cell_type": "code",
   "execution_count": null,
   "id": "b3972f32-a6cf-4293-8659-a06c008bf59e",
   "metadata": {},
   "outputs": [],
   "source": [
    "Q5. Differentiate between REST and SOAP."
   ]
  },
  {
   "cell_type": "code",
   "execution_count": null,
   "id": "66b82ead-e50f-4490-bc2d-925a937600ee",
   "metadata": {},
   "outputs": [],
   "source": [
    "Representational state transfer (REST) is a set of architectural principles.\n",
    "Simple object access protocol (SOAP) is an official protocol maintained by the World Wide Web Consortium (W3C).\n",
    "The main difference is that SOAP is a protocol while REST is not."
   ]
  }
 ],
 "metadata": {
  "kernelspec": {
   "display_name": "Python 3 (ipykernel)",
   "language": "python",
   "name": "python3"
  },
  "language_info": {
   "codemirror_mode": {
    "name": "ipython",
    "version": 3
   },
   "file_extension": ".py",
   "mimetype": "text/x-python",
   "name": "python",
   "nbconvert_exporter": "python",
   "pygments_lexer": "ipython3",
   "version": "3.10.8"
  }
 },
 "nbformat": 4,
 "nbformat_minor": 5
}
