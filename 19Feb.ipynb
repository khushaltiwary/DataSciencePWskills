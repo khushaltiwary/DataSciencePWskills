{
 "cells": [
  {
   "cell_type": "markdown",
   "id": "54dcabe6-cf4e-48f3-a3ce-860d1d6d5ccb",
   "metadata": {},
   "source": [
    "# Q1\n",
    "\n",
    "Flask is a micro web framework for Python. It is designed to be simple and lightweight, providing developers with the bare essentials needed to build a web application. Flask is based on the WSGI toolkit and Jinja2 templating engine.\n",
    "\n",
    "Advantages of Flask Framework:\n",
    "\n",
    "    Lightweight and Flexible: Flask is lightweight and flexible, allowing developers to build web applications with minimal overhead. It also provides a lot of flexibility in terms of how you can structure your application.\n",
    "\n",
    "    Easy to Learn and Use: Flask has a simple API and a small learning curve, making it easy for developers to get started with building web applications in Python.\n",
    "\n",
    "    Modular Design: Flask has a modular design, allowing you to choose the components you need and leave out the ones you don't. This makes it easy to build small, single-purpose applications as well as large, complex applications.\n",
    "\n",
    "    Built-in Development Server: Flask comes with a built-in development server, allowing you to test your application without having to set up a separate server.\n",
    "\n",
    "    Extensible: Flask is extensible, allowing you to add third-party extensions to enhance its functionality.\n",
    "    \n",
    "    \n",
    "app = Flask(__name__)\n",
    "\n",
    "@app.route('/')\n",
    "def hello_world():\n",
    "    return 'Hello World!!'\n",
    "\n",
    "if __name__ == '__main__':\n",
    "    app.run()"
   ]
  },
  {
   "cell_type": "markdown",
   "id": "02f55d19-7944-4039-9062-3a140e4f85e0",
   "metadata": {},
   "source": [
    "#Q2\n",
    "\n",
    "from flash import Flask\n",
    "\n",
    "app = Flask(__name__)\n",
    "\n",
    "@app.route('/')\n",
    "def hWorld():\n",
    "    return \"<h1>Hello World</h1>\"\n",
    "\n",
    "if__name__ == '__main__':\n",
    "    app.run(host='0.0.0.0')"
   ]
  },
  {
   "cell_type": "markdown",
   "id": "a1dba171-9d68-4ea2-9809-d5f87c33d1af",
   "metadata": {},
   "source": [
    "Q3\n",
    "\n",
    "App routing in Flask refers to the process of mapping URL paths to view functions in a Flask application. This allows developers to define different routes for different parts of their application and handle requests accordingly.\n",
    "\n",
    "The app routes in Flask are defined using the @app.route() decorator, which is applied to a view function. The @app.route() decorator takes a URL path as its argument and maps it to the decorated view function."
   ]
  },
  {
   "cell_type": "markdown",
   "id": "281a8987-f1e7-49d5-9832-655881ca4c0e",
   "metadata": {},
   "source": [
    "Q4\n",
    "\n",
    "\n",
    "from flask import Flask\n",
    "\n",
    "app = Flask(__name__)\n",
    "\n",
    "@app.route('/welcome')\n",
    "def welcome():\n",
    "    return 'Welcome to ABC Corporation'\n",
    "\n",
    "@app.route('/')\n",
    "def company_details():\n",
    "    return 'Company Name: ABC Corporation<br>Location: India<br>Contact Detail: 999-999-9999'\n",
    "\n",
    "if __name__ == '__main__':\n",
    "    app.run()\n"
   ]
  },
  {
   "cell_type": "code",
   "execution_count": null,
   "id": "42ce31f8-5fc5-4368-8af1-785e75d97300",
   "metadata": {},
   "outputs": [],
   "source": [
    "Q5\n",
    "\n",
    "from flask import Flask, url_for\n",
    "\n",
    "app = Flask(__name__)\n",
    "\n",
    "@app.route('/')\n",
    "def home():\n",
    "    return 'Welcome to the home page!'\n",
    "\n",
    "@app.route('/user/<username>')\n",
    "def profile(username):\n",
    "    return f'Hello, {username}!'\n",
    "\n",
    "@app.route('/show_url')\n",
    "def show_url():\n",
    "    home_url = url_for('home')\n",
    "    profile_url = url_for('profile', username='Alice')\n",
    "    return f'Home URL: {home_url}<br>Profile URL: {profile_url}'\n",
    "\n",
    "if __name__ == '__main__':\n",
    "    app.run()\n",
    "\n",
    "    \n",
    "    "
   ]
  }
 ],
 "metadata": {
  "kernelspec": {
   "display_name": "Python 3 (ipykernel)",
   "language": "python",
   "name": "python3"
  },
  "language_info": {
   "codemirror_mode": {
    "name": "ipython",
    "version": 3
   },
   "file_extension": ".py",
   "mimetype": "text/x-python",
   "name": "python",
   "nbconvert_exporter": "python",
   "pygments_lexer": "ipython3",
   "version": "3.10.8"
  }
 },
 "nbformat": 4,
 "nbformat_minor": 5
}
