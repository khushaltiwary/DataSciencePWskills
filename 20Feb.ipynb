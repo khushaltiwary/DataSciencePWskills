{
 "cells": [
  {
   "cell_type": "markdown",
   "id": "e4ed7737-b401-48fd-a2cc-397e761bf3a5",
   "metadata": {},
   "source": [
    "Q1\n",
    "\n",
    "GET and POST are HTTP request methods that are used to retrieve and send data between a client and a server.\n",
    "\n",
    "The GET method is used to request data from a server. When a client makes a GET request, it sends a request to the server to retrieve a resource, such as a web page or a file. The request is sent in the URL of the request, and any parameters are encoded as part of the URL. For example, a GET request to retrieve information about a book might look like this:\n",
    "\n",
    "vbnet\n",
    "\n",
    "GET /books?title=The+Great+Gatsby HTTP/1.1\n",
    "Host: www.example.com\n",
    "\n",
    "In this example, the client is requesting information about a book with the title \"The Great Gatsby\" from the server at www.example.com.\n",
    "\n",
    "The POST method is used to submit data to a server. When a client makes a POST request, it sends data to the server as part of the request body, rather than in the URL. The data can be encoded in a variety of formats, such as JSON or form data. For example, a POST request to create a new book might look like this:\n",
    "\n",
    "bash\n",
    "\n",
    "POST /books HTTP/1.1\n",
    "Host: www.example.com\n",
    "Content-Type: application/json\n",
    "\n",
    "{\n",
    "    \"title\": \"To Kill a Mockingbird\",\n",
    "    \"author\": \"Harper Lee\",\n",
    "    \"year\": 1960\n",
    "}"
   ]
  },
  {
   "cell_type": "markdown",
   "id": "820bd005-75ce-41c7-941b-6d282d11600e",
   "metadata": {},
   "source": [
    "Q2\n",
    "\n",
    "In Flask, the request object is used to access data that is sent by a client as part of an HTTP request. This data can include information such as form data, query parameters, and headers.\n",
    "\n",
    "The request object provides a way to access this data in a convenient and consistent way. For example, if a client submits a form with data, the request.form attribute can be used to access the data as a dictionary. Similarly, if a client sends data in the query string of a URL, the request.args attribute can be used to access the data as a dictionary.\n"
   ]
  },
  {
   "cell_type": "markdown",
   "id": "1cef863f-f025-4b1f-80e0-6c8db40077ee",
   "metadata": {},
   "source": [
    "Q3\n",
    "\n",
    "In Flask, the redirect() function is used to redirect a client to a different URL. This is useful when a client submits a form or performs some action that requires a different page to be displayed."
   ]
  },
  {
   "cell_type": "code",
   "execution_count": null,
   "id": "3aadea5a-1b68-42e9-bd38-85d998b9a7d2",
   "metadata": {},
   "outputs": [],
   "source": [
    "Q4\n",
    "\n"
   ]
  }
 ],
 "metadata": {
  "kernelspec": {
   "display_name": "Python 3 (ipykernel)",
   "language": "python",
   "name": "python3"
  },
  "language_info": {
   "codemirror_mode": {
    "name": "ipython",
    "version": 3
   },
   "file_extension": ".py",
   "mimetype": "text/x-python",
   "name": "python",
   "nbconvert_exporter": "python",
   "pygments_lexer": "ipython3",
   "version": "3.10.8"
  }
 },
 "nbformat": 4,
 "nbformat_minor": 5
}
