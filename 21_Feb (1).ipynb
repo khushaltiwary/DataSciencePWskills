{
 "cells": [
  {
   "cell_type": "code",
   "execution_count": null,
   "id": "ab052dbf-138b-45d5-a270-f5c69b4bfb72",
   "metadata": {},
   "outputs": [],
   "source": [
    "Q1. What is Web Scraping? Why is it Used? Give three areas where Web Scraping is used to get data."
   ]
  },
  {
   "cell_type": "code",
   "execution_count": null,
   "id": "6a09850c-e0cc-41a4-8990-4ed018d20bda",
   "metadata": {},
   "outputs": [],
   "source": [
    "Web scraping is an automatic method to obtain large amounts of data from websites.\n",
    "Web scraping is used in a variety of digital businesses that rely on data harvesting.\n",
    "Most of this data is unstructured data in an HTML format which is then converted into structured data in a spreadsheet or a database so that it can be used in various applications."
   ]
  },
  {
   "cell_type": "code",
   "execution_count": null,
   "id": "2a2cb6b3-d7f4-4614-a309-8a77519cbed0",
   "metadata": {},
   "outputs": [],
   "source": [
    "Q2. What are the different methods used for Web Scraping?"
   ]
  },
  {
   "cell_type": "code",
   "execution_count": null,
   "id": "d43eff5e-3f99-4952-aad1-de400c9ffd66",
   "metadata": {},
   "outputs": [],
   "source": [
    "HTML Parsing. HTML parsing involves the use of JavaScript to target a linear or nested HTML page. ...\n",
    "DOM Parsing. ...\n",
    "Vertical Aggregation. ...\n",
    "XPath. ...\n",
    "Google Sheets. ...\n",
    "Rate Limit User Requests. ...\n",
    "Mitigate High-Volume Requesters with CAPTCHAs. ...\n",
    "Regularly Modify HTML Markup."
   ]
  },
  {
   "cell_type": "code",
   "execution_count": null,
   "id": "f7b1ccf5-55c7-4920-a1d5-079b8e2bb116",
   "metadata": {},
   "outputs": [],
   "source": [
    "Q3. What is Beautiful Soup? Why is it used?"
   ]
  },
  {
   "cell_type": "code",
   "execution_count": null,
   "id": "5964677a-2bc5-4f43-96f0-5d616448a628",
   "metadata": {},
   "outputs": [],
   "source": [
    "Beautiful Soup provides simple methods for navigating, searching, and modifying a parse tree in HTML, XML files. "
   ]
  },
  {
   "cell_type": "code",
   "execution_count": null,
   "id": "a1fc438a-acf1-4c2e-a907-c708c2862f8d",
   "metadata": {},
   "outputs": [],
   "source": [
    "Q4. Why is flask used in this Web Scraping project?"
   ]
  },
  {
   "cell_type": "code",
   "execution_count": null,
   "id": "12a63b6c-e76d-4141-b626-a6b42b7a95bd",
   "metadata": {},
   "outputs": [],
   "source": [
    "Flask is a lightweight framework to build websites.\n",
    "We'll use this to parse our collected data and display it as HTML in a new HTML file. \n",
    "The requests module allows us to send http requests to the website we want to scrape."
   ]
  },
  {
   "cell_type": "code",
   "execution_count": null,
   "id": "79519334-e302-4e7b-9dd9-f5d5e82e1bb6",
   "metadata": {},
   "outputs": [],
   "source": [
    "Q5. Write the names of AWS services used in this project. Also, explain the use of each service."
   ]
  },
  {
   "cell_type": "code",
   "execution_count": null,
   "id": "925741d2-fc03-4f9d-a281-3e968b714591",
   "metadata": {},
   "outputs": [],
   "source": [
    "Compute.\n",
    "Storage.\n",
    "Database.\n",
    "Networking & Content Delivery.\n",
    "Analytics.\n",
    "Machine Learning.\n",
    "Security, Identity, & Compliance."
   ]
  }
 ],
 "metadata": {
  "kernelspec": {
   "display_name": "Python 3 (ipykernel)",
   "language": "python",
   "name": "python3"
  },
  "language_info": {
   "codemirror_mode": {
    "name": "ipython",
    "version": 3
   },
   "file_extension": ".py",
   "mimetype": "text/x-python",
   "name": "python",
   "nbconvert_exporter": "python",
   "pygments_lexer": "ipython3",
   "version": "3.10.8"
  }
 },
 "nbformat": 4,
 "nbformat_minor": 5
}
