{
 "cells": [
  {
   "cell_type": "code",
   "execution_count": 2,
   "id": "cfdd1591-b8bd-48b9-a5a1-3b81bcd7ad3b",
   "metadata": {},
   "outputs": [],
   "source": [
    "import pandas as pd"
   ]
  },
  {
   "cell_type": "code",
   "execution_count": 3,
   "id": "2cc8be6b-c4a1-4617-bfc1-257265ebb169",
   "metadata": {},
   "outputs": [
    {
     "name": "stdout",
     "output_type": "stream",
     "text": [
      "Requirement already satisfied: pandas in /opt/conda/lib/python3.10/site-packages (1.5.2)\n",
      "Requirement already satisfied: python-dateutil>=2.8.1 in /opt/conda/lib/python3.10/site-packages (from pandas) (2.8.2)\n",
      "Requirement already satisfied: pytz>=2020.1 in /opt/conda/lib/python3.10/site-packages (from pandas) (2022.6)\n",
      "Requirement already satisfied: numpy>=1.21.0 in /opt/conda/lib/python3.10/site-packages (from pandas) (1.23.5)\n",
      "Requirement already satisfied: six>=1.5 in /opt/conda/lib/python3.10/site-packages (from python-dateutil>=2.8.1->pandas) (1.16.0)\n",
      "Note: you may need to restart the kernel to use updated packages.\n"
     ]
    }
   ],
   "source": [
    "pip install pandas"
   ]
  },
  {
   "cell_type": "code",
   "execution_count": null,
   "id": "d1d23ff0-6cdf-4dd9-ac6a-fe2ae2d4281b",
   "metadata": {},
   "outputs": [],
   "source": [
    "Q1. Create a Pandas Series that contains the following data: 4, 8, 15, 16, 23, and 42. Then, print the series."
   ]
  },
  {
   "cell_type": "code",
   "execution_count": 12,
   "id": "60d79f38-1b45-48e4-bc7d-34eea9a74887",
   "metadata": {},
   "outputs": [],
   "source": [
    "df = pd.Series([4, 8, 15, 16, 23,42],index = None)"
   ]
  },
  {
   "cell_type": "code",
   "execution_count": 13,
   "id": "5c4288de-f3dd-4833-af2d-9c7325369579",
   "metadata": {},
   "outputs": [
    {
     "data": {
      "text/plain": [
       "0     4\n",
       "1     8\n",
       "2    15\n",
       "3    16\n",
       "4    23\n",
       "5    42\n",
       "dtype: int64"
      ]
     },
     "execution_count": 13,
     "metadata": {},
     "output_type": "execute_result"
    }
   ],
   "source": [
    "df"
   ]
  },
  {
   "cell_type": "code",
   "execution_count": null,
   "id": "aed47d83-e804-4fde-b91b-cb125b7c3d86",
   "metadata": {},
   "outputs": [],
   "source": [
    "Q2. Create a variable of list type containing 10 elements in it, and apply pandas.Series function on the\n",
    "variable print it."
   ]
  },
  {
   "cell_type": "code",
   "execution_count": 14,
   "id": "3b84d3cd-ce54-45db-ba0b-7326d3589391",
   "metadata": {},
   "outputs": [],
   "source": [
    "l = [4,5,66,888,99,44,32,57,62,55]"
   ]
  },
  {
   "cell_type": "code",
   "execution_count": 16,
   "id": "d9c5d7fa-d117-439e-b0c2-a187188cfae2",
   "metadata": {},
   "outputs": [],
   "source": [
    "df = pd.Series(l)"
   ]
  },
  {
   "cell_type": "code",
   "execution_count": 17,
   "id": "36e04ce5-4fa6-42ed-85d9-cf7c48bbc291",
   "metadata": {},
   "outputs": [
    {
     "data": {
      "text/plain": [
       "0      4\n",
       "1      5\n",
       "2     66\n",
       "3    888\n",
       "4     99\n",
       "5     44\n",
       "6     32\n",
       "7     57\n",
       "8     62\n",
       "9     55\n",
       "dtype: int64"
      ]
     },
     "execution_count": 17,
     "metadata": {},
     "output_type": "execute_result"
    }
   ],
   "source": [
    "df"
   ]
  },
  {
   "cell_type": "code",
   "execution_count": null,
   "id": "4c7724fc-883a-4b56-991b-2e2c0c95aaec",
   "metadata": {},
   "outputs": [],
   "source": [
    "Q3. Create a Pandas DataFrame that contains the following data:"
   ]
  },
  {
   "cell_type": "code",
   "execution_count": 19,
   "id": "565e60d6-6f58-44a5-b3eb-c917b110cd57",
   "metadata": {},
   "outputs": [],
   "source": [
    "Human= { 'Name' : ['Alice','Bob','Claire'],\n",
    "          'Age':[25,30,27],\n",
    "          'Gender':['Female','Male','Female']\n",
    "\n",
    "\n",
    "}"
   ]
  },
  {
   "cell_type": "code",
   "execution_count": 21,
   "id": "d9ad831f-364a-468c-8524-6720538e04b6",
   "metadata": {},
   "outputs": [],
   "source": [
    "df = pd.DataFrame(Human)"
   ]
  },
  {
   "cell_type": "code",
   "execution_count": 22,
   "id": "9d50b4f7-f10d-4761-b5db-6b5234b0153f",
   "metadata": {},
   "outputs": [
    {
     "data": {
      "text/html": [
       "<div>\n",
       "<style scoped>\n",
       "    .dataframe tbody tr th:only-of-type {\n",
       "        vertical-align: middle;\n",
       "    }\n",
       "\n",
       "    .dataframe tbody tr th {\n",
       "        vertical-align: top;\n",
       "    }\n",
       "\n",
       "    .dataframe thead th {\n",
       "        text-align: right;\n",
       "    }\n",
       "</style>\n",
       "<table border=\"1\" class=\"dataframe\">\n",
       "  <thead>\n",
       "    <tr style=\"text-align: right;\">\n",
       "      <th></th>\n",
       "      <th>Name</th>\n",
       "      <th>Age</th>\n",
       "      <th>Gender</th>\n",
       "    </tr>\n",
       "  </thead>\n",
       "  <tbody>\n",
       "    <tr>\n",
       "      <th>0</th>\n",
       "      <td>Alice</td>\n",
       "      <td>25</td>\n",
       "      <td>Female</td>\n",
       "    </tr>\n",
       "    <tr>\n",
       "      <th>1</th>\n",
       "      <td>Bob</td>\n",
       "      <td>30</td>\n",
       "      <td>Male</td>\n",
       "    </tr>\n",
       "    <tr>\n",
       "      <th>2</th>\n",
       "      <td>Claire</td>\n",
       "      <td>27</td>\n",
       "      <td>Female</td>\n",
       "    </tr>\n",
       "  </tbody>\n",
       "</table>\n",
       "</div>"
      ],
      "text/plain": [
       "     Name  Age  Gender\n",
       "0   Alice   25  Female\n",
       "1     Bob   30    Male\n",
       "2  Claire   27  Female"
      ]
     },
     "execution_count": 22,
     "metadata": {},
     "output_type": "execute_result"
    }
   ],
   "source": [
    "df"
   ]
  },
  {
   "cell_type": "code",
   "execution_count": null,
   "id": "7e4fd344-0369-45f4-8343-87d2420a05af",
   "metadata": {},
   "outputs": [],
   "source": [
    "Q4. What is ‘DataFrame’ in pandas and how is it different from pandas.series? Explain with an example."
   ]
  },
  {
   "cell_type": "code",
   "execution_count": null,
   "id": "ba404c20-7d38-4ddf-8b14-0cd1c9b9acd7",
   "metadata": {},
   "outputs": [],
   "source": [
    "Series can only contain single list with index, \n",
    "whereas dataframe can be made of more than one series or we can say that a dataframe is a collection of series \n",
    "that can be used to analyse the data"
   ]
  },
  {
   "cell_type": "code",
   "execution_count": null,
   "id": "4f64ba50-370e-46cb-baa1-9ed74127eb9f",
   "metadata": {},
   "outputs": [],
   "source": [
    "Example in Q2 & Q3"
   ]
  },
  {
   "cell_type": "code",
   "execution_count": null,
   "id": "e51cd4ad-ce54-4f57-9971-0b2f92f955a5",
   "metadata": {},
   "outputs": [],
   "source": [
    "Q5. What are some common functions you can use to manipulate data in a Pandas DataFrame? Can\n",
    "you give an example of when you might use one of these functions?"
   ]
  },
  {
   "cell_type": "code",
   "execution_count": null,
   "id": "f23575d2-a620-403f-8c57-a84abdb53e87",
   "metadata": {},
   "outputs": [],
   "source": [
    "1. read_csv()\n",
    "2. head()\n",
    "3. describe()\n",
    "4. memory_usage()\n",
    "5. astype()\n",
    "6. loc[:]\n",
    "7. to_datetime()\n",
    "8. value_counts()\n",
    "9. drop_duplicates()\n",
    "10. groupby()\n",
    "11. merge()\n",
    "12. sort_values()\n",
    "13.fillna()"
   ]
  },
  {
   "cell_type": "code",
   "execution_count": null,
   "id": "6fbc213e-f48c-40d3-bfe4-845122654d81",
   "metadata": {},
   "outputs": [],
   "source": [
    "Q6. Which of the following is mutable in nature Series, DataFrame, Panel?"
   ]
  },
  {
   "cell_type": "code",
   "execution_count": null,
   "id": "797fbd92-55b3-4db0-b192-22cbeea5b615",
   "metadata": {},
   "outputs": [],
   "source": [
    "Series : Immutable\n",
    "DataFrame : Mutable"
   ]
  },
  {
   "cell_type": "code",
   "execution_count": null,
   "id": "f4ed93f7-11b6-4742-9cbb-9d30a58457cb",
   "metadata": {},
   "outputs": [],
   "source": [
    "Q7. Create a DataFrame using multiple Series. Explain with an example."
   ]
  },
  {
   "cell_type": "code",
   "execution_count": 25,
   "id": "b3e0d94e-deea-4e3f-9b55-2f193ea87493",
   "metadata": {},
   "outputs": [],
   "source": [
    "Vehicle = { 'Bikes' : ['Continental_GT','Kawasaki','FZ','Ducati'],\n",
    "            'Cars' : ['Thar','Forniture','GT','Harrier'],\n",
    "            'spped': ['160','340','110','320']\n",
    "    \n",
    "    \n",
    "    \n",
    "    \n",
    "}"
   ]
  },
  {
   "cell_type": "code",
   "execution_count": 26,
   "id": "1a794023-d332-4719-9bc4-a3857e438f31",
   "metadata": {},
   "outputs": [],
   "source": [
    "df1 = pd.DataFrame(Vehicle)"
   ]
  },
  {
   "cell_type": "code",
   "execution_count": 27,
   "id": "067ce2ad-41d6-49ee-ab53-e4487cbc34ea",
   "metadata": {},
   "outputs": [
    {
     "data": {
      "text/html": [
       "<div>\n",
       "<style scoped>\n",
       "    .dataframe tbody tr th:only-of-type {\n",
       "        vertical-align: middle;\n",
       "    }\n",
       "\n",
       "    .dataframe tbody tr th {\n",
       "        vertical-align: top;\n",
       "    }\n",
       "\n",
       "    .dataframe thead th {\n",
       "        text-align: right;\n",
       "    }\n",
       "</style>\n",
       "<table border=\"1\" class=\"dataframe\">\n",
       "  <thead>\n",
       "    <tr style=\"text-align: right;\">\n",
       "      <th></th>\n",
       "      <th>Bikes</th>\n",
       "      <th>Cars</th>\n",
       "      <th>spped</th>\n",
       "    </tr>\n",
       "  </thead>\n",
       "  <tbody>\n",
       "    <tr>\n",
       "      <th>0</th>\n",
       "      <td>Continental_GT</td>\n",
       "      <td>Thar</td>\n",
       "      <td>160</td>\n",
       "    </tr>\n",
       "    <tr>\n",
       "      <th>1</th>\n",
       "      <td>Kawasaki</td>\n",
       "      <td>Forniture</td>\n",
       "      <td>340</td>\n",
       "    </tr>\n",
       "    <tr>\n",
       "      <th>2</th>\n",
       "      <td>FZ</td>\n",
       "      <td>GT</td>\n",
       "      <td>110</td>\n",
       "    </tr>\n",
       "    <tr>\n",
       "      <th>3</th>\n",
       "      <td>Ducati</td>\n",
       "      <td>Harrier</td>\n",
       "      <td>320</td>\n",
       "    </tr>\n",
       "  </tbody>\n",
       "</table>\n",
       "</div>"
      ],
      "text/plain": [
       "            Bikes       Cars spped\n",
       "0  Continental_GT       Thar   160\n",
       "1        Kawasaki  Forniture   340\n",
       "2              FZ         GT   110\n",
       "3          Ducati    Harrier   320"
      ]
     },
     "execution_count": 27,
     "metadata": {},
     "output_type": "execute_result"
    }
   ],
   "source": [
    "df1"
   ]
  },
  {
   "cell_type": "code",
   "execution_count": null,
   "id": "a010f564-d228-4590-baf3-e5ac02f72c1f",
   "metadata": {},
   "outputs": [],
   "source": []
  }
 ],
 "metadata": {
  "kernelspec": {
   "display_name": "Python 3 (ipykernel)",
   "language": "python",
   "name": "python3"
  },
  "language_info": {
   "codemirror_mode": {
    "name": "ipython",
    "version": 3
   },
   "file_extension": ".py",
   "mimetype": "text/x-python",
   "name": "python",
   "nbconvert_exporter": "python",
   "pygments_lexer": "ipython3",
   "version": "3.10.8"
  }
 },
 "nbformat": 4,
 "nbformat_minor": 5
}
