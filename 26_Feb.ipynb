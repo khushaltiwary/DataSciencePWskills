{
 "cells": [
  {
   "cell_type": "code",
   "execution_count": 2,
   "id": "2d3bf385-521f-47b8-96d1-930a17150b8a",
   "metadata": {},
   "outputs": [],
   "source": [
    "import numpy as np\n"
   ]
  },
  {
   "cell_type": "code",
   "execution_count": 3,
   "id": "588fd0a6-76bd-40c3-873b-e0400f109893",
   "metadata": {},
   "outputs": [],
   "source": [
    "list_ = [ '1','2','3','4','5' ]\n",
    "array_list = np.array(object = list_)"
   ]
  },
  {
   "cell_type": "code",
   "execution_count": null,
   "id": "398538f6-4dc9-4d82-b375-798db252b7f8",
   "metadata": {},
   "outputs": [],
   "source": [
    "Q1. Is there any difference in the data type of variables list_ and array_list? If there is then write a code\n",
    "to print the data types of both the variables."
   ]
  },
  {
   "cell_type": "code",
   "execution_count": null,
   "id": "c51d6b51-07ba-4510-91d5-05f63a67cac2",
   "metadata": {},
   "outputs": [],
   "source": [
    "The List is a type of interface. The ArrayList is a standard type of collection class. The interface of a List provides an extension to the Collection Framework"
   ]
  },
  {
   "cell_type": "code",
   "execution_count": null,
   "id": "9a917f4f-981a-45d8-8f80-d3e1a8a7573c",
   "metadata": {},
   "outputs": [],
   "source": [
    "Q2. Write a code to print the data type of each and every element of both the variables list_ and\n",
    "arra_list."
   ]
  },
  {
   "cell_type": "code",
   "execution_count": 8,
   "id": "0e82eeaf-00b8-483a-af5b-217b69079647",
   "metadata": {},
   "outputs": [],
   "source": [
    "arr_list = np.array( [ '1','2','3','4','5' ])"
   ]
  },
  {
   "cell_type": "code",
   "execution_count": 9,
   "id": "c952ba81-4df5-4b21-958b-c99efbfdd21e",
   "metadata": {},
   "outputs": [
    {
     "data": {
      "text/plain": [
       "array(['1', '2', '3', '4', '5'], dtype='<U1')"
      ]
     },
     "execution_count": 9,
     "metadata": {},
     "output_type": "execute_result"
    }
   ],
   "source": [
    "array_list"
   ]
  },
  {
   "cell_type": "code",
   "execution_count": 12,
   "id": "76225ba3-fd12-4cc6-83ab-9c615ac29f1c",
   "metadata": {},
   "outputs": [],
   "source": [
    "variables_list =  [ '1','2','3','4','5' ]"
   ]
  },
  {
   "cell_type": "code",
   "execution_count": 14,
   "id": "7ed8840d-be0a-4018-83ca-0d93b5f83afb",
   "metadata": {},
   "outputs": [
    {
     "name": "stdout",
     "output_type": "stream",
     "text": [
      "['1', '2', '3', '4', '5']\n"
     ]
    }
   ],
   "source": [
    "print(variables_list)"
   ]
  },
  {
   "cell_type": "code",
   "execution_count": null,
   "id": "c657f4ba-b9ac-4854-a6b5-c3cc1f293736",
   "metadata": {},
   "outputs": [],
   "source": [
    "Q3. Considering the following changes in the variable, array_list:\n",
    "array_list = np.array(object = list_, dtype = int)\n",
    "Will there be any difference in the data type of the elements present in both the variables, list_ and\n",
    "arra_list? If so then print the data types of each and every element present in both the variables, list_\n",
    "and arra_list."
   ]
  },
  {
   "cell_type": "code",
   "execution_count": null,
   "id": "a12cf203-bc43-40fa-8abe-f13f31dc43f4",
   "metadata": {},
   "outputs": [],
   "source": [
    "variable_list == object\n",
    "arra_list == array"
   ]
  },
  {
   "cell_type": "code",
   "execution_count": 15,
   "id": "177f4e0a-bd9f-4945-9de8-08ee1cde4408",
   "metadata": {},
   "outputs": [],
   "source": [
    "import numpy as np\n",
    "num_list = [ [ 1 , 2 , 3 ] , [ 4 , 5 , 6 ] ]\n",
    "num_array = np.array(object = num_list)"
   ]
  },
  {
   "cell_type": "code",
   "execution_count": null,
   "id": "3ccac45a-7b59-4092-a9d8-f88a6fccb341",
   "metadata": {},
   "outputs": [],
   "source": [
    "Q4. Write a code to find the following characteristics of variable, num_array:\n",
    "(i) shape\n",
    "(ii) size"
   ]
  },
  {
   "cell_type": "code",
   "execution_count": 17,
   "id": "8c81a4af-a35e-49c6-93c3-da56e714ff1a",
   "metadata": {},
   "outputs": [
    {
     "data": {
      "text/plain": [
       "(2, 3)"
      ]
     },
     "execution_count": 17,
     "metadata": {},
     "output_type": "execute_result"
    }
   ],
   "source": [
    "num_array.shape"
   ]
  },
  {
   "cell_type": "code",
   "execution_count": 18,
   "id": "0132aa38-3bc9-4a3f-89ab-8c56ebd7c74e",
   "metadata": {},
   "outputs": [
    {
     "data": {
      "text/plain": [
       "6"
      ]
     },
     "execution_count": 18,
     "metadata": {},
     "output_type": "execute_result"
    }
   ],
   "source": [
    "num_array.size"
   ]
  },
  {
   "cell_type": "code",
   "execution_count": null,
   "id": "78b7e50e-011a-4ea8-b58d-d98bf3499142",
   "metadata": {},
   "outputs": [],
   "source": [
    "Q5. Write a code to create numpy array of 3*3 matrix containing zeros only, using a numpy array\n",
    "creation function."
   ]
  },
  {
   "cell_type": "code",
   "execution_count": 23,
   "id": "3fd44f4d-1a87-4675-9cd2-2f46f3792bbb",
   "metadata": {},
   "outputs": [
    {
     "data": {
      "text/plain": [
       "array([[0., 0., 0.],\n",
       "       [0., 0., 0.],\n",
       "       [0., 0., 0.]])"
      ]
     },
     "execution_count": 23,
     "metadata": {},
     "output_type": "execute_result"
    }
   ],
   "source": [
    "np.zeros([3,3])"
   ]
  },
  {
   "cell_type": "code",
   "execution_count": null,
   "id": "cb82fabc-348c-4aa4-986b-85d7a2de349e",
   "metadata": {},
   "outputs": [],
   "source": [
    "Q6. Create an identity matrix of shape (5,5) using numpy functions?"
   ]
  },
  {
   "cell_type": "code",
   "execution_count": 24,
   "id": "a7f560c0-7b20-4609-9f5e-f7c2fb0b69fe",
   "metadata": {},
   "outputs": [
    {
     "data": {
      "text/plain": [
       "array([[1., 0., 0., 0., 0.],\n",
       "       [0., 1., 0., 0., 0.],\n",
       "       [0., 0., 1., 0., 0.],\n",
       "       [0., 0., 0., 1., 0.],\n",
       "       [0., 0., 0., 0., 1.]])"
      ]
     },
     "execution_count": 24,
     "metadata": {},
     "output_type": "execute_result"
    }
   ],
   "source": [
    "np.eye(5)"
   ]
  },
  {
   "cell_type": "code",
   "execution_count": null,
   "id": "b1df7358-3a37-4654-950b-ea9349de8c59",
   "metadata": {},
   "outputs": [],
   "source": []
  }
 ],
 "metadata": {
  "kernelspec": {
   "display_name": "Python 3 (ipykernel)",
   "language": "python",
   "name": "python3"
  },
  "language_info": {
   "codemirror_mode": {
    "name": "ipython",
    "version": 3
   },
   "file_extension": ".py",
   "mimetype": "text/x-python",
   "name": "python",
   "nbconvert_exporter": "python",
   "pygments_lexer": "ipython3",
   "version": "3.10.8"
  }
 },
 "nbformat": 4,
 "nbformat_minor": 5
}
