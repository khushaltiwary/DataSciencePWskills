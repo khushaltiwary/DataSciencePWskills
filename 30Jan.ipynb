{
 "cells": [
  {
   "cell_type": "code",
   "execution_count": 1,
   "id": "fe6ee6bc-b21e-412b-8506-25cc21f513c4",
   "metadata": {},
   "outputs": [
    {
     "name": "stdin",
     "output_type": "stream",
     "text": [
      "Enter your percentage:  89\n"
     ]
    },
    {
     "name": "stdout",
     "output_type": "stream",
     "text": [
      "Your grade is: A\n"
     ]
    }
   ],
   "source": [
    "# Q1.\n",
    "\n",
    "percentage = float(input(\"Enter your percentage: \"))\n",
    "\n",
    "if percentage > 90:\n",
    "    grade = \"A+\"\n",
    "elif percentage > 80:\n",
    "    grade = \"A\"\n",
    "elif percentage > 70:\n",
    "    grade = \"B+\"\n",
    "elif percentage > 60:\n",
    "    grade = \"B\"\n",
    "elif percentage >= 50:\n",
    "    grade = \"C\"\n",
    "else:\n",
    "    grade = \"Fail\"\n",
    "\n",
    "print(\"Your grade is:\", grade)\n"
   ]
  },
  {
   "cell_type": "code",
   "execution_count": 2,
   "id": "2b347e59-d248-490f-aecd-727b3e30167f",
   "metadata": {},
   "outputs": [
    {
     "name": "stdin",
     "output_type": "stream",
     "text": [
      "Enter the cost price of the bike:  5600000\n"
     ]
    },
    {
     "name": "stdout",
     "output_type": "stream",
     "text": [
      "The road tax to be paid is Rs. 840000.0\n"
     ]
    }
   ],
   "source": [
    "# Q2.\n",
    "\n",
    "\n",
    "cost_price = float(input(\"Enter the cost price of the bike: \"))\n",
    "\n",
    "if cost_price > 100000:\n",
    "    tax = cost_price * 0.15\n",
    "elif cost_price > 50000:\n",
    "    tax = cost_price * 0.10\n",
    "else:\n",
    "    tax = cost_price * 0.05\n",
    "\n",
    "print(\"The road tax to be paid is Rs.\", tax)\n"
   ]
  },
  {
   "cell_type": "code",
   "execution_count": 3,
   "id": "db4f5936-2474-41e3-a7e5-dc7011a0f4b5",
   "metadata": {},
   "outputs": [
    {
     "name": "stdin",
     "output_type": "stream",
     "text": [
      "Enter a city:  Delhi\n"
     ]
    },
    {
     "name": "stdout",
     "output_type": "stream",
     "text": [
      "The monument of Delhi is Red Fort\n"
     ]
    }
   ],
   "source": [
    "# Q3.\n",
    "\n",
    "\n",
    "city = input(\"Enter a city: \")\n",
    "\n",
    "if city.lower() == \"delhi\":\n",
    "    monument = \"Red Fort\"\n",
    "elif city.lower() == \"agra\":\n",
    "    monument = \"Taj Mahal\"\n",
    "elif city.lower() == \"jaipur\":\n",
    "    monument = \"Jal Mahal\"\n",
    "else:\n",
    "    monument = \"Unknown\"\n",
    "\n",
    "if monument != \"Unknown\":\n",
    "    print(\"The monument of\", city, \"is\", monument)\n",
    "else:\n",
    "    print(\"Sorry, the monument of\", city, \"is not available in our database.\")\n"
   ]
  },
  {
   "cell_type": "code",
   "execution_count": 4,
   "id": "16d03a73-0498-4c2f-b140-daf25a134736",
   "metadata": {},
   "outputs": [
    {
     "name": "stdin",
     "output_type": "stream",
     "text": [
      "Enter a number:  56\n"
     ]
    },
    {
     "name": "stdout",
     "output_type": "stream",
     "text": [
      "The number can be divided by 3 2 times before it is less than or equal to 10.\n"
     ]
    }
   ],
   "source": [
    "# Q4.\n",
    "\n",
    "\n",
    "number = int(input(\"Enter a number: \"))\n",
    "count = 0\n",
    "\n",
    "while number > 10:\n",
    "    number /= 3\n",
    "    count += 1\n",
    "\n",
    "print(\"The number can be divided by 3\", count, \"times before it is less than or equal to 10.\")"
   ]
  },
  {
   "cell_type": "markdown",
   "id": "e0a38966-67f3-4e6f-9e49-8536795595d6",
   "metadata": {},
   "source": [
    "# Q5.\n",
    "\n",
    "In Python, the while loop is used to repeatedly execute a block of code as long as a particular condition is true. The loop continues until the condition becomes false. The general syntax of a while loop in Python is as follows:\n",
    "\n",
    "while condition:\n",
    "    statement(s)\n",
    "\n",
    "The condition is evaluated at the beginning of each iteration of the loop. If it is true, the statements inside the loop are executed. After the execution of the statements, the condition is evaluated again, and if it is still true, the statements are executed again. This process continues until the condition becomes false.\n",
    "\n",
    "The while loop is useful when you want to execute a block of code repeatedly until a certain condition is met. For example, you might want to read data from a file until the end of the file is reached or keep prompting the user to enter a valid input until one is entered."
   ]
  },
  {
   "cell_type": "code",
   "execution_count": 8,
   "id": "3a4f8f41-5995-4220-94bc-3bcdbea8cb3b",
   "metadata": {},
   "outputs": [
    {
     "name": "stdout",
     "output_type": "stream",
     "text": [
      "*\n",
      "**\n",
      "***\n",
      "****\n",
      "*****\n",
      "--------------------------\n",
      "    *\n",
      "   **\n",
      "  ***\n",
      " ****\n",
      "*****\n",
      "--------------------------\n",
      "*****\n",
      "****\n",
      "***\n",
      "**\n",
      "*\n"
     ]
    }
   ],
   "source": [
    "# Q6\n",
    "\n",
    "i = 1\n",
    "while i <= 5:\n",
    "    j = 1\n",
    "    while j <= i:\n",
    "        print(\"*\", end=\"\")\n",
    "        j += 1\n",
    "    print()\n",
    "    i += 1\n",
    "\n",
    "\n",
    "print(\"--------------------------\")    \n",
    "\n",
    "i = 1\n",
    "while i <= 5:\n",
    "    j = 5\n",
    "    while j >= 1:\n",
    "        if j > i:\n",
    "            print(\" \", end=\"\")\n",
    "        else:\n",
    "            print(\"*\", end=\"\")\n",
    "        j -= 1\n",
    "    print()\n",
    "    i += 1\n",
    "    \n",
    "\n",
    "print(\"--------------------------\")    \n",
    "\n",
    "i = 5\n",
    "while i >= 1:\n",
    "    j = 1\n",
    "    while j <= i:\n",
    "        print(\"*\", end=\"\")\n",
    "        j += 1\n",
    "    print()\n",
    "    i -= 1\n"
   ]
  },
  {
   "cell_type": "code",
   "execution_count": 9,
   "id": "dfd1b4ba-4844-4266-a2d6-61c9ad628f0c",
   "metadata": {},
   "outputs": [
    {
     "name": "stdout",
     "output_type": "stream",
     "text": [
      "1\n",
      "0\n"
     ]
    }
   ],
   "source": [
    "# Q7.\n",
    "\n",
    "\n",
    "num = 1\n",
    "while num >= 0:\n",
    "    print(num)\n",
    "    num -= 1\n"
   ]
  },
  {
   "cell_type": "code",
   "execution_count": 10,
   "id": "64565222-2731-400c-a271-2c1b49eea572",
   "metadata": {},
   "outputs": [
    {
     "name": "stdout",
     "output_type": "stream",
     "text": [
      "10\n",
      "9\n",
      "8\n",
      "7\n",
      "6\n",
      "5\n",
      "4\n",
      "3\n",
      "2\n",
      "1\n"
     ]
    }
   ],
   "source": [
    "# Q8.\n",
    "\n",
    "num = 10\n",
    "while num >= 1:\n",
    "    print(num)\n",
    "    num -= 1\n"
   ]
  },
  {
   "cell_type": "code",
   "execution_count": null,
   "id": "10007d06-7066-4308-b434-96886f1da10e",
   "metadata": {},
   "outputs": [],
   "source": []
  }
 ],
 "metadata": {
  "kernelspec": {
   "display_name": "Python 3 (ipykernel)",
   "language": "python",
   "name": "python3"
  },
  "language_info": {
   "codemirror_mode": {
    "name": "ipython",
    "version": 3
   },
   "file_extension": ".py",
   "mimetype": "text/x-python",
   "name": "python",
   "nbconvert_exporter": "python",
   "pygments_lexer": "ipython3",
   "version": "3.10.8"
  }
 },
 "nbformat": 4,
 "nbformat_minor": 5
}
