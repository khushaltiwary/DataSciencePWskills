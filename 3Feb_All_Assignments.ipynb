{
 "cells": [
  {
   "cell_type": "markdown",
   "id": "c9b82fb0-be97-448f-a96a-46a446598ae8",
   "metadata": {},
   "source": [
    "\"def\" keyword is used to define a function in python \n",
    "    syntax -> def func_name(arguments if any):\n",
    "                    return (if required)"
   ]
  },
  {
   "cell_type": "code",
   "execution_count": 62,
   "id": "5e1cde08-c4f7-4cb9-928a-3a222c443263",
   "metadata": {},
   "outputs": [],
   "source": [
    "def generateListOddNo(start,end):\n",
    "    counter = 2\n",
    "    for num in range(start,end+1):\n",
    "        if num%2!=0:\n",
    "            print(num,end= \" \")"
   ]
  },
  {
   "cell_type": "code",
   "execution_count": 63,
   "id": "3e2b7263-a1b1-4b5f-a1be-7f5392847763",
   "metadata": {},
   "outputs": [
    {
     "name": "stdout",
     "output_type": "stream",
     "text": [
      "1 3 5 7 9 11 13 15 17 19 21 23 25 "
     ]
    }
   ],
   "source": [
    "generateListOddNo(1,25)"
   ]
  },
  {
   "cell_type": "markdown",
   "id": "254a79df-ed36-4932-81e5-5f30e584c32b",
   "metadata": {},
   "source": [
    "Q2.\n",
    "*args are used in python when we ain't sure about how many arguments are currently needed to pass into a function.\n",
    "~These are used to pass a variable no of arguments to a functions.\n",
    "\n",
    "**kwargs are used to pass variable dict no of arguments to a functions. \n",
    "~All the keyword arguments are collected into a dictionary and then passed to the function as a single argument."
   ]
  },
  {
   "cell_type": "code",
   "execution_count": 1,
   "id": "db122c44-7636-4891-806c-12ab5b1d455e",
   "metadata": {},
   "outputs": [
    {
     "name": "stdout",
     "output_type": "stream",
     "text": [
      "1\n",
      "2\n",
      "3\n"
     ]
    }
   ],
   "source": [
    "# Example - *args --->\n",
    "def my_func(*args):\n",
    "    for arg in args:\n",
    "        print(arg)\n",
    "\n",
    "my_func(1, 2, 3) "
   ]
  },
  {
   "cell_type": "code",
   "execution_count": 3,
   "id": "ed5c8cd5-62c7-4090-bb6a-6c53626a73be",
   "metadata": {},
   "outputs": [
    {
     "name": "stdout",
     "output_type": "stream",
     "text": [
      "name = John\n",
      "age = 30\n",
      "city = New York\n"
     ]
    }
   ],
   "source": [
    "#Example - **kwargs ---->\n",
    "def my_func(**kwargs):\n",
    "    for key, value in kwargs.items():\n",
    "        print(f\"{key} = {value}\")\n",
    "\n",
    "my_func(name='John', age=30, city='New York')"
   ]
  },
  {
   "cell_type": "code",
   "execution_count": null,
   "id": "0532d339-7656-4e10-a1e4-e6acf8d78b78",
   "metadata": {},
   "outputs": [],
   "source": [
    "Q3.  \n",
    "An iterator is an object that implemets the iterator protocol i,e \"__iter__()\" and \"___next__()\"methods.\n",
    "~These helps to iterate through the sequence of values one by one, without having to load the entire seq at once in the memory.\n",
    "\n",
    "Example ----->"
   ]
  },
  {
   "cell_type": "code",
   "execution_count": 1,
   "id": "e4d6e368-e01f-4aef-ad10-132148df8f34",
   "metadata": {},
   "outputs": [],
   "source": [
    "class MyIterator:\n",
    "    def __init__(self, max_val):\n",
    "        self.max_val = max_val\n",
    "        self.current_val = 0\n",
    "    \n",
    "    def __iter__(self):\n",
    "        return self\n",
    "    \n",
    "    def __next__(self):\n",
    "        if self.current_val >= self.max_val:\n",
    "            raise StopIteration\n",
    "        else:\n",
    "            self.current_val += 1\n",
    "            return self.current_val - 1\n"
   ]
  },
  {
   "cell_type": "code",
   "execution_count": 2,
   "id": "55bcbf9b-726a-4deb-b5b3-d5783f2d9810",
   "metadata": {},
   "outputs": [
    {
     "name": "stdout",
     "output_type": "stream",
     "text": [
      "0\n",
      "1\n",
      "2\n",
      "3\n",
      "4\n"
     ]
    }
   ],
   "source": [
    "my_iterator = MyIterator(5)\n",
    "for i in my_iterator:\n",
    "    print(i)"
   ]
  },
  {
   "cell_type": "raw",
   "id": "c4c9fa54-8cd3-40a7-b674-7bf654098014",
   "metadata": {},
   "source": [
    "Q4.\n",
    "Generator function  is a special type of function that returns an iterator object. Unlike regular functions, which execute and return a value once and then terminate, a generator function can pause its execution and return a value, and then resume its execution from where it left off when asked to generate the next value.\n",
    "~ These functions are defined using the yield keyword"
   ]
  },
  {
   "cell_type": "code",
   "execution_count": 3,
   "id": "c89c6aad-65b0-4a8a-b19c-4c9e387178ce",
   "metadata": {},
   "outputs": [],
   "source": [
    "def my_generator(max_val):\n",
    "    current_val = 0\n",
    "    while current_val < max_val:\n",
    "        yield current_val\n",
    "        current_val += 1\n"
   ]
  },
  {
   "cell_type": "code",
   "execution_count": 4,
   "id": "f4614cb5-87db-44fd-bf1a-2669f732e866",
   "metadata": {},
   "outputs": [
    {
     "name": "stdout",
     "output_type": "stream",
     "text": [
      "0\n",
      "1\n",
      "2\n",
      "3\n",
      "4\n"
     ]
    }
   ],
   "source": [
    "my_iterator = my_generator(5)\n",
    "for i in my_iterator:\n",
    "    print(i)"
   ]
  },
  {
   "cell_type": "raw",
   "id": "d9a9d7dd-fa85-400b-8704-969183645c43",
   "metadata": {},
   "source": [
    "Q5."
   ]
  },
  {
   "cell_type": "code",
   "execution_count": 15,
   "id": "8d4554ae-9e22-484f-9ff6-8c1043897dbe",
   "metadata": {},
   "outputs": [
    {
     "name": "stdout",
     "output_type": "stream",
     "text": [
      "2\n",
      "3\n",
      "5\n",
      "7\n",
      "11\n",
      "13\n",
      "17\n",
      "19\n",
      "23\n",
      "29\n",
      "31\n",
      "37\n",
      "41\n",
      "43\n",
      "47\n",
      "53\n",
      "59\n",
      "61\n",
      "67\n",
      "71\n"
     ]
    }
   ],
   "source": [
    "def primes():\n",
    "    yield 2\n",
    "    primes_list = [2]\n",
    "    num = 3\n",
    "    while num < 1000:\n",
    "        is_prime = True\n",
    "        for prime in primes_list:\n",
    "            if prime * prime > num:\n",
    "                break\n",
    "            if num % prime == 0:\n",
    "                is_prime = False\n",
    "                break\n",
    "        if is_prime:\n",
    "            primes_list.append(num)\n",
    "            yield num\n",
    "        num += 2\n",
    "\n",
    "gen = primes()\n",
    "for i in range(20):\n",
    "    print(next(gen))\n",
    "\n"
   ]
  },
  {
   "cell_type": "raw",
   "id": "a4985496-7a8c-4ea6-a4b9-9fef880e4e1f",
   "metadata": {},
   "source": [
    "Q6."
   ]
  },
  {
   "cell_type": "code",
   "execution_count": 16,
   "id": "43055e57-dc31-4cbf-8fdd-05ca15b38d8a",
   "metadata": {},
   "outputs": [
    {
     "name": "stdout",
     "output_type": "stream",
     "text": [
      "0 1 1 2 3 5 8 13 21 34 "
     ]
    }
   ],
   "source": [
    "a, b = 0, 1\n",
    "count = 0\n",
    "while count < 10:\n",
    "    print(a, end=' ')\n",
    "    a, b = b, a+b\n",
    "    count += 1\n",
    "\n",
    "    "
   ]
  },
  {
   "cell_type": "markdown",
   "id": "52cd2398-d57d-4e24-9b9b-3a28bc42e79d",
   "metadata": {},
   "source": [
    "Q7."
   ]
  },
  {
   "cell_type": "code",
   "execution_count": 33,
   "id": "dd1a8f23-b148-4e0a-a939-4e2d05381e12",
   "metadata": {},
   "outputs": [
    {
     "name": "stdout",
     "output_type": "stream",
     "text": [
      "['p', 'w', 's', 'k', 'i', 'l', 'l', 's']\n"
     ]
    }
   ],
   "source": [
    "string = 'pwskills'\n",
    "result = [char for char in string]\n",
    "print(result)"
   ]
  },
  {
   "cell_type": "raw",
   "id": "03b996a3-ab09-47f9-8714-2e7194ce6a41",
   "metadata": {},
   "source": [
    "Q8"
   ]
  },
  {
   "cell_type": "code",
   "execution_count": 36,
   "id": "2971bf46-ac08-4dea-941b-0546ab8f1735",
   "metadata": {},
   "outputs": [
    {
     "name": "stdin",
     "output_type": "stream",
     "text": [
      "Enter a number:  55\n"
     ]
    },
    {
     "name": "stdout",
     "output_type": "stream",
     "text": [
      "55 is a palindrome\n"
     ]
    }
   ],
   "source": [
    "num = int(input(\"Enter a number: \"))\n",
    "temp = num\n",
    "reverse = 0\n",
    "while temp > 0:\n",
    "    digit = temp % 10\n",
    "    reverse = (reverse * 10) + digit\n",
    "    temp = temp // 10\n",
    "if num == reverse:\n",
    "    print(num, \"is a palindrome\")\n",
    "else:\n",
    "    print(num, \"is not a palindrome\")\n"
   ]
  },
  {
   "cell_type": "markdown",
   "id": "6ce32068-a40b-4ec1-aeae-d42c5703d6c7",
   "metadata": {},
   "source": [
    "Q9"
   ]
  },
  {
   "cell_type": "code",
   "execution_count": 38,
   "id": "84646638-5bf7-4fd7-9e9a-24c9406413b7",
   "metadata": {},
   "outputs": [
    {
     "data": {
      "text/plain": [
       "[1,\n",
       " 3,\n",
       " 5,\n",
       " 7,\n",
       " 9,\n",
       " 11,\n",
       " 13,\n",
       " 15,\n",
       " 17,\n",
       " 19,\n",
       " 21,\n",
       " 23,\n",
       " 25,\n",
       " 27,\n",
       " 29,\n",
       " 31,\n",
       " 33,\n",
       " 35,\n",
       " 37,\n",
       " 39,\n",
       " 41,\n",
       " 43,\n",
       " 45,\n",
       " 47,\n",
       " 49,\n",
       " 51,\n",
       " 53,\n",
       " 55,\n",
       " 57,\n",
       " 59,\n",
       " 61,\n",
       " 63,\n",
       " 65,\n",
       " 67,\n",
       " 69,\n",
       " 71,\n",
       " 73,\n",
       " 75,\n",
       " 77,\n",
       " 79,\n",
       " 81,\n",
       " 83,\n",
       " 85,\n",
       " 87,\n",
       " 89,\n",
       " 91,\n",
       " 93,\n",
       " 95,\n",
       " 97,\n",
       " 99]"
      ]
     },
     "execution_count": 38,
     "metadata": {},
     "output_type": "execute_result"
    }
   ],
   "source": [
    "[i for i in range(1,101) if i%2 != 0]"
   ]
  },
  {
   "cell_type": "code",
   "execution_count": null,
   "id": "d54ba27e-0d52-4a68-b0a6-2c6cc16fd536",
   "metadata": {},
   "outputs": [],
   "source": []
  }
 ],
 "metadata": {
  "kernelspec": {
   "display_name": "Python 3 (ipykernel)",
   "language": "python",
   "name": "python3"
  },
  "language_info": {
   "codemirror_mode": {
    "name": "ipython",
    "version": 3
   },
   "file_extension": ".py",
   "mimetype": "text/x-python",
   "name": "python",
   "nbconvert_exporter": "python",
   "pygments_lexer": "ipython3",
   "version": "3.10.8"
  }
 },
 "nbformat": 4,
 "nbformat_minor": 5
}
