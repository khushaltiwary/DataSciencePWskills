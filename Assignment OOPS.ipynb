{
 "cells": [
  {
   "cell_type": "code",
   "execution_count": null,
   "id": "df876bdb-89fe-4eea-bb15-6cc9bdd3f688",
   "metadata": {},
   "outputs": [],
   "source": [
    "Q1. Explain Class and Object with respect to Object-Oriented Programming. Give a suitable example."
   ]
  },
  {
   "cell_type": "code",
   "execution_count": null,
   "id": "8c4c9105-5336-45e7-b92c-74861f57e79b",
   "metadata": {},
   "outputs": [],
   "source": [
    "A Class in object oriented programming is a blueprint or prototype that defines the variables and the methods\n",
    "An object is a single instance of a class, which contains data and methods working on that data.\n",
    "\n",
    "class example:\n",
    "    \n",
    "    def python(self):\n",
    "        print(\"This is Data Science Course\")"
   ]
  },
  {
   "cell_type": "code",
   "execution_count": 1,
   "id": "7d60b955-b39e-42ee-b27e-be1c4dbd4694",
   "metadata": {},
   "outputs": [],
   "source": [
    "class example:\n",
    "    \n",
    "    def python(self):\n",
    "        print(\"This is Data Science Course\")"
   ]
  },
  {
   "cell_type": "code",
   "execution_count": 2,
   "id": "698b6121-2871-4360-92f0-1b6101bb4c40",
   "metadata": {},
   "outputs": [],
   "source": [
    "shantanu = example()"
   ]
  },
  {
   "cell_type": "code",
   "execution_count": 3,
   "id": "4ab3f342-9bdf-4bad-b0c6-f9acf8cc456d",
   "metadata": {},
   "outputs": [
    {
     "name": "stdout",
     "output_type": "stream",
     "text": [
      "This is Data Science Course\n"
     ]
    }
   ],
   "source": [
    "shantanu.python()"
   ]
  },
  {
   "cell_type": "code",
   "execution_count": null,
   "id": "e1eda047-6554-4f3d-9190-e74ea97515e9",
   "metadata": {},
   "outputs": [],
   "source": [
    "Q2. Name the four pillars of OOPs.\n",
    "Answer::Inheritance\n",
    "        Polymorphism\n",
    "        Encapsulation \n",
    "        Abstraction"
   ]
  },
  {
   "cell_type": "code",
   "execution_count": null,
   "id": "817b5634-1aa7-47d2-a1e0-ceb858431f2c",
   "metadata": {},
   "outputs": [],
   "source": [
    "Q3. Explain why the __init__() function is used. Give a suitable example.\n",
    "Ans::The __init__ method lets the class initialize the object's attributes\n",
    "\n",
    "Example::\n",
    "\n",
    "            \n",
    "        "
   ]
  },
  {
   "cell_type": "code",
   "execution_count": 13,
   "id": "3bd58fcc-c3d8-4a0e-8874-64e2ad75e709",
   "metadata": {},
   "outputs": [],
   "source": [
    "class employee:\n",
    "    def __init__(self,employe_id,city_name,district):\n",
    "        self.employe_id = employe_id\n",
    "        self.city_name = city_name\n",
    "        self.district = district\n",
    "    def result(self):\n",
    "            return  self.employe_id,self.city_name, self.district"
   ]
  },
  {
   "cell_type": "code",
   "execution_count": 14,
   "id": "f15e43ab-f0e0-46ee-8cd8-ee9b347a349c",
   "metadata": {},
   "outputs": [],
   "source": [
    "l = employee(23,\"Pune\",\"Haveli\")"
   ]
  },
  {
   "cell_type": "code",
   "execution_count": 15,
   "id": "02592f25-dcc4-4eed-bbac-35169c7f20ef",
   "metadata": {},
   "outputs": [
    {
     "data": {
      "text/plain": [
       "23"
      ]
     },
     "execution_count": 15,
     "metadata": {},
     "output_type": "execute_result"
    }
   ],
   "source": [
    "l.employe_id"
   ]
  },
  {
   "cell_type": "code",
   "execution_count": 16,
   "id": "d7e8da33-e866-4fd2-a116-4d4303a2b27f",
   "metadata": {},
   "outputs": [
    {
     "data": {
      "text/plain": [
       "(23, 'Pune', 'Haveli')"
      ]
     },
     "execution_count": 16,
     "metadata": {},
     "output_type": "execute_result"
    }
   ],
   "source": [
    "l.result()"
   ]
  },
  {
   "cell_type": "code",
   "execution_count": 17,
   "id": "021e1dbd-76e7-49d3-8b43-37e1d4f582d2",
   "metadata": {},
   "outputs": [],
   "source": [
    "shantanu = employee(2,\"Nanded\",\"Maharashtra\")"
   ]
  },
  {
   "cell_type": "code",
   "execution_count": 18,
   "id": "3969c796-b783-4649-b872-613e46caded6",
   "metadata": {},
   "outputs": [
    {
     "data": {
      "text/plain": [
       "(2, 'Nanded', 'Maharashtra')"
      ]
     },
     "execution_count": 18,
     "metadata": {},
     "output_type": "execute_result"
    }
   ],
   "source": [
    "shantanu.result()"
   ]
  },
  {
   "cell_type": "code",
   "execution_count": 19,
   "id": "96b9f95c-575f-4582-b898-30b17702c960",
   "metadata": {},
   "outputs": [
    {
     "data": {
      "text/plain": [
       "'Nanded'"
      ]
     },
     "execution_count": 19,
     "metadata": {},
     "output_type": "execute_result"
    }
   ],
   "source": [
    "shantanu.city_name"
   ]
  },
  {
   "cell_type": "code",
   "execution_count": null,
   "id": "704d48a9-7b6d-42e8-832a-5b016f017573",
   "metadata": {},
   "outputs": [],
   "source": [
    "Q4. Why self is used in OOPs?\n",
    "Self represents the instance of the class. By using the “self” we can access the attributes and methods of the class in python."
   ]
  },
  {
   "cell_type": "code",
   "execution_count": null,
   "id": "81ac525e-ca45-430f-90f0-9adeb27b8e04",
   "metadata": {},
   "outputs": [],
   "source": [
    "Q5. What is inheritance? Give an example for each type of inheritance.\n",
    "Answer::Inheritance is a feature or a process in which, new classes are created from the existing classes. \n",
    "1. Single Inheritance \n",
    "   class A -> Class B\n",
    "    \n",
    "2. Multilevel Inheritance\n",
    "   class A-> Class B -> Class C\n",
    "    \n",
    "3. Multiple Inheritance\n",
    "   class A  Class B -> Class C\n",
    "    \n",
    "4. Hierarchical inheritance\n",
    "   class A ->  class B \n",
    "    class A -> Class C"
   ]
  }
 ],
 "metadata": {
  "kernelspec": {
   "display_name": "Python 3 (ipykernel)",
   "language": "python",
   "name": "python3"
  },
  "language_info": {
   "codemirror_mode": {
    "name": "ipython",
    "version": 3
   },
   "file_extension": ".py",
   "mimetype": "text/x-python",
   "name": "python",
   "nbconvert_exporter": "python",
   "pygments_lexer": "ipython3",
   "version": "3.10.8"
  }
 },
 "nbformat": 4,
 "nbformat_minor": 5
}
