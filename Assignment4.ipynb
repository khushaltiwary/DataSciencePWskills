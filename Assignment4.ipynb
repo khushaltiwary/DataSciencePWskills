{
 "cells": [
  {
   "cell_type": "code",
   "execution_count": null,
   "id": "7c133eda-9ee6-4f1f-83fe-a52370fc0934",
   "metadata": {},
   "outputs": [],
   "source": [
    "Q1. Which keyword is used to create a function? Create a function to return a list of odd numbers in the  range of 1 to 25. \n",
    "Ans: def"
   ]
  },
  {
   "cell_type": "code",
   "execution_count": 17,
   "id": "2b742920-8911-455e-b6bb-bfb6cd71203d",
   "metadata": {},
   "outputs": [],
   "source": [
    "x = 26\n",
    "l = []\n",
    "def Odd_num():\n",
    "    for i in range(x):\n",
    "        if i%2 != 0:\n",
    "            l.append(i)        \n",
    "    return  l   "
   ]
  },
  {
   "cell_type": "code",
   "execution_count": 18,
   "id": "f6e60b15-838e-4706-9e70-6e973115dbe6",
   "metadata": {},
   "outputs": [
    {
     "data": {
      "text/plain": [
       "[1, 3, 5, 7, 9, 11, 13, 15, 17, 19, 21, 23, 25]"
      ]
     },
     "execution_count": 18,
     "metadata": {},
     "output_type": "execute_result"
    }
   ],
   "source": [
    "Odd_num()"
   ]
  },
  {
   "cell_type": "code",
   "execution_count": null,
   "id": "5318f7f4-ca55-4597-9f2f-8066b256e0c3",
   "metadata": {},
   "outputs": [],
   "source": [
    "Q2. Why *args and **kwargs is used in some functions? Create a function each for *args and **kwargs  to demonstrate their use. \n",
    " Ans: *args is used to give multiple inputs,\n",
    "      *kwargs is used to give inputs as key value pair"
   ]
  },
  {
   "cell_type": "code",
   "execution_count": 31,
   "id": "c4841486-fad9-41f3-ae3b-a094f2623d13",
   "metadata": {},
   "outputs": [],
   "source": [
    "def python(*args):\n",
    "    return args"
   ]
  },
  {
   "cell_type": "code",
   "execution_count": 32,
   "id": "5b6b2420-8976-4aa1-a5a1-1ddf5ad4258b",
   "metadata": {},
   "outputs": [
    {
     "data": {
      "text/plain": [
       "(1, 2, 3)"
      ]
     },
     "execution_count": 32,
     "metadata": {},
     "output_type": "execute_result"
    }
   ],
   "source": [
    "python(1,2,3)"
   ]
  },
  {
   "cell_type": "code",
   "execution_count": 35,
   "id": "11ed5f4f-f719-4d32-8fad-8a0217c11a8c",
   "metadata": {},
   "outputs": [],
   "source": [
    "def python1(**kwargs):\n",
    "    return kwargs"
   ]
  },
  {
   "cell_type": "code",
   "execution_count": 36,
   "id": "eadf8e09-6c7c-4465-9175-ca3a41a05e26",
   "metadata": {},
   "outputs": [
    {
     "data": {
      "text/plain": [
       "dict"
      ]
     },
     "execution_count": 36,
     "metadata": {},
     "output_type": "execute_result"
    }
   ],
   "source": [
    "type(python1())"
   ]
  },
  {
   "cell_type": "code",
   "execution_count": 38,
   "id": "00841b86-f099-4798-9540-c70d4287b3c8",
   "metadata": {},
   "outputs": [
    {
     "data": {
      "text/plain": [
       "{'a': 15, 'b': 25, 'c': 'Shantanu'}"
      ]
     },
     "execution_count": 38,
     "metadata": {},
     "output_type": "execute_result"
    }
   ],
   "source": [
    "python1(a = 15,b =25,c = 'Shantanu')"
   ]
  },
  {
   "cell_type": "code",
   "execution_count": null,
   "id": "355bb8d5-1c64-4707-91c2-98964c006e12",
   "metadata": {},
   "outputs": [],
   "source": [
    "What is an iterator in python? Name the method used to initialise the iterator object and the method used for iteration\n",
    "Ans: Iterator in Python is an object that is used to iterate over iterable objects like lists, tuples, dicts, and sets. The iterator object is initialized using the iter() method. It uses the next() method for iteration"
   ]
  },
  {
   "cell_type": "code",
   "execution_count": null,
   "id": "8b7ebe5e-3594-45a1-bdd0-3bca6d60cb42",
   "metadata": {},
   "outputs": [],
   "source": [
    "Use these methods to print the first five elements of the given list [2, 4, 6, 8, 10, 12, 14,  16, 18, 20]. "
   ]
  },
  {
   "cell_type": "code",
   "execution_count": 54,
   "id": "ce2c5526-4e18-4a1b-b0f4-5b725f2f8fdf",
   "metadata": {},
   "outputs": [],
   "source": [
    "l = [2, 4, 6, 8, 10, 12, 14,  16, 18, 20]\n",
    "n = 5\n",
    "l1 = []\n",
    "def iterator():\n",
    "    for i in range(n):\n",
    "        l1.append(l[i])\n",
    "    return l1    \n",
    "        \n",
    "        "
   ]
  },
  {
   "cell_type": "code",
   "execution_count": 55,
   "id": "2a98b1e0-e3b2-4e27-b06b-a0db8163e3fa",
   "metadata": {},
   "outputs": [
    {
     "data": {
      "text/plain": [
       "[2, 4, 6, 8, 10]"
      ]
     },
     "execution_count": 55,
     "metadata": {},
     "output_type": "execute_result"
    }
   ],
   "source": [
    "iterator()"
   ]
  },
  {
   "cell_type": "code",
   "execution_count": null,
   "id": "39558cd5-2098-4adb-8071-3f8b819a3d72",
   "metadata": {},
   "outputs": [],
   "source": [
    "Q4.  What is a generator function in python? Why yield keyword is used? Give an example of a generator  function. \n",
    "Ans: A generator is a function that returns an iterator that produces a sequence of values when iterated over.\n",
    "     yield keyword is used to create a generator function"
   ]
  },
  {
   "cell_type": "code",
   "execution_count": 57,
   "id": "4e63e520-0f0f-454d-84a1-291b707deba8",
   "metadata": {},
   "outputs": [],
   "source": [
    "def simple():  \n",
    "    for i in range(10):  \n",
    "        if(i%2==0):  \n",
    "             yield i  \n",
    "  "
   ]
  },
  {
   "cell_type": "code",
   "execution_count": 58,
   "id": "0de568af-e0e0-46d9-8f95-b1548ee4ce0b",
   "metadata": {},
   "outputs": [
    {
     "name": "stdout",
     "output_type": "stream",
     "text": [
      "0\n",
      "2\n",
      "4\n",
      "6\n",
      "8\n"
     ]
    }
   ],
   "source": [
    "for i in simple():\n",
    "    print(i)"
   ]
  },
  {
   "cell_type": "code",
   "execution_count": null,
   "id": "31e77d06-2d5c-4509-9b9b-1c6dd75a8227",
   "metadata": {},
   "outputs": [],
   "source": [
    "Q5. Create a generator function for prime numbers less than 1000. Use the next() method to print the  first 20 prime numbers."
   ]
  },
  {
   "cell_type": "code",
   "execution_count": 87,
   "id": "d0d27440-2b9e-4458-928e-e8c4c32a1620",
   "metadata": {},
   "outputs": [
    {
     "name": "stdin",
     "output_type": "stream",
     "text": [
      "Please, Enter the Lowest Range Value:  2\n",
      "Please, Enter the Upper Range Value:  20\n"
     ]
    },
    {
     "name": "stdout",
     "output_type": "stream",
     "text": [
      "The Prime Numbers in the range are: \n"
     ]
    }
   ],
   "source": [
    "lower_value = int(input (\"Please, Enter the Lowest Range Value: \"))  \n",
    "upper_value = int(input (\"Please, Enter the Upper Range Value: \"))  \n",
    "  \n",
    "print (\"The Prime Numbers in the range are: \")\n",
    "def prime_number():\n",
    "    for i in range (lower_value, upper_value + 1):\n",
    "    \n",
    "        if i/2==1 or i%2 != 0:\n",
    "        \n",
    "            print(i)\n",
    "    \n",
    "    "
   ]
  },
  {
   "cell_type": "code",
   "execution_count": 89,
   "id": "908f4a02-5155-405b-96d9-383ebab63eb2",
   "metadata": {},
   "outputs": [
    {
     "name": "stdout",
     "output_type": "stream",
     "text": [
      "2\n",
      "3\n",
      "5\n",
      "7\n",
      "9\n",
      "11\n",
      "13\n",
      "15\n",
      "17\n",
      "19\n"
     ]
    }
   ],
   "source": [
    "prime_number()"
   ]
  },
  {
   "cell_type": "code",
   "execution_count": 1,
   "id": "3f5982f5-c98a-4586-852f-58778f1e8157",
   "metadata": {},
   "outputs": [
    {
     "name": "stdin",
     "output_type": "stream",
     "text": [
      "Enter number 5\n"
     ]
    },
    {
     "name": "stdout",
     "output_type": "stream",
     "text": [
      "0\n",
      "1\n",
      "1\n",
      "2\n",
      "3\n"
     ]
    }
   ],
   "source": [
    "n = int(input(\"Enter number\"))\n",
    "a=0\n",
    "b=1\n",
    "i=0\n",
    "while i < n:\n",
    "    print(a)\n",
    "    c=a+b\n",
    "    a = b\n",
    "    b = c\n",
    "    i = i+1\n",
    "\n",
    "\n",
    "    "
   ]
  },
  {
   "cell_type": "code",
   "execution_count": null,
   "id": "7ff467ad-862d-44d1-aedb-e2e093ee7ed6",
   "metadata": {},
   "outputs": [],
   "source": [
    "Q7. Write a List Comprehension to iterate through the given string: ‘pwskills’.\n",
    "Expected output: ['p', 'w', 's', 'k', 'i', 'l', 'l', 's']"
   ]
  },
  {
   "cell_type": "code",
   "execution_count": 12,
   "id": "ad83a192-fdbc-4248-8982-704e67b6d61a",
   "metadata": {},
   "outputs": [
    {
     "name": "stdout",
     "output_type": "stream",
     "text": [
      "['p', 'w', 's', 'k', 'i', 'l', 'l', 's']\n"
     ]
    }
   ],
   "source": [
    "word = 'pwskills'\n",
    "l = []\n",
    "for i in word:\n",
    "    l.append(i)\n",
    "print(l)    \n",
    "  \n",
    "      "
   ]
  },
  {
   "cell_type": "code",
   "execution_count": null,
   "id": "58a4e665-7f18-4456-98a9-4de581006e6c",
   "metadata": {},
   "outputs": [],
   "source": [
    "Q9. Write a code to print odd numbers from 1 to 100 using list comprehension."
   ]
  },
  {
   "cell_type": "code",
   "execution_count": 18,
   "id": "c341933b-d4a6-4dda-aa24-7de21d474335",
   "metadata": {},
   "outputs": [
    {
     "name": "stdin",
     "output_type": "stream",
     "text": [
      "Enter a no. 8\n"
     ]
    },
    {
     "data": {
      "text/plain": [
       "[1, 3, 5, 7]"
      ]
     },
     "execution_count": 18,
     "metadata": {},
     "output_type": "execute_result"
    }
   ],
   "source": [
    "n = int(input(\"Enter a no.\"))\n",
    "[i for i in range(0,n+1) if i%2 == 1]\n"
   ]
  },
  {
   "cell_type": "code",
   "execution_count": null,
   "id": "2a9a48e2-7190-4bdd-b983-fe76dff7664a",
   "metadata": {},
   "outputs": [],
   "source": [
    "\"I'm not getting palindrome number question\""
   ]
  }
 ],
 "metadata": {
  "kernelspec": {
   "display_name": "Python 3 (ipykernel)",
   "language": "python",
   "name": "python3"
  },
  "language_info": {
   "codemirror_mode": {
    "name": "ipython",
    "version": 3
   },
   "file_extension": ".py",
   "mimetype": "text/x-python",
   "name": "python",
   "nbconvert_exporter": "python",
   "pygments_lexer": "ipython3",
   "version": "3.10.8"
  }
 },
 "nbformat": 4,
 "nbformat_minor": 5
}
