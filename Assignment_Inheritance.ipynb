{
 "cells": [
  {
   "cell_type": "code",
   "execution_count": null,
   "id": "4a051507-68e2-4980-9d3e-af8a60d4881b",
   "metadata": {},
   "outputs": [],
   "source": [
    "Q1, Create a vehicle class with an init method having instance variables as name_of_vehicle, max_speed\n",
    "and average_of_vehicle.\n"
   ]
  },
  {
   "cell_type": "code",
   "execution_count": 30,
   "id": "7ab5f12f-531a-459f-99ce-df3ae9179bf9",
   "metadata": {},
   "outputs": [],
   "source": [
    "class vehicle:\n",
    "    def __init__(self,name_of_vehicle,max_speed,average_of_vehicle):\n",
    "        self.name_of_vehicle = name_of_vehicle\n",
    "        self.max_speed = max_speed\n",
    "        self.average_of_vehicle = average_of_vehicle\n",
    "    def result_vehicle(self):\n",
    "        return self.name_of_vehicle,self.max_speed,self.average_of_vehicle\n",
    "    \n",
    "    \n"
   ]
  },
  {
   "cell_type": "code",
   "execution_count": 31,
   "id": "b6c8791c-e88c-469b-b5d5-f9bdbcadd3d4",
   "metadata": {},
   "outputs": [],
   "source": [
    "object_vehicle = vehicle(\"Continental_GT\",140,20)"
   ]
  },
  {
   "cell_type": "code",
   "execution_count": 32,
   "id": "4ec780f1-2a17-4157-9b49-8e7e75b609d9",
   "metadata": {},
   "outputs": [
    {
     "data": {
      "text/plain": [
       "('Continental_GT', 140, 20)"
      ]
     },
     "execution_count": 32,
     "metadata": {},
     "output_type": "execute_result"
    }
   ],
   "source": [
    "object_vehicle.result_vehicle()"
   ]
  },
  {
   "cell_type": "code",
   "execution_count": 33,
   "id": "a1196c06-d663-422c-a71c-6523ba13f1d0",
   "metadata": {},
   "outputs": [
    {
     "data": {
      "text/plain": [
       "140"
      ]
     },
     "execution_count": 33,
     "metadata": {},
     "output_type": "execute_result"
    }
   ],
   "source": [
    "object_vehicle.max_speed"
   ]
  },
  {
   "cell_type": "code",
   "execution_count": null,
   "id": "32ecaa7e-739b-45ad-9e76-7df510ceab25",
   "metadata": {},
   "outputs": [],
   "source": [
    "Q2. Create a child class car from the vehicle class created in Que 1, which will inherit the vehicle class.\n",
    "Create a method named seating_capacity which takes capacity as an argument and returns the name of\n",
    "the vehicle and its seating capacity."
   ]
  },
  {
   "cell_type": "code",
   "execution_count": 50,
   "id": "5022e2b0-948a-4a26-9211-016346c5aa55",
   "metadata": {},
   "outputs": [],
   "source": [
    "class vehicle:\n",
    "    def __init__(self,name_of_vehicle,max_speed,average_of_vehicle):\n",
    "        self.name_of_vehicle = name_of_vehicle\n",
    "        self.max_speed = max_speed\n",
    "        self.average_of_vehicle = average_of_vehicle\n",
    "class derived_class_vehicle(vehicle):\n",
    "    def result(self,seating_capacity):\n",
    "        self.seating_capacity = seating_capacity\n",
    "        return self.name_of_vehicle,self.seating_capacity\n",
    "    \n",
    "    "
   ]
  },
  {
   "cell_type": "code",
   "execution_count": 55,
   "id": "40220198-4dd5-42bf-9251-3fac2fc8fdb0",
   "metadata": {},
   "outputs": [],
   "source": [
    "obj_derived_class_vehicle = derived_class_vehicle(\"Continental GT\",140,70)"
   ]
  },
  {
   "cell_type": "code",
   "execution_count": 57,
   "id": "0f6a4e4b-89df-4628-a7df-80803291387c",
   "metadata": {},
   "outputs": [
    {
     "data": {
      "text/plain": [
       "('Continental GT', 2)"
      ]
     },
     "execution_count": 57,
     "metadata": {},
     "output_type": "execute_result"
    }
   ],
   "source": [
    "obj_derived_class_vehicle.result(2)"
   ]
  },
  {
   "cell_type": "code",
   "execution_count": null,
   "id": "ad3838c3-714d-433d-859f-addc16c0e866",
   "metadata": {},
   "outputs": [],
   "source": [
    "Q3. What is multiple inheritance? Write a python code to demonstrate multiple inheritance."
   ]
  },
  {
   "cell_type": "code",
   "execution_count": 1,
   "id": "a179450d-b52b-47b0-9227-d5f04f1ad7e1",
   "metadata": {},
   "outputs": [],
   "source": [
    "class School:\n",
    "    def __init__(self,school_name,roll_no):\n",
    "        self.school_name = school_name\n",
    "        self.roll_no = roll_no\n",
    "class Another_School(School):\n",
    "    def __init__(self,another_school_name,another_roll_no):\n",
    "        self.another_school_name = another_school_name\n",
    "        self.another_roll_no = another_roll_no\n",
    "class Different_class(Another_School):\n",
    "    def result(self,different_school,different_roll):\n",
    "        self.different_school = different_school\n",
    "        self.different_roll = different_roll\n",
    "        return self.another_school_name,self.different_roll\n",
    "    \n"
   ]
  },
  {
   "cell_type": "code",
   "execution_count": 2,
   "id": "52772643-5b78-469f-bbbc-ec0d6c0f69a4",
   "metadata": {},
   "outputs": [],
   "source": [
    "object_Another = Another_School('Lsps',22)"
   ]
  },
  {
   "cell_type": "code",
   "execution_count": 3,
   "id": "06ed1f2d-1d6e-40e2-94d8-f504d5dba5dd",
   "metadata": {},
   "outputs": [],
   "source": [
    "object_Different = Different_class('lslsls',44)"
   ]
  },
  {
   "cell_type": "code",
   "execution_count": 4,
   "id": "c74cd26b-16be-46a6-bfad-741d3273abc0",
   "metadata": {},
   "outputs": [
    {
     "data": {
      "text/plain": [
       "('lslsls', 77)"
      ]
     },
     "execution_count": 4,
     "metadata": {},
     "output_type": "execute_result"
    }
   ],
   "source": [
    "object_Different.result('ddddd',77)"
   ]
  },
  {
   "cell_type": "code",
   "execution_count": null,
   "id": "d9ad6ecd-e461-432e-a559-f107ff6de19c",
   "metadata": {},
   "outputs": [],
   "source": [
    "Q4. What are getter and setter in python? Create a class and create a getter and a setter method in this class."
   ]
  },
  {
   "cell_type": "code",
   "execution_count": null,
   "id": "a0cc5441-d8d8-4a00-97d8-c539479022e1",
   "metadata": {},
   "outputs": [],
   "source": [
    " Getter: A method that allows you to access an attribute in a given class.\n",
    " Setter: A method that allows you to set or mutate the value of an attribute in a class"
   ]
  },
  {
   "cell_type": "code",
   "execution_count": 6,
   "id": "e0eb7d47-e061-4ddd-8cac-312640faf477",
   "metadata": {},
   "outputs": [
    {
     "name": "stdout",
     "output_type": "stream",
     "text": [
      "19\n",
      "19\n"
     ]
    }
   ],
   "source": [
    "class Shantanu:   \n",
    "    def __init__(self, age = 0):   \n",
    "         self._age = age   \n",
    "         \n",
    "    def get_age(self):   \n",
    "        return self._age   \n",
    "        \n",
    "    def set_age(self, a):   \n",
    "        self._age = a   \n",
    "    \n",
    "John = Shantanu()   \n",
    "    \n",
    "#using the setter functi  \n",
    "John.set_age(19)   \n",
    "    \n",
    "# using the getter function  \n",
    "print(John.get_age())   \n",
    "    \n",
    "print(John._age)  "
   ]
  },
  {
   "cell_type": "code",
   "execution_count": null,
   "id": "bc098227-d8de-47f7-a438-d1f2e96ce72a",
   "metadata": {},
   "outputs": [],
   "source": [
    "Q5.What is method overriding in python? Write a python code to demonstrate method overriding."
   ]
  },
  {
   "cell_type": "code",
   "execution_count": null,
   "id": "d7bc20a7-a079-4e2f-87f3-25dc6b2d1f86",
   "metadata": {},
   "outputs": [],
   "source": [
    "Method overriding in Python is when you have two methods with the same name that each perform different tasks"
   ]
  },
  {
   "cell_type": "code",
   "execution_count": 7,
   "id": "f4a50954-183d-434d-8236-8a57c8ad256d",
   "metadata": {},
   "outputs": [
    {
     "name": "stdout",
     "output_type": "stream",
     "text": [
      "Inside Parent\n",
      "Inside Child\n"
     ]
    }
   ],
   "source": [
    "class Parent():\n",
    "      \n",
    "    # Constructor\n",
    "    def __init__(self):\n",
    "        self.value = \"Inside Parent\"\n",
    "          \n",
    "    # Parent's show method\n",
    "    def show(self):\n",
    "        print(self.value)\n",
    "          \n",
    "# Defining child class\n",
    "class Child(Parent):\n",
    "      \n",
    "    # Constructor\n",
    "    def __init__(self):\n",
    "        self.value = \"Inside Child\"\n",
    "          \n",
    "    # Child's show method\n",
    "    def show(self):\n",
    "        print(self.value)\n",
    "          \n",
    "          \n",
    "# Driver's code\n",
    "obj1 = Parent()\n",
    "obj2 = Child()\n",
    "  \n",
    "obj1.show()\n",
    "obj2.show()"
   ]
  },
  {
   "cell_type": "code",
   "execution_count": null,
   "id": "7567823f-a3a5-4339-9fe7-36cc186f257a",
   "metadata": {},
   "outputs": [],
   "source": []
  }
 ],
 "metadata": {
  "kernelspec": {
   "display_name": "Python 3 (ipykernel)",
   "language": "python",
   "name": "python3"
  },
  "language_info": {
   "codemirror_mode": {
    "name": "ipython",
    "version": 3
   },
   "file_extension": ".py",
   "mimetype": "text/x-python",
   "name": "python",
   "nbconvert_exporter": "python",
   "pygments_lexer": "ipython3",
   "version": "3.10.8"
  }
 },
 "nbformat": 4,
 "nbformat_minor": 5
}
