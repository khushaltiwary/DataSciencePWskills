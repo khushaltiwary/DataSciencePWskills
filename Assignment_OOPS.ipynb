{
 "cells": [
  {
   "cell_type": "code",
   "execution_count": null,
   "id": "6f4b5c31-e980-49e8-a422-51db41c4d8aa",
   "metadata": {},
   "outputs": [],
   "source": [
    "Q1. What is Abstraction in OOps? Explain with an example.\n",
    "ANS::Abstraction is the process of hiding the internal details of an application from the outer world\n",
    "Eaample::You can drive a car without knowing how the internal combustion engine works,"
   ]
  },
  {
   "cell_type": "code",
   "execution_count": null,
   "id": "858a5f52-7ece-4767-b1c6-2446fdb0990f",
   "metadata": {},
   "outputs": [],
   "source": [
    "Q2. Differentiate between Abstraction and Encapsulation. Explain with an example.\n",
    "ANS::Abstraction is a design level process and it is used to reduce the complexity at the designing stage of a project.\n",
    "      Encapsulation is an implementation level process, and it is used to provide privacy and\n",
    "      maintain control over the transparency of data at the implementation stage of a project"
   ]
  },
  {
   "cell_type": "code",
   "execution_count": null,
   "id": "3e09aa13-965a-4fbe-aee3-3de1d6473caf",
   "metadata": {},
   "outputs": [],
   "source": [
    "Q3. What is abc module in python? Why is it used?\n",
    "Ans::The 'abc' module in Python library provides the infrastructure for defining custom abstract base classes. \n",
    "     An abstract class is mostly used to provide a base for subclasses to extend and implement the abstract methods and\n",
    "     override or use the implemented methods in abstract class."
   ]
  },
  {
   "cell_type": "code",
   "execution_count": null,
   "id": "1dbbf3a4-c711-4c4e-adc0-6ed8a268b977",
   "metadata": {},
   "outputs": [],
   "source": [
    "Data Abstraction can be achieved in two ways:\n",
    "Abstraction using classes: An abstraction can be achieved using classes. \n",
    "Abstraction in header files: An another type of abstraction is header file."
   ]
  }
 ],
 "metadata": {
  "kernelspec": {
   "display_name": "Python 3 (ipykernel)",
   "language": "python",
   "name": "python3"
  },
  "language_info": {
   "codemirror_mode": {
    "name": "ipython",
    "version": 3
   },
   "file_extension": ".py",
   "mimetype": "text/x-python",
   "name": "python",
   "nbconvert_exporter": "python",
   "pygments_lexer": "ipython3",
   "version": "3.10.8"
  }
 },
 "nbformat": 4,
 "nbformat_minor": 5
}
