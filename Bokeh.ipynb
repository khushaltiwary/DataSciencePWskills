{
 "cells": [
  {
   "cell_type": "code",
   "execution_count": null,
   "id": "85d0bf87-72b0-49db-b7bc-c7a59efd8a48",
   "metadata": {},
   "outputs": [],
   "source": [
    "How can you create a Bokeh plot using Python code?"
   ]
  },
  {
   "cell_type": "code",
   "execution_count": 1,
   "id": "aeb3e4b6-e8b0-4137-b3dc-0773dc32dec2",
   "metadata": {},
   "outputs": [],
   "source": [
    "# Import the necessary libraries\n",
    "from bokeh.plotting import figure, output_file, show\n",
    "\n",
    "# Define the data\n",
    "x_values = [1, 2, 3, 4, 5]\n",
    "y_values = [6, 7, 2, 4, 5]\n",
    "\n",
    "# Create a new plot with a title and axis labels\n",
    "p = figure(title=\"Simple Bokeh plot\", x_axis_label='X-axis', y_axis_label='Y-axis')\n",
    "\n",
    "# Add a line renderer with legend and line thickness\n",
    "p.line(x_values, y_values, legend_label=\"Line\", line_width=2)\n",
    "\n",
    "# Save the plot to an HTML file\n",
    "output_file(\"simple_bokeh_plot.html\")\n",
    "\n",
    "# Show the plot\n",
    "show(p)\n"
   ]
  },
  {
   "cell_type": "code",
   "execution_count": null,
   "id": "a6a66554-bda8-4f73-9f01-157b398f7dca",
   "metadata": {},
   "outputs": [],
   "source": [
    "Q2. What are glyphs in Bokeh, and how can you add them to a Bokeh plot? Explain with an example."
   ]
  },
  {
   "cell_type": "code",
   "execution_count": null,
   "id": "dd4723ae-393b-4bfc-8af1-a89e4580ae54",
   "metadata": {},
   "outputs": [],
   "source": [
    "Glyphs in Bokeh are visual markers used to represent data points in a plot, such as circles, squares, triangles, or lines.\n",
    "Glyphs can be customized with different colors, sizes, and styles to enhance the visualization of data"
   ]
  },
  {
   "cell_type": "code",
   "execution_count": null,
   "id": "6532cef2-409b-4285-a829-1582c5b4b051",
   "metadata": {},
   "outputs": [],
   "source": [
    "Q3. How can you customize the appearance of a Bokeh plot, including the axes, title, and legend?"
   ]
  },
  {
   "cell_type": "code",
   "execution_count": null,
   "id": "a68d0150-ea5b-4242-801b-469af7257819",
   "metadata": {},
   "outputs": [],
   "source": [
    "To customize the appearance of the x- and y-axes, you can modify properties of the axis objects. For example, to change the font size of the axis labels, you can set the axis_label_text_font_size property:"
   ]
  },
  {
   "cell_type": "code",
   "execution_count": null,
   "id": "1a54d00a-9091-4c91-b2d1-147a69d01e8e",
   "metadata": {},
   "outputs": [],
   "source": [
    "Q4. What is a Bokeh server, and how can you use it to create interactive plots that can be updated in\n",
    "real time?"
   ]
  },
  {
   "cell_type": "code",
   "execution_count": null,
   "id": "66c74798-af7a-4c7c-86d1-c2e46a1a05f2",
   "metadata": {},
   "outputs": [],
   "source": [
    "A Bokeh server is a Python program that allows you to create interactive web applications with Bokeh plots that can be updated in real time.\n",
    "The Bokeh server makes it easy to build complex and interactive applications by allowing you to define a Python callback function that can update the plot data and other properties in response to user input or other events."
   ]
  }
 ],
 "metadata": {
  "kernelspec": {
   "display_name": "Python 3 (ipykernel)",
   "language": "python",
   "name": "python3"
  },
  "language_info": {
   "codemirror_mode": {
    "name": "ipython",
    "version": 3
   },
   "file_extension": ".py",
   "mimetype": "text/x-python",
   "name": "python",
   "nbconvert_exporter": "python",
   "pygments_lexer": "ipython3",
   "version": "3.10.8"
  }
 },
 "nbformat": 4,
 "nbformat_minor": 5
}
