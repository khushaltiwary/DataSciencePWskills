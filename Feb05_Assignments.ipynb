{
 "cells": [
  {
   "cell_type": "markdown",
   "id": "704a5e58-74ee-4e3a-8be2-4dbd03ccf655",
   "metadata": {},
   "source": [
    "#Q1\n",
    "\n",
    "In object-oriented programming (OOP), a class is a blueprint or template for creating objects that define a set of attributes (data) and methods (functions) that the objects can have. An object, on the other hand, is an instance of a class that has its own unique set of attributes and methods.\n",
    "\n",
    "Let's take an example of a class called \"Car\". A Car class can have attributes such as make, model, color, and year, and methods such as start_engine, stop_engine, accelerate, and brake."
   ]
  },
  {
   "cell_type": "code",
   "execution_count": 1,
   "id": "8a59f37f-434b-4723-9e86-d5954523cd3b",
   "metadata": {},
   "outputs": [],
   "source": [
    "class Car:\n",
    "    def __init__(self, make, model, color, year):\n",
    "        self.make = make\n",
    "        self.model = model\n",
    "        self.color = color\n",
    "        self.year = year\n",
    "\n",
    "    def start_engine(self):\n",
    "        print(\"Engine started\")\n",
    "\n",
    "    def stop_engine(self):\n",
    "        print(\"Engine stopped\")\n",
    "\n",
    "    def accelerate(self):\n",
    "        print(\"Car is accelerating\")\n",
    "\n",
    "    def brake(self):\n",
    "        print(\"Car is braking\")\n"
   ]
  },
  {
   "cell_type": "code",
   "execution_count": 2,
   "id": "91273187-2ccb-455a-98f4-3836f5217576",
   "metadata": {},
   "outputs": [],
   "source": [
    "my_car = Car(\"Toyota\", \"Camry\", \"Red\", 2022)"
   ]
  },
  {
   "cell_type": "code",
   "execution_count": 4,
   "id": "03b40f65-402e-4243-b1e1-1569730a533d",
   "metadata": {},
   "outputs": [
    {
     "name": "stdout",
     "output_type": "stream",
     "text": [
      "Toyota\n",
      "Engine started\n"
     ]
    }
   ],
   "source": [
    "print(my_car.make)  \n",
    "\n",
    "my_car.start_engine()   \n"
   ]
  },
  {
   "cell_type": "markdown",
   "id": "74b62192-e123-4ce3-9832-5afb8b6cea56",
   "metadata": {},
   "source": [
    "# Q2\n",
    "The four pillars of object-oriented programming (OOP) are:\n",
    "\n",
    "    Encapsulation: Encapsulation refers to the practice of hiding the internal details of an object and providing a public interface through which other objects can interact with it. This helps to ensure that the object's state is not accidentally modified, and it provides a way to enforce data integrity and security.\n",
    "\n",
    "    Abstraction: Abstraction refers to the practice of representing complex real-world objects using simplified models that capture the essential features of the object while hiding unnecessary details. This helps to reduce the complexity of a system, making it easier to understand and modify.\n",
    "\n",
    "    Inheritance: Inheritance is a mechanism that allows new classes to be created based on existing classes. The new class inherits the properties and behavior of the existing class and can then add its own unique features or modify the behavior of the inherited features.\n",
    "\n",
    "    Polymorphism: Polymorphism refers to the ability of objects of different classes to be treated as if they were of the same class. This allows code to be written that can work with objects of multiple types, making it more flexible and adaptable."
   ]
  },
  {
   "cell_type": "markdown",
   "id": "ecc92d9f-ee6c-4d45-9c9d-b1e271395152",
   "metadata": {},
   "source": [
    "Q3\n",
    "\n",
    "In object-oriented programming, the __init__() function is a special method that is called when an object is created from a class. It is used to initialize the attributes of the object to their default or user-defined values.\n",
    "\n",
    "Here's an example to help illustrate this concept:"
   ]
  },
  {
   "cell_type": "code",
   "execution_count": 5,
   "id": "0e7b4914-20dc-4f66-9af6-7811153133ff",
   "metadata": {},
   "outputs": [
    {
     "name": "stdout",
     "output_type": "stream",
     "text": [
      "10\n",
      "5\n",
      "50\n"
     ]
    }
   ],
   "source": [
    "class Rectangle:\n",
    "    def __init__(self, length, width):\n",
    "        self.length = length\n",
    "        self.width = width\n",
    "    \n",
    "    def area(self):\n",
    "        return self.length * self.width\n",
    "\n",
    "    \n",
    "rect = Rectangle(10, 5)\n",
    "print(rect.length)   \n",
    "print(rect.width)   \n",
    "print(rect.area())   \n"
   ]
  },
  {
   "cell_type": "markdown",
   "id": "386fde11-278d-4c20-813f-424497b61e5d",
   "metadata": {},
   "source": [
    "Q4.\n",
    "In object-oriented programming, self is a special keyword that is used as the first parameter in a method definition to refer to the instance of the class that the method is being called on. It is a reference to the object itself, and allows the object to access its own attributes and methods."
   ]
  },
  {
   "cell_type": "markdown",
   "id": "86c5b5fb-94dc-471b-89cb-e4f065e946f3",
   "metadata": {},
   "source": [
    "Q5.\n",
    "Inheritance is a fundamental concept in object-oriented programming that allows a new class to be based on an existing class, inheriting its attributes and methods. The existing class is called the parent class, base class, or super class, and the new class is called the child class, derived class, or sub class.\n",
    "\n",
    "There are four types of inheritance:\n",
    "\n",
    "    Single Inheritance: In single inheritance, a child class inherits from a single parent class.\n",
    "\n",
    "Example:"
   ]
  },
  {
   "cell_type": "code",
   "execution_count": 6,
   "id": "9381d634-0ce8-42b0-803d-4764deebd3af",
   "metadata": {},
   "outputs": [
    {
     "name": "stdout",
     "output_type": "stream",
     "text": [
      "Buddy is eating.\n",
      "Woof!\n"
     ]
    }
   ],
   "source": [
    "class Animal:\n",
    "    def __init__(self, name):\n",
    "        self.name = name\n",
    "    \n",
    "    def eat(self):\n",
    "        print(f\"{self.name} is eating.\")\n",
    "\n",
    "class Dog(Animal):\n",
    "    def bark(self):\n",
    "        print(\"Woof!\")\n",
    "\n",
    "my_dog = Dog(\"Buddy\")\n",
    "my_dog.eat() \n",
    "my_dog.bark()  \n"
   ]
  },
  {
   "cell_type": "markdown",
   "id": "3f21aafc-16ab-4a99-ac15-28e58d625f38",
   "metadata": {},
   "source": [
    "    Multiple Inheritance: In multiple inheritance, a child class inherits from multiple parent classes.\n",
    "\n",
    "Example:"
   ]
  },
  {
   "cell_type": "code",
   "execution_count": 7,
   "id": "f34957a3-2389-4b2c-8894-01f0ee373e42",
   "metadata": {},
   "outputs": [
    {
     "name": "stdout",
     "output_type": "stream",
     "text": [
      "I'm flying!\n",
      "I'm swimming!\n",
      "Quack!\n"
     ]
    }
   ],
   "source": [
    "class Flyable:\n",
    "    def fly(self):\n",
    "        print(\"I'm flying!\")\n",
    "        \n",
    "class Swimmable:\n",
    "    def swim(self):\n",
    "        print(\"I'm swimming!\")\n",
    "\n",
    "class Duck(Flyable, Swimmable):\n",
    "    def quack(self):\n",
    "        print(\"Quack!\")\n",
    "\n",
    "my_duck = Duck()\n",
    "my_duck.fly()   \n",
    "my_duck.swim() \n",
    "my_duck.quack()\n"
   ]
  },
  {
   "cell_type": "markdown",
   "id": "52e8761e-25ac-479b-92de-d32e335c6145",
   "metadata": {},
   "source": [
    "    Multi-level Inheritance: In multi-level inheritance, a child class inherits from a parent class, which in turn inherits from another parent class.\n",
    "\n",
    "Example:"
   ]
  },
  {
   "cell_type": "code",
   "execution_count": 8,
   "id": "0d116e20-a891-40c5-95fd-4746123cdc18",
   "metadata": {},
   "outputs": [
    {
     "name": "stdout",
     "output_type": "stream",
     "text": [
      "Buddy is eating.\n",
      "Woof!\n",
      "Fetching...\n"
     ]
    }
   ],
   "source": [
    "class Animal:\n",
    "    def __init__(self, name):\n",
    "        self.name = name\n",
    "    \n",
    "    def eat(self):\n",
    "        print(f\"{self.name} is eating.\")\n",
    "\n",
    "class Dog(Animal):\n",
    "    def bark(self):\n",
    "        print(\"Woof!\")\n",
    "\n",
    "class Labrador(Dog):\n",
    "    def fetch(self):\n",
    "        print(\"Fetching...\")\n",
    "\n",
    "my_lab = Labrador(\"Buddy\")\n",
    "my_lab.eat()   \n",
    "my_lab.bark()  \n",
    "my_lab.fetch() \n"
   ]
  },
  {
   "cell_type": "code",
   "execution_count": null,
   "id": "1ff30c1f-34b3-4901-9f7b-e30fa0269ab9",
   "metadata": {},
   "outputs": [],
   "source": []
  }
 ],
 "metadata": {
  "kernelspec": {
   "display_name": "Python 3 (ipykernel)",
   "language": "python",
   "name": "python3"
  },
  "language_info": {
   "codemirror_mode": {
    "name": "ipython",
    "version": 3
   },
   "file_extension": ".py",
   "mimetype": "text/x-python",
   "name": "python",
   "nbconvert_exporter": "python",
   "pygments_lexer": "ipython3",
   "version": "3.10.8"
  }
 },
 "nbformat": 4,
 "nbformat_minor": 5
}
