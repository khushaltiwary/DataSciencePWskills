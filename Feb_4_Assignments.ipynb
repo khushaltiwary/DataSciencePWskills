{
 "cells": [
  {
   "cell_type": "code",
   "execution_count": 12,
   "id": "107d8801-6c2d-44f3-a140-9d1443a13cac",
   "metadata": {},
   "outputs": [
    {
     "name": "stdout",
     "output_type": "stream",
     "text": [
      "[('Virat Kohli', 24936), ('Jack Kallis', 25534), ('Ricky Ponting', 27483), ('Sachin Tendulkar', 34357)]\n"
     ]
    }
   ],
   "source": [
    "# Q1. Lambda func ---\n",
    "tup = [('Sachin Tendulkar', 34357), ('Ricky Ponting', 27483), ('Jack Kallis', 25534), ('Virat Kohli', 24936)]\n",
    "\n",
    "tup.sort(key=lambda x : x[1])\n",
    "print(tup)"
   ]
  },
  {
   "cell_type": "code",
   "execution_count": 16,
   "id": "e37eb2a1-afb9-4ece-8a27-64179f794ca2",
   "metadata": {},
   "outputs": [
    {
     "name": "stdout",
     "output_type": "stream",
     "text": [
      "[1, 16, 36, 4, 81, 9, 81]\n"
     ]
    }
   ],
   "source": [
    "#Q2 Sq using lambda n Mao Func ----->\n",
    "\n",
    "L = [1,4,6,2,9,3,9]\n",
    "result = map(lambda x : x**2, L)\n",
    "print(list(result))"
   ]
  },
  {
   "cell_type": "code",
   "execution_count": 19,
   "id": "c28b2e42-8c24-440c-9e05-347c6bc8c908",
   "metadata": {},
   "outputs": [
    {
     "data": {
      "text/plain": [
       "('1', '2', '3', '4', '5', '6', '7', '8', '9', '10')"
      ]
     },
     "execution_count": 19,
     "metadata": {},
     "output_type": "execute_result"
    }
   ],
   "source": [
    "#  Q3. python program to convert the given list of integers into a tuple of strings. Use map and\n",
    "# lambda functions --------->\n",
    "\n",
    "L = [1, 2, 3, 4, 5, 6, 7, 8, 9, 10]\n",
    "result = tuple(map(lambda x : str(x),L))\n",
    "result"
   ]
  },
  {
   "cell_type": "code",
   "execution_count": 25,
   "id": "72b5a24b-df79-433f-affc-b202fe4966c6",
   "metadata": {},
   "outputs": [
    {
     "name": "stdout",
     "output_type": "stream",
     "text": [
      "15511210043330985984000000\n"
     ]
    }
   ],
   "source": [
    "# Q4 Write a python program using reduce function to compute the product of a list containing numbers\n",
    "# from 1 to 25. ----------->\n",
    "\n",
    "import functools\n",
    "\n",
    "l = []\n",
    "for i in range(1,26):\n",
    "    l.append(i)\n",
    "\n",
    "print(functools.reduce(lambda x,y : x*y , l))    "
   ]
  },
  {
   "cell_type": "code",
   "execution_count": 31,
   "id": "008ab615-d7a1-40b0-81d6-e7e23365030b",
   "metadata": {},
   "outputs": [
    {
     "name": "stdout",
     "output_type": "stream",
     "text": [
      "[6, 60, 90, 120]\n"
     ]
    }
   ],
   "source": [
    "# Q5 . Write a python program to filter the numbers in a given list that are divisible by 2 and 3 using the\n",
    "# filter function. ------------->\n",
    "\n",
    "l = [2, 3, 6, 9, 27, 60, 90, 120, 55, 46]\n",
    "result = list(filter(lambda x : (x%2==0 and x%3==0),l))\n",
    "print(result)     "
   ]
  },
  {
   "cell_type": "code",
   "execution_count": 34,
   "id": "4b9b779f-19f1-449a-92e2-ac512926ea8b",
   "metadata": {},
   "outputs": [
    {
     "name": "stdout",
     "output_type": "stream",
     "text": [
      "['php', 'aba', 'radar', 'level']\n"
     ]
    }
   ],
   "source": [
    "# Q6.  Write a python program to find palindromes in the given list of strings using lambda and filter\n",
    "# function.\n",
    "# ['python', 'php', 'aba', 'radar', 'level'] ---------->\n",
    "\n",
    "l = ['python', 'php', 'aba', 'radar', 'level']\n",
    "\n",
    "panlin = list(filter(lambda x : x==x[::-1],l))\n",
    "print(panlin)\n"
   ]
  },
  {
   "cell_type": "code",
   "execution_count": null,
   "id": "7e08084c-862f-4192-ac4c-58ddebe1205f",
   "metadata": {},
   "outputs": [],
   "source": []
  }
 ],
 "metadata": {
  "kernelspec": {
   "display_name": "Python 3 (ipykernel)",
   "language": "python",
   "name": "python3"
  },
  "language_info": {
   "codemirror_mode": {
    "name": "ipython",
    "version": 3
   },
   "file_extension": ".py",
   "mimetype": "text/x-python",
   "name": "python",
   "nbconvert_exporter": "python",
   "pygments_lexer": "ipython3",
   "version": "3.10.8"
  }
 },
 "nbformat": 4,
 "nbformat_minor": 5
}
