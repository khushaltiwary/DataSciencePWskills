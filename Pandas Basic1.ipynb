{
 "cells": [
  {
   "cell_type": "code",
   "execution_count": 1,
   "id": "a5b0fda4-bd5c-40b2-aeaa-c562f6ef1832",
   "metadata": {},
   "outputs": [],
   "source": [
    "#Q1 \n",
    "import pandas as pd"
   ]
  },
  {
   "cell_type": "code",
   "execution_count": 4,
   "id": "52c49b8e-7ea5-4458-b6d5-02bbd573a1ce",
   "metadata": {},
   "outputs": [],
   "source": [
    "series = pd.Series([4, 8, 15, 16, 23,42])"
   ]
  },
  {
   "cell_type": "code",
   "execution_count": 5,
   "id": "98c57091-7c34-483b-921c-c490230903ce",
   "metadata": {},
   "outputs": [
    {
     "data": {
      "text/plain": [
       "0     4\n",
       "1     8\n",
       "2    15\n",
       "3    16\n",
       "4    23\n",
       "5    42\n",
       "dtype: int64"
      ]
     },
     "execution_count": 5,
     "metadata": {},
     "output_type": "execute_result"
    }
   ],
   "source": [
    "series"
   ]
  },
  {
   "cell_type": "code",
   "execution_count": 8,
   "id": "8e6e7121-54e7-45bb-bb76-1e2783fa691b",
   "metadata": {},
   "outputs": [
    {
     "data": {
      "text/plain": [
       "0      0\n",
       "1      1\n",
       "2      2\n",
       "3      3\n",
       "4      4\n",
       "5      5\n",
       "6      6\n",
       "7      7\n",
       "8      8\n",
       "9      9\n",
       "10    10\n",
       "dtype: int64"
      ]
     },
     "execution_count": 8,
     "metadata": {},
     "output_type": "execute_result"
    }
   ],
   "source": [
    "# Q2\n",
    "list = []\n",
    "for i in range(0,11):\n",
    "    list.append(i)\n",
    "\n",
    "series = pd.Series(list)\n",
    "series"
   ]
  },
  {
   "cell_type": "code",
   "execution_count": 9,
   "id": "c5a729f7-6855-43f1-abbb-386b75f56012",
   "metadata": {},
   "outputs": [
    {
     "name": "stdout",
     "output_type": "stream",
     "text": [
      "   Gender    Name  Age\n",
      "0  Female   Alice   25\n",
      "1    Male     Bob   30\n",
      "2  Female  Claire   27\n"
     ]
    }
   ],
   "source": [
    "#Q3\n",
    "\n",
    "data = {'Gender': ['Female', 'Male', 'Female'],\n",
    "        'Name': ['Alice', 'Bob', 'Claire'],\n",
    "        'Age': [25, 30, 27]}\n",
    "\n",
    "# Create the Pandas DataFrame\n",
    "df = pd.DataFrame(data)\n",
    "\n",
    "# Print the DataFrame\n",
    "print(df)\n"
   ]
  },
  {
   "cell_type": "markdown",
   "id": "5134f5b7-2a0b-43d6-8462-7704edf55cfc",
   "metadata": {},
   "source": [
    "#Q4\n",
    "\n",
    "In Pandas, a DataFrame is a two-dimensional, size-mutable, tabular data structure with rows and columns, similar to a spreadsheet or SQL table. It is a core data structure in Pandas, and provides a flexible and powerful way to work with data.\n",
    "\n",
    "On the other hand, a Series is a one-dimensional labeled array capable of holding any data type. It is similar to a column in a spreadsheet or a column in a database table. A Series has an index that labels each element in the array.\n",
    "\n",
    "The main difference between a DataFrame and a Series is that a DataFrame is a two-dimensional object, while a Series is a one-dimensional object.\n",
    "\n",
    "Here's an example to illustrate the difference:"
   ]
  },
  {
   "cell_type": "code",
   "execution_count": 10,
   "id": "c3e77a71-21e4-4a31-a262-32bbdd6ebb7e",
   "metadata": {},
   "outputs": [
    {
     "name": "stdout",
     "output_type": "stream",
     "text": [
      "a    1\n",
      "b    2\n",
      "c    3\n",
      "dtype: int64\n"
     ]
    }
   ],
   "source": [
    "import pandas as pd\n",
    "\n",
    "# Create a dictionary containing data for a Pandas Series\n",
    "data = {'a': 1, 'b': 2, 'c': 3}\n",
    "\n",
    "# Create a Pandas Series from the dictionary\n",
    "my_series = pd.Series(data)\n",
    "\n",
    "# Print the series\n",
    "print(my_series)\n",
    "\n",
    "\n"
   ]
  },
  {
   "cell_type": "code",
   "execution_count": 11,
   "id": "b0e82a61-10f2-4d90-b507-67e4eca1b1da",
   "metadata": {},
   "outputs": [
    {
     "name": "stdout",
     "output_type": "stream",
     "text": [
      "     Name  Age  Gender\n",
      "0   Alice   25  Female\n",
      "1     Bob   30    Male\n",
      "2  Claire   27  Female\n"
     ]
    }
   ],
   "source": [
    "import pandas as pd\n",
    "\n",
    "# Create a dictionary containing data for a Pandas DataFrame\n",
    "data = {'Name': ['Alice', 'Bob', 'Claire'],\n",
    "        'Age': [25, 30, 27],\n",
    "        'Gender': ['Female', 'Male', 'Female']}\n",
    "\n",
    "# Create a Pandas DataFrame from the dictionary\n",
    "my_dataframe = pd.DataFrame(data)\n",
    "\n",
    "# Print the DataFrame\n",
    "print(my_dataframe)\n"
   ]
  },
  {
   "cell_type": "markdown",
   "id": "8d57dddc-d8da-4607-b4b7-cfe22b71797a",
   "metadata": {},
   "source": [
    "#Q5\n",
    "Pandas provides a wide range of functions for manipulating data in a DataFrame. Some of the commonly used functions are:\n",
    "\n",
    "    head(n) and tail(n): These functions are used to display the first n rows or last n rows of a DataFrame. For example, df.head(10) will display the first 10 rows of the DataFrame df.\n",
    "\n",
    "    describe(): This function is used to display statistical summary of the DataFrame, including count, mean, standard deviation, minimum and maximum values, and quartiles. For example, df.describe() will display the statistical summary of the DataFrame df.\n",
    "\n",
    "    drop(columns=[col1, col2]): This function is used to drop one or more columns from a DataFrame. For example, df.drop(columns=['col1', 'col2']) will drop columns col1 and col2 from the DataFrame df.\n",
    "\n",
    "    groupby(): This function is used to group data in a DataFrame based on one or more columns. For example, df.groupby(['col1', 'col2']) will group data in the DataFrame df by columns col1 and col2.\n",
    "\n",
    "    sort_values(by=['col1', 'col2'], ascending=[True, False]): This function is used to sort a DataFrame by one or more columns in ascending or descending order. For example, df.sort_values(by=['col1', 'col2'], ascending=[True, False]) will sort the DataFrame df by column col1 in ascending order and column col2 in descending order.\n",
    "\n",
    "    fillna(value): This function is used to fill missing values in a DataFrame with a specified value. For example, df.fillna(0) will fill all missing values in the DataFrame df with the value 0."
   ]
  },
  {
   "cell_type": "markdown",
   "id": "10cfe7da-3486-48ec-85dd-32d9a6359174",
   "metadata": {},
   "source": [
    "#Q6\n",
    "Series and DataFrame are mutable in nature. We can modify the values in a Series or DataFrame after it has been created by assignment or using various built-in functions. Panel, on the other hand, is generally not used much in modern Pandas code and has been deprecated since version 0.25.0."
   ]
  },
  {
   "cell_type": "code",
   "execution_count": 12,
   "id": "78de4f88-5a78-4fb0-b38a-c36e0b703099",
   "metadata": {},
   "outputs": [
    {
     "name": "stdout",
     "output_type": "stream",
     "text": [
      "      Name  Age  Gender\n",
      "0    Alice   25  Female\n",
      "1      Bob   30    Male\n",
      "2  Charlie   27    Male\n"
     ]
    }
   ],
   "source": [
    "#Q7\n",
    "\n",
    "import pandas as pd\n",
    "\n",
    "# Create the first Series\n",
    "names = pd.Series(['Alice', 'Bob', 'Charlie'])\n",
    "\n",
    "# Create the second Series\n",
    "ages = pd.Series([25, 30, 27])\n",
    "\n",
    "# Create the third Series\n",
    "genders = pd.Series(['Female', 'Male', 'Male'])\n",
    "\n",
    "# Create the DataFrame using the Series\n",
    "df = pd.DataFrame({'Name': names, 'Age': ages, 'Gender': genders})\n",
    "\n",
    "# Print the DataFrame\n",
    "print(df)\n"
   ]
  },
  {
   "cell_type": "code",
   "execution_count": null,
   "id": "61dd0149-e88e-4a4d-8e93-e5aac6e91f8b",
   "metadata": {},
   "outputs": [],
   "source": []
  }
 ],
 "metadata": {
  "kernelspec": {
   "display_name": "Python 3 (ipykernel)",
   "language": "python",
   "name": "python3"
  },
  "language_info": {
   "codemirror_mode": {
    "name": "ipython",
    "version": 3
   },
   "file_extension": ".py",
   "mimetype": "text/x-python",
   "name": "python",
   "nbconvert_exporter": "python",
   "pygments_lexer": "ipython3",
   "version": "3.10.8"
  }
 },
 "nbformat": 4,
 "nbformat_minor": 5
}
