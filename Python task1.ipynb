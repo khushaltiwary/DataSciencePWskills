{
 "cells": [
  {
   "cell_type": "code",
   "execution_count": null,
   "id": "b6d3a5bf-5e3f-4a9c-8ba7-f9729b04b357",
   "metadata": {},
   "outputs": [],
   "source": [
    "Q1. Create a function which will take a list as an argument and return the product of all the numbers\n",
    "after creating a flat list.\n",
    "Use the below-given list as an argument for your function.\n",
    "list1 = [1,2,3,4, [44,55,66, True], False, (34,56,78,89,34), {1,2,3,3,2,1}, {1:34, \"key2\": [55, 67, 78, 89], 4: (45,\n",
    "22, 61, 34)}, [56, 'data science'], 'Machine Learning']\n",
    "Note: you must extract numeric keys and values of the dictionary also."
   ]
  },
  {
   "cell_type": "code",
   "execution_count": 14,
   "id": "7c99a2b0-4362-4d8b-af12-4f0da70fd09c",
   "metadata": {},
   "outputs": [],
   "source": [
    "list1 = [1,2,3,4, [44,55,66, True], False, (34,56,78,89,34), {1,2,3,3,2,1}, {1:34, \"key2\": [55, 67, 78, 89], 4: (45,\n",
    "22, 61, 34)}, [56, 'data science'], 'Machine Learning']"
   ]
  },
  {
   "cell_type": "code",
   "execution_count": 7,
   "id": "87df6f29-2a99-4c00-ac98-07a294147a7d",
   "metadata": {},
   "outputs": [
    {
     "name": "stdout",
     "output_type": "stream",
     "text": [
      "Flat List:  [1, 2, 3, 4, 44, 55, 66, 34, 56, 78, 89, 34, 1, 2, 3, 1, 4, 34, 55, 67, 78, 89, 45, 22, 61, 34, 56]\n",
      "Product of all the numbers:  4134711838987085478833841242112000\n"
     ]
    }
   ],
   "source": [
    "def flat_func(given_collection):\n",
    "    flat_list=[]\n",
    "    for each_element in given_collection:\n",
    "        if type(each_element)==int or type(each_element)==float:\n",
    "            flat_list.append(each_element)\n",
    "        #elif type(each_element)==bool:\n",
    "         #   flat_list.append(int(each_element))\n",
    "        elif type(each_element)==list or type(each_element)==set or type(each_element)==tuple:\n",
    "            flat_list.extend(flat_func(each_element))\n",
    "        elif type(each_element)==dict:\n",
    "            for each_nested_element in each_element.keys():\n",
    "                if type(each_nested_element)==int or type(each_nested_element)==float:\n",
    "                    flat_list.append(each_nested_element)\n",
    "            for each_nested_element in each_element.values():\n",
    "                if type(each_nested_element)==int or type(each_nested_element)==float:\n",
    "                    flat_list.append(each_nested_element)\n",
    "                elif type(each_nested_element)==list or type(each_nested_element)==tuple or type(each_nested_element)==set:\n",
    "                    flat_list.extend(flat_func(each_nested_element))\n",
    "\n",
    "    return flat_list\n",
    "\n",
    "\n",
    "given_list = [1,2,3,4,[44,55,66,True],False,(34,56,78,89,34),{1,2,3,3,2,1},{1:34,'key2':[55,67,78,89],4:(45,22,61,34)},[56,'data science'],'Machine Learning']\n",
    "\n",
    "flat_list=flat_func(given_list)\n",
    "\n",
    "result = 1\n",
    "for each_element in flat_list:\n",
    "    result = result*each_element\n",
    "\n",
    "print('Flat List: ', flat_list)\n",
    "print('Product of all the numbers: ',result)"
   ]
  },
  {
   "cell_type": "code",
   "execution_count": 56,
   "id": "dc2ba450-1ed7-46c7-b02d-8ee7c122d6ff",
   "metadata": {},
   "outputs": [],
   "source": [
    "Q2. Write a python program for encrypting a message sent to you by your friend. The logic of encryption\n",
    "should be such that, for a the output should be z. For b, the output should be y. For c, the output should\n",
    "be x respectively. Also, the whitespace should be replaced with a dollar sign. Keep the punctuation\n",
    "marks unchanged.\n",
    "Input Sentence: I want to become a Data Scientist.\n",
    "Encrypt the above input sentence using the program you just created.\n",
    "Note: Convert the given input sentence into lowercase before encrypting. The final output should be\n",
    "lowercase."
   ]
  },
  {
   "cell_type": "code",
   "execution_count": 17,
   "id": "8e1cdfc7-1329-4344-94e2-9aeda18d483a",
   "metadata": {},
   "outputs": [
    {
     "name": "stdout",
     "output_type": "stream",
     "text": [
      "i$wznt$to$yexome$z$dztz$sxientist.\n",
      "i$wznt$to$yexome$z$dztz$sxientist.\n",
      "i$wznt$to$yexome$z$dztz$sxientist.\n",
      "i$wznt$to$yexome$z$dztz$sxientist.\n"
     ]
    }
   ],
   "source": [
    "user = \"I want to become a Data Scientist.\"\n",
    "d={ \"a\":\"z\",\"b\":\"y\",\"c\":\"x\",\" \":\"$\" }\n",
    "    \n",
    "num=user.lower()\n",
    "for i in d:\n",
    "    num = num.replace('a','z')\n",
    "    num = num.replace('b','y')\n",
    "    num = num.replace('c','x')\n",
    "    num = num.replace(' ','$')\n",
    "    print(num)\n",
    "   \n",
    "    \n",
    "    "
   ]
  },
  {
   "cell_type": "code",
   "execution_count": null,
   "id": "7b841d0c-4afa-4b38-b0ba-b3c6ec3c9578",
   "metadata": {},
   "outputs": [],
   "source": []
  }
 ],
 "metadata": {
  "kernelspec": {
   "display_name": "Python 3 (ipykernel)",
   "language": "python",
   "name": "python3"
  },
  "language_info": {
   "codemirror_mode": {
    "name": "ipython",
    "version": 3
   },
   "file_extension": ".py",
   "mimetype": "text/x-python",
   "name": "python",
   "nbconvert_exporter": "python",
   "pygments_lexer": "ipython3",
   "version": "3.10.8"
  }
 },
 "nbformat": 4,
 "nbformat_minor": 5
}
